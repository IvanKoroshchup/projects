{
 "cells": [
  {
   "cell_type": "markdown",
   "metadata": {},
   "source": [
    "### Промышленность. Построение модели предсказания температуры стали"
   ]
  },
  {
   "cell_type": "markdown",
   "metadata": {},
   "source": [
    "#### Задача\n",
    "Построить модель, предсказывающую фактическую темппературу расплавленной стали в ковше. Как основание- табличные данные, с указанием содержащихся прибавок, инертного газа и начальной температуры смеси"
   ]
  },
  {
   "cell_type": "markdown",
   "metadata": {},
   "source": [
    "#### Описание этапа обработки:\n",
    " - Расплавленную сталь заливают в ковш\n",
    " - Измеряют температуру стали и производят её химический анализ\n",
    " - Температуру на несколько минут повышают графитовыми электродами, добавляют сыпучие добавки, продувают газом\n",
    " - Перемешивают и снова проводят измерения\n",
    " Такой цикл повторяется, пока не будет найден целевой хим состав стали"
   ]
  },
  {
   "cell_type": "markdown",
   "metadata": {},
   "source": [
    "#### Описание данных:\n",
    "Данные состоят из файлов, полученных из разных источников:\n",
    "\n",
    "- `data_arc.csv` — данные об электродах;\n",
    "- `data_bulk.csv` — данные о подаче сыпучих материалов (объём);\n",
    "- `data_bulk_time.csv` *—* данные о подаче сыпучих материалов (время);\n",
    "- `data_gas.csv` — данные о продувке сплава газом;\n",
    "- `data_temp.csv` — результаты измерения температуры;\n",
    "- `data_wire.csv` — данные о проволочных материалах (объём);\n",
    "- `data_wire_time.csv` — данные о проволочных материалах (время).\n",
    "\n",
    "Во всех файлах столбец `key` содержит номер партии. В файлах может быть несколько строк с одинаковым значением `key`: они соответствуют разным итерациям обработки."
   ]
  },
  {
   "cell_type": "markdown",
   "metadata": {},
   "source": [
    "#### План работ:\n",
    " 1. Загрузим данные\n",
    " 2. Подготовим данные\n",
    "     - соединим таблицы по колонке key, целевой показатель - температура\n",
    "     - сгруппируем таблицы по партиям. Структура итоговой таблицы перед запуском модели должна выглядеть так: начальная температура -> затраченная мощность(сумма по всей партии) и добавки(сумма по всей партии) -> конечная температура (время уберем)\n",
    "     - таблицы о времени \"data_wire_time.csv\" и \"data_bulk_time.csv\" нам в исследовании не нужны\n",
    "     - удалим пропуски\n",
    "     - исключим партии, у которых только 1 измерение температур\n",
    "     - проверим данные на выбросы\n",
    " 3. Исследовательский анализ данных\n",
    "     - разобъем данные на тренировочную, валидационную и тестовую выборки\n",
    "     - Применим модель дерева решений, это простейшая модель, её применим для оценки значимости различных признаков, попробуем разные признаки и посмотрим какие будут больше влиять на итоговый MAE\n",
    " 4. Работа с моделями\n",
    "     - Поскольку задача на табличные данные, применим модели: 1- дерево, 2 -лес деревьев, 3-линейная регрессия, 4-СatBoost\n",
    " 5. Финальный отчет по проекту"
   ]
  },
  {
   "cell_type": "markdown",
   "metadata": {},
   "source": [
    "### 1 Загрузим данные, импортируем необходимые библиотеки "
   ]
  },
  {
   "cell_type": "code",
   "execution_count": 1,
   "metadata": {},
   "outputs": [
    {
     "name": "stdout",
     "output_type": "stream",
     "text": [
      "Requirement already satisfied: catboost in c:\\users\\92992\\anaconda3\\lib\\site-packages (0.26)\n",
      "Requirement already satisfied: numpy>=1.16.0 in c:\\users\\92992\\anaconda3\\lib\\site-packages (from catboost) (1.19.2)\n",
      "Requirement already satisfied: graphviz in c:\\users\\92992\\anaconda3\\lib\\site-packages (from catboost) (0.16)\n",
      "Requirement already satisfied: scipy in c:\\users\\92992\\anaconda3\\lib\\site-packages (from catboost) (1.5.2)\n",
      "Requirement already satisfied: pandas>=0.24.0 in c:\\users\\92992\\anaconda3\\lib\\site-packages (from catboost) (1.1.3)\n",
      "Requirement already satisfied: six in c:\\users\\92992\\anaconda3\\lib\\site-packages (from catboost) (1.15.0)\n",
      "Requirement already satisfied: matplotlib in c:\\users\\92992\\anaconda3\\lib\\site-packages (from catboost) (3.3.2)\n",
      "Requirement already satisfied: plotly in c:\\users\\92992\\anaconda3\\lib\\site-packages (from catboost) (5.1.0)\n",
      "Requirement already satisfied: python-dateutil>=2.7.3 in c:\\users\\92992\\anaconda3\\lib\\site-packages (from pandas>=0.24.0->catboost) (2.8.1)\n",
      "Requirement already satisfied: pytz>=2017.2 in c:\\users\\92992\\anaconda3\\lib\\site-packages (from pandas>=0.24.0->catboost) (2020.1)\n",
      "Requirement already satisfied: certifi>=2020.06.20 in c:\\users\\92992\\anaconda3\\lib\\site-packages (from matplotlib->catboost) (2020.6.20)\n",
      "Requirement already satisfied: pyparsing!=2.0.4,!=2.1.2,!=2.1.6,>=2.0.3 in c:\\users\\92992\\anaconda3\\lib\\site-packages (from matplotlib->catboost) (2.4.7)\n",
      "Requirement already satisfied: kiwisolver>=1.0.1 in c:\\users\\92992\\anaconda3\\lib\\site-packages (from matplotlib->catboost) (1.3.0)\n",
      "Requirement already satisfied: pillow>=6.2.0 in c:\\users\\92992\\anaconda3\\lib\\site-packages (from matplotlib->catboost) (8.0.1)\n",
      "Requirement already satisfied: cycler>=0.10 in c:\\users\\92992\\anaconda3\\lib\\site-packages (from matplotlib->catboost) (0.10.0)\n",
      "Requirement already satisfied: tenacity>=6.2.0 in c:\\users\\92992\\anaconda3\\lib\\site-packages (from plotly->catboost) (7.0.0)\n"
     ]
    }
   ],
   "source": [
    "import pandas as pd\n",
    "from sklearn.model_selection import train_test_split\n",
    "from sklearn.metrics import mean_absolute_error\n",
    "! pip install catboost\n",
    "import seaborn as sns\n",
    "import matplotlib.pyplot as plt\n",
    "from sklearn.preprocessing import StandardScaler\n",
    "from sklearn.tree import DecisionTreeRegressor\n",
    "from sklearn.ensemble import RandomForestRegressor\n",
    "from sklearn.linear_model import LinearRegression\n",
    "from catboost import CatBoostRegressor"
   ]
  },
  {
   "cell_type": "code",
   "execution_count": 2,
   "metadata": {},
   "outputs": [],
   "source": [
    "electrod = pd.read_csv(r'C:\\Users\\92992\\Desktop\\Data Science\\финальный проект\\final_steel\\data_arc.csv')\n",
    "ingredient_1 = pd.read_csv(r'C:\\Users\\92992\\Desktop\\Data Science\\финальный проект\\final_steel\\data_bulk.csv')\n",
    "ingredient_2 = pd.read_csv(r'C:\\Users\\92992\\Desktop\\Data Science\\финальный проект\\final_steel\\data_wire.csv')\n",
    "gas = pd.read_csv(r'C:\\Users\\92992\\Desktop\\Data Science\\финальный проект\\final_steel\\data_gas.csv')\n",
    "temp = pd.read_csv(r'C:\\Users\\92992\\Desktop\\Data Science\\финальный проект\\final_steel\\data_temp.csv')"
   ]
  },
  {
   "cell_type": "raw",
   "metadata": {},
   "source": [
    "electrod = pd.read_csv('/datasets/final_steel/data_arc.csv')\n",
    "ingredient_1 = pd.read_csv('/datasets/final_steel/data_bulk.csv')\n",
    "#data_bulk_time = pd.read_csv('/datasets/final_steel/data_bulk_time.csv')\n",
    "gas = pd.read_csv('/datasets/final_steel/data_gas.csv')\n",
    "temp = pd.read_csv('/datasets/final_steel/data_temp.csv')\n",
    "ingredient_2 = pd.read_csv('/datasets/final_steel/data_wire.csv')\n",
    "#data_wire_time = pd.read_csv('/datasets/final_steel/data_wire_time.csv')\n"
   ]
  },
  {
   "cell_type": "markdown",
   "metadata": {},
   "source": [
    "Посмотрим размеры таблиц"
   ]
  },
  {
   "cell_type": "code",
   "execution_count": 3,
   "metadata": {},
   "outputs": [
    {
     "name": "stdout",
     "output_type": "stream",
     "text": [
      "Размеры таблицы с показаниями на электродах (14876, 5)\n",
      "Размеры таблицы с показаниями вводимых ингридиентов 1 тип (3129, 16)\n",
      "Размеры таблицы с показаниями вводимых ингридиентов 2 тип (3081, 10)\n",
      "Размеры таблицы с показаниями вводимого инертного газа (3239, 2)\n",
      "Размеры таблицы с финальными замерами температуры (15907, 3)\n"
     ]
    }
   ],
   "source": [
    "print('Размеры таблицы с показаниями на электродах', electrod.shape)\n",
    "print('Размеры таблицы с показаниями вводимых ингридиентов 1 тип', ingredient_1.shape)\n",
    "print('Размеры таблицы с показаниями вводимых ингридиентов 2 тип', ingredient_2.shape)\n",
    "print('Размеры таблицы с показаниями вводимого инертного газа', gas.shape)\n",
    "print('Размеры таблицы с финальными замерами температуры', temp.shape)"
   ]
  },
  {
   "cell_type": "markdown",
   "metadata": {},
   "source": [
    "> Вывод: размеры таблиц разнятся, или в некоторых их них есть пропуски данных, или в некоторых более одной строчки с партиями (колонка key)"
   ]
  },
  {
   "cell_type": "markdown",
   "metadata": {},
   "source": [
    "Для наглядности выведем по паре строк каждой таблицы"
   ]
  },
  {
   "cell_type": "code",
   "execution_count": 4,
   "metadata": {},
   "outputs": [
    {
     "data": {
      "text/html": [
       "<div>\n",
       "<style scoped>\n",
       "    .dataframe tbody tr th:only-of-type {\n",
       "        vertical-align: middle;\n",
       "    }\n",
       "\n",
       "    .dataframe tbody tr th {\n",
       "        vertical-align: top;\n",
       "    }\n",
       "\n",
       "    .dataframe thead th {\n",
       "        text-align: right;\n",
       "    }\n",
       "</style>\n",
       "<table border=\"1\" class=\"dataframe\">\n",
       "  <thead>\n",
       "    <tr style=\"text-align: right;\">\n",
       "      <th></th>\n",
       "      <th>key</th>\n",
       "      <th>Начало нагрева дугой</th>\n",
       "      <th>Конец нагрева дугой</th>\n",
       "      <th>Активная мощность</th>\n",
       "      <th>Реактивная мощность</th>\n",
       "    </tr>\n",
       "  </thead>\n",
       "  <tbody>\n",
       "    <tr>\n",
       "      <th>0</th>\n",
       "      <td>1</td>\n",
       "      <td>2019-05-03 11:02:14</td>\n",
       "      <td>2019-05-03 11:06:02</td>\n",
       "      <td>0.976059</td>\n",
       "      <td>0.687084</td>\n",
       "    </tr>\n",
       "    <tr>\n",
       "      <th>1</th>\n",
       "      <td>1</td>\n",
       "      <td>2019-05-03 11:07:28</td>\n",
       "      <td>2019-05-03 11:10:33</td>\n",
       "      <td>0.805607</td>\n",
       "      <td>0.520285</td>\n",
       "    </tr>\n",
       "    <tr>\n",
       "      <th>2</th>\n",
       "      <td>1</td>\n",
       "      <td>2019-05-03 11:11:44</td>\n",
       "      <td>2019-05-03 11:14:36</td>\n",
       "      <td>0.744363</td>\n",
       "      <td>0.498805</td>\n",
       "    </tr>\n",
       "  </tbody>\n",
       "</table>\n",
       "</div>"
      ],
      "text/plain": [
       "   key Начало нагрева дугой  Конец нагрева дугой  Активная мощность  \\\n",
       "0    1  2019-05-03 11:02:14  2019-05-03 11:06:02           0.976059   \n",
       "1    1  2019-05-03 11:07:28  2019-05-03 11:10:33           0.805607   \n",
       "2    1  2019-05-03 11:11:44  2019-05-03 11:14:36           0.744363   \n",
       "\n",
       "   Реактивная мощность  \n",
       "0             0.687084  \n",
       "1             0.520285  \n",
       "2             0.498805  "
      ]
     },
     "metadata": {},
     "output_type": "display_data"
    },
    {
     "data": {
      "text/html": [
       "<div>\n",
       "<style scoped>\n",
       "    .dataframe tbody tr th:only-of-type {\n",
       "        vertical-align: middle;\n",
       "    }\n",
       "\n",
       "    .dataframe tbody tr th {\n",
       "        vertical-align: top;\n",
       "    }\n",
       "\n",
       "    .dataframe thead th {\n",
       "        text-align: right;\n",
       "    }\n",
       "</style>\n",
       "<table border=\"1\" class=\"dataframe\">\n",
       "  <thead>\n",
       "    <tr style=\"text-align: right;\">\n",
       "      <th></th>\n",
       "      <th>key</th>\n",
       "      <th>Bulk 1</th>\n",
       "      <th>Bulk 2</th>\n",
       "      <th>Bulk 3</th>\n",
       "      <th>Bulk 4</th>\n",
       "      <th>Bulk 5</th>\n",
       "      <th>Bulk 6</th>\n",
       "      <th>Bulk 7</th>\n",
       "      <th>Bulk 8</th>\n",
       "      <th>Bulk 9</th>\n",
       "      <th>Bulk 10</th>\n",
       "      <th>Bulk 11</th>\n",
       "      <th>Bulk 12</th>\n",
       "      <th>Bulk 13</th>\n",
       "      <th>Bulk 14</th>\n",
       "      <th>Bulk 15</th>\n",
       "    </tr>\n",
       "  </thead>\n",
       "  <tbody>\n",
       "    <tr>\n",
       "      <th>0</th>\n",
       "      <td>1</td>\n",
       "      <td>NaN</td>\n",
       "      <td>NaN</td>\n",
       "      <td>NaN</td>\n",
       "      <td>43.0</td>\n",
       "      <td>NaN</td>\n",
       "      <td>NaN</td>\n",
       "      <td>NaN</td>\n",
       "      <td>NaN</td>\n",
       "      <td>NaN</td>\n",
       "      <td>NaN</td>\n",
       "      <td>NaN</td>\n",
       "      <td>206.0</td>\n",
       "      <td>NaN</td>\n",
       "      <td>150.0</td>\n",
       "      <td>154.0</td>\n",
       "    </tr>\n",
       "    <tr>\n",
       "      <th>1</th>\n",
       "      <td>2</td>\n",
       "      <td>NaN</td>\n",
       "      <td>NaN</td>\n",
       "      <td>NaN</td>\n",
       "      <td>73.0</td>\n",
       "      <td>NaN</td>\n",
       "      <td>NaN</td>\n",
       "      <td>NaN</td>\n",
       "      <td>NaN</td>\n",
       "      <td>NaN</td>\n",
       "      <td>NaN</td>\n",
       "      <td>NaN</td>\n",
       "      <td>206.0</td>\n",
       "      <td>NaN</td>\n",
       "      <td>149.0</td>\n",
       "      <td>154.0</td>\n",
       "    </tr>\n",
       "    <tr>\n",
       "      <th>2</th>\n",
       "      <td>3</td>\n",
       "      <td>NaN</td>\n",
       "      <td>NaN</td>\n",
       "      <td>NaN</td>\n",
       "      <td>34.0</td>\n",
       "      <td>NaN</td>\n",
       "      <td>NaN</td>\n",
       "      <td>NaN</td>\n",
       "      <td>NaN</td>\n",
       "      <td>NaN</td>\n",
       "      <td>NaN</td>\n",
       "      <td>NaN</td>\n",
       "      <td>205.0</td>\n",
       "      <td>NaN</td>\n",
       "      <td>152.0</td>\n",
       "      <td>153.0</td>\n",
       "    </tr>\n",
       "  </tbody>\n",
       "</table>\n",
       "</div>"
      ],
      "text/plain": [
       "   key  Bulk 1  Bulk 2  Bulk 3  Bulk 4  Bulk 5  Bulk 6  Bulk 7  Bulk 8  \\\n",
       "0    1     NaN     NaN     NaN    43.0     NaN     NaN     NaN     NaN   \n",
       "1    2     NaN     NaN     NaN    73.0     NaN     NaN     NaN     NaN   \n",
       "2    3     NaN     NaN     NaN    34.0     NaN     NaN     NaN     NaN   \n",
       "\n",
       "   Bulk 9  Bulk 10  Bulk 11  Bulk 12  Bulk 13  Bulk 14  Bulk 15  \n",
       "0     NaN      NaN      NaN    206.0      NaN    150.0    154.0  \n",
       "1     NaN      NaN      NaN    206.0      NaN    149.0    154.0  \n",
       "2     NaN      NaN      NaN    205.0      NaN    152.0    153.0  "
      ]
     },
     "metadata": {},
     "output_type": "display_data"
    },
    {
     "data": {
      "text/html": [
       "<div>\n",
       "<style scoped>\n",
       "    .dataframe tbody tr th:only-of-type {\n",
       "        vertical-align: middle;\n",
       "    }\n",
       "\n",
       "    .dataframe tbody tr th {\n",
       "        vertical-align: top;\n",
       "    }\n",
       "\n",
       "    .dataframe thead th {\n",
       "        text-align: right;\n",
       "    }\n",
       "</style>\n",
       "<table border=\"1\" class=\"dataframe\">\n",
       "  <thead>\n",
       "    <tr style=\"text-align: right;\">\n",
       "      <th></th>\n",
       "      <th>key</th>\n",
       "      <th>Wire 1</th>\n",
       "      <th>Wire 2</th>\n",
       "      <th>Wire 3</th>\n",
       "      <th>Wire 4</th>\n",
       "      <th>Wire 5</th>\n",
       "      <th>Wire 6</th>\n",
       "      <th>Wire 7</th>\n",
       "      <th>Wire 8</th>\n",
       "      <th>Wire 9</th>\n",
       "    </tr>\n",
       "  </thead>\n",
       "  <tbody>\n",
       "    <tr>\n",
       "      <th>0</th>\n",
       "      <td>1</td>\n",
       "      <td>60.059998</td>\n",
       "      <td>NaN</td>\n",
       "      <td>NaN</td>\n",
       "      <td>NaN</td>\n",
       "      <td>NaN</td>\n",
       "      <td>NaN</td>\n",
       "      <td>NaN</td>\n",
       "      <td>NaN</td>\n",
       "      <td>NaN</td>\n",
       "    </tr>\n",
       "    <tr>\n",
       "      <th>1</th>\n",
       "      <td>2</td>\n",
       "      <td>96.052315</td>\n",
       "      <td>NaN</td>\n",
       "      <td>NaN</td>\n",
       "      <td>NaN</td>\n",
       "      <td>NaN</td>\n",
       "      <td>NaN</td>\n",
       "      <td>NaN</td>\n",
       "      <td>NaN</td>\n",
       "      <td>NaN</td>\n",
       "    </tr>\n",
       "    <tr>\n",
       "      <th>2</th>\n",
       "      <td>3</td>\n",
       "      <td>91.160157</td>\n",
       "      <td>NaN</td>\n",
       "      <td>NaN</td>\n",
       "      <td>NaN</td>\n",
       "      <td>NaN</td>\n",
       "      <td>NaN</td>\n",
       "      <td>NaN</td>\n",
       "      <td>NaN</td>\n",
       "      <td>NaN</td>\n",
       "    </tr>\n",
       "  </tbody>\n",
       "</table>\n",
       "</div>"
      ],
      "text/plain": [
       "   key     Wire 1  Wire 2  Wire 3  Wire 4  Wire 5  Wire 6  Wire 7  Wire 8  \\\n",
       "0    1  60.059998     NaN     NaN     NaN     NaN     NaN     NaN     NaN   \n",
       "1    2  96.052315     NaN     NaN     NaN     NaN     NaN     NaN     NaN   \n",
       "2    3  91.160157     NaN     NaN     NaN     NaN     NaN     NaN     NaN   \n",
       "\n",
       "   Wire 9  \n",
       "0     NaN  \n",
       "1     NaN  \n",
       "2     NaN  "
      ]
     },
     "metadata": {},
     "output_type": "display_data"
    },
    {
     "data": {
      "text/html": [
       "<div>\n",
       "<style scoped>\n",
       "    .dataframe tbody tr th:only-of-type {\n",
       "        vertical-align: middle;\n",
       "    }\n",
       "\n",
       "    .dataframe tbody tr th {\n",
       "        vertical-align: top;\n",
       "    }\n",
       "\n",
       "    .dataframe thead th {\n",
       "        text-align: right;\n",
       "    }\n",
       "</style>\n",
       "<table border=\"1\" class=\"dataframe\">\n",
       "  <thead>\n",
       "    <tr style=\"text-align: right;\">\n",
       "      <th></th>\n",
       "      <th>key</th>\n",
       "      <th>Газ 1</th>\n",
       "    </tr>\n",
       "  </thead>\n",
       "  <tbody>\n",
       "    <tr>\n",
       "      <th>0</th>\n",
       "      <td>1</td>\n",
       "      <td>29.749986</td>\n",
       "    </tr>\n",
       "    <tr>\n",
       "      <th>1</th>\n",
       "      <td>2</td>\n",
       "      <td>12.555561</td>\n",
       "    </tr>\n",
       "    <tr>\n",
       "      <th>2</th>\n",
       "      <td>3</td>\n",
       "      <td>28.554793</td>\n",
       "    </tr>\n",
       "  </tbody>\n",
       "</table>\n",
       "</div>"
      ],
      "text/plain": [
       "   key      Газ 1\n",
       "0    1  29.749986\n",
       "1    2  12.555561\n",
       "2    3  28.554793"
      ]
     },
     "metadata": {},
     "output_type": "display_data"
    },
    {
     "data": {
      "text/html": [
       "<div>\n",
       "<style scoped>\n",
       "    .dataframe tbody tr th:only-of-type {\n",
       "        vertical-align: middle;\n",
       "    }\n",
       "\n",
       "    .dataframe tbody tr th {\n",
       "        vertical-align: top;\n",
       "    }\n",
       "\n",
       "    .dataframe thead th {\n",
       "        text-align: right;\n",
       "    }\n",
       "</style>\n",
       "<table border=\"1\" class=\"dataframe\">\n",
       "  <thead>\n",
       "    <tr style=\"text-align: right;\">\n",
       "      <th></th>\n",
       "      <th>key</th>\n",
       "      <th>Время замера</th>\n",
       "      <th>Температура</th>\n",
       "    </tr>\n",
       "  </thead>\n",
       "  <tbody>\n",
       "    <tr>\n",
       "      <th>0</th>\n",
       "      <td>1</td>\n",
       "      <td>2019-05-03 11:16:18</td>\n",
       "      <td>1571.0</td>\n",
       "    </tr>\n",
       "    <tr>\n",
       "      <th>1</th>\n",
       "      <td>1</td>\n",
       "      <td>2019-05-03 11:25:53</td>\n",
       "      <td>1604.0</td>\n",
       "    </tr>\n",
       "    <tr>\n",
       "      <th>2</th>\n",
       "      <td>1</td>\n",
       "      <td>2019-05-03 11:29:11</td>\n",
       "      <td>1618.0</td>\n",
       "    </tr>\n",
       "  </tbody>\n",
       "</table>\n",
       "</div>"
      ],
      "text/plain": [
       "   key         Время замера  Температура\n",
       "0    1  2019-05-03 11:16:18       1571.0\n",
       "1    1  2019-05-03 11:25:53       1604.0\n",
       "2    1  2019-05-03 11:29:11       1618.0"
      ]
     },
     "metadata": {},
     "output_type": "display_data"
    }
   ],
   "source": [
    "display(electrod.head(3))\n",
    "display(ingredient_1.head(3))\n",
    "display(ingredient_2.head(3))\n",
    "display(gas.head(3))\n",
    "display(temp.head(3))"
   ]
  },
  {
   "cell_type": "markdown",
   "metadata": {},
   "source": [
    "### 2 Подготовим данные"
   ]
  },
  {
   "cell_type": "markdown",
   "metadata": {},
   "source": [
    "В таблице с электродами сгруппируем по партиям, выведем полную мощность"
   ]
  },
  {
   "cell_type": "code",
   "execution_count": 5,
   "metadata": {},
   "outputs": [],
   "source": [
    "grouped_electrod = electrod.groupby('key',  as_index = False).sum()\n",
    "grouped_electrod['Мощность'] = (grouped_electrod['Активная мощность']**2 + grouped_electrod['Реактивная мощность']**2)**0.5\n",
    "grouped_electrod = grouped_electrod[['key', 'Мощность']]"
   ]
  },
  {
   "attachments": {
    "image.png": {
     "image/png": "[encoded data removed]"
    }
   },
   "cell_type": "markdown",
   "metadata": {},
   "source": [
    "![image.png](attachment:image.png)"
   ]
  },
  {
   "cell_type": "markdown",
   "metadata": {},
   "source": [
    "Соединим все таблицы с ингридиентами"
   ]
  },
  {
   "cell_type": "code",
   "execution_count": 6,
   "metadata": {},
   "outputs": [
    {
     "data": {
      "text/html": [
       "<div>\n",
       "<style scoped>\n",
       "    .dataframe tbody tr th:only-of-type {\n",
       "        vertical-align: middle;\n",
       "    }\n",
       "\n",
       "    .dataframe tbody tr th {\n",
       "        vertical-align: top;\n",
       "    }\n",
       "\n",
       "    .dataframe thead th {\n",
       "        text-align: right;\n",
       "    }\n",
       "</style>\n",
       "<table border=\"1\" class=\"dataframe\">\n",
       "  <thead>\n",
       "    <tr style=\"text-align: right;\">\n",
       "      <th></th>\n",
       "      <th>key</th>\n",
       "      <th>Мощность</th>\n",
       "      <th>Газ 1</th>\n",
       "      <th>Bulk 1</th>\n",
       "      <th>Bulk 2</th>\n",
       "      <th>Bulk 3</th>\n",
       "      <th>Bulk 4</th>\n",
       "      <th>Bulk 5</th>\n",
       "      <th>Bulk 6</th>\n",
       "      <th>Bulk 7</th>\n",
       "      <th>...</th>\n",
       "      <th>Bulk 15</th>\n",
       "      <th>Wire 1</th>\n",
       "      <th>Wire 2</th>\n",
       "      <th>Wire 3</th>\n",
       "      <th>Wire 4</th>\n",
       "      <th>Wire 5</th>\n",
       "      <th>Wire 6</th>\n",
       "      <th>Wire 7</th>\n",
       "      <th>Wire 8</th>\n",
       "      <th>Wire 9</th>\n",
       "    </tr>\n",
       "  </thead>\n",
       "  <tbody>\n",
       "    <tr>\n",
       "      <th>0</th>\n",
       "      <td>1</td>\n",
       "      <td>5.824889</td>\n",
       "      <td>29.749986</td>\n",
       "      <td>NaN</td>\n",
       "      <td>NaN</td>\n",
       "      <td>NaN</td>\n",
       "      <td>43.0</td>\n",
       "      <td>NaN</td>\n",
       "      <td>NaN</td>\n",
       "      <td>NaN</td>\n",
       "      <td>...</td>\n",
       "      <td>154.0</td>\n",
       "      <td>60.059998</td>\n",
       "      <td>NaN</td>\n",
       "      <td>NaN</td>\n",
       "      <td>NaN</td>\n",
       "      <td>NaN</td>\n",
       "      <td>NaN</td>\n",
       "      <td>NaN</td>\n",
       "      <td>NaN</td>\n",
       "      <td>NaN</td>\n",
       "    </tr>\n",
       "    <tr>\n",
       "      <th>1</th>\n",
       "      <td>2</td>\n",
       "      <td>3.648398</td>\n",
       "      <td>12.555561</td>\n",
       "      <td>NaN</td>\n",
       "      <td>NaN</td>\n",
       "      <td>NaN</td>\n",
       "      <td>73.0</td>\n",
       "      <td>NaN</td>\n",
       "      <td>NaN</td>\n",
       "      <td>NaN</td>\n",
       "      <td>...</td>\n",
       "      <td>154.0</td>\n",
       "      <td>96.052315</td>\n",
       "      <td>NaN</td>\n",
       "      <td>NaN</td>\n",
       "      <td>NaN</td>\n",
       "      <td>NaN</td>\n",
       "      <td>NaN</td>\n",
       "      <td>NaN</td>\n",
       "      <td>NaN</td>\n",
       "      <td>NaN</td>\n",
       "    </tr>\n",
       "    <tr>\n",
       "      <th>2</th>\n",
       "      <td>3</td>\n",
       "      <td>2.989502</td>\n",
       "      <td>28.554793</td>\n",
       "      <td>NaN</td>\n",
       "      <td>NaN</td>\n",
       "      <td>NaN</td>\n",
       "      <td>34.0</td>\n",
       "      <td>NaN</td>\n",
       "      <td>NaN</td>\n",
       "      <td>NaN</td>\n",
       "      <td>...</td>\n",
       "      <td>153.0</td>\n",
       "      <td>91.160157</td>\n",
       "      <td>NaN</td>\n",
       "      <td>NaN</td>\n",
       "      <td>NaN</td>\n",
       "      <td>NaN</td>\n",
       "      <td>NaN</td>\n",
       "      <td>NaN</td>\n",
       "      <td>NaN</td>\n",
       "      <td>NaN</td>\n",
       "    </tr>\n",
       "  </tbody>\n",
       "</table>\n",
       "<p>3 rows × 27 columns</p>\n",
       "</div>"
      ],
      "text/plain": [
       "   key  Мощность      Газ 1  Bulk 1  Bulk 2  Bulk 3  Bulk 4  Bulk 5  Bulk 6  \\\n",
       "0    1  5.824889  29.749986     NaN     NaN     NaN    43.0     NaN     NaN   \n",
       "1    2  3.648398  12.555561     NaN     NaN     NaN    73.0     NaN     NaN   \n",
       "2    3  2.989502  28.554793     NaN     NaN     NaN    34.0     NaN     NaN   \n",
       "\n",
       "   Bulk 7  ...  Bulk 15     Wire 1  Wire 2  Wire 3  Wire 4  Wire 5  Wire 6  \\\n",
       "0     NaN  ...    154.0  60.059998     NaN     NaN     NaN     NaN     NaN   \n",
       "1     NaN  ...    154.0  96.052315     NaN     NaN     NaN     NaN     NaN   \n",
       "2     NaN  ...    153.0  91.160157     NaN     NaN     NaN     NaN     NaN   \n",
       "\n",
       "   Wire 7  Wire 8  Wire 9  \n",
       "0     NaN     NaN     NaN  \n",
       "1     NaN     NaN     NaN  \n",
       "2     NaN     NaN     NaN  \n",
       "\n",
       "[3 rows x 27 columns]"
      ]
     },
     "metadata": {},
     "output_type": "display_data"
    }
   ],
   "source": [
    "dummy1 = ingredient_1.merge(ingredient_2, on = 'key', how='outer')\n",
    "dummy2 = gas.merge(dummy1, on = 'key', how='outer')\n",
    "features = grouped_electrod.merge(dummy2, on = 'key', how='outer').sort_values(by='key')\n",
    "display(features.head(3))"
   ]
  },
  {
   "cell_type": "markdown",
   "metadata": {},
   "source": [
    "Вычленим из таблицы с температурами только крайние значения - начальноее и конечное. Если начальное или конечное значение nan, удалим такие партии. Для вычиления таких партий nan переведём в нули "
   ]
  },
  {
   "cell_type": "code",
   "execution_count": 7,
   "metadata": {},
   "outputs": [],
   "source": [
    "temp = temp.fillna(0)"
   ]
  },
  {
   "cell_type": "code",
   "execution_count": 8,
   "metadata": {},
   "outputs": [],
   "source": [
    "temp_first = temp.pivot_table(index = 'key', values = 'Температура', aggfunc = 'first', dropna = False)\n",
    "temp_last = temp.pivot_table(index = 'key', values = 'Температура', aggfunc = 'last', dropna = False)"
   ]
  },
  {
   "cell_type": "markdown",
   "metadata": {},
   "source": [
    "Теперь соединим в одну таблицу, нам важно, чтобы были оба значения, если это не так- удалим строки"
   ]
  },
  {
   "cell_type": "code",
   "execution_count": 9,
   "metadata": {},
   "outputs": [],
   "source": [
    "temp_first_last = temp_first.merge(temp_last, on = 'key', how='inner', suffixes=('_начальная', '_конечная'))\n",
    "temp_first_last = temp_first_last.query('Температура_конечная !=0 and Температура_начальная !=0').reset_index()"
   ]
  },
  {
   "cell_type": "code",
   "execution_count": 10,
   "metadata": {},
   "outputs": [
    {
     "data": {
      "text/html": [
       "<div>\n",
       "<style scoped>\n",
       "    .dataframe tbody tr th:only-of-type {\n",
       "        vertical-align: middle;\n",
       "    }\n",
       "\n",
       "    .dataframe tbody tr th {\n",
       "        vertical-align: top;\n",
       "    }\n",
       "\n",
       "    .dataframe thead th {\n",
       "        text-align: right;\n",
       "    }\n",
       "</style>\n",
       "<table border=\"1\" class=\"dataframe\">\n",
       "  <thead>\n",
       "    <tr style=\"text-align: right;\">\n",
       "      <th></th>\n",
       "      <th>key</th>\n",
       "      <th>Температура_начальная</th>\n",
       "      <th>Температура_конечная</th>\n",
       "    </tr>\n",
       "  </thead>\n",
       "  <tbody>\n",
       "    <tr>\n",
       "      <th>0</th>\n",
       "      <td>1</td>\n",
       "      <td>1571.0</td>\n",
       "      <td>1613.0</td>\n",
       "    </tr>\n",
       "    <tr>\n",
       "      <th>1</th>\n",
       "      <td>2</td>\n",
       "      <td>1581.0</td>\n",
       "      <td>1602.0</td>\n",
       "    </tr>\n",
       "    <tr>\n",
       "      <th>2</th>\n",
       "      <td>3</td>\n",
       "      <td>1596.0</td>\n",
       "      <td>1599.0</td>\n",
       "    </tr>\n",
       "  </tbody>\n",
       "</table>\n",
       "</div>"
      ],
      "text/plain": [
       "   key  Температура_начальная  Температура_конечная\n",
       "0    1                 1571.0                1613.0\n",
       "1    2                 1581.0                1602.0\n",
       "2    3                 1596.0                1599.0"
      ]
     },
     "metadata": {},
     "output_type": "display_data"
    }
   ],
   "source": [
    "display(temp_first_last.head(3))"
   ]
  },
  {
   "cell_type": "markdown",
   "metadata": {},
   "source": [
    "Теперь соединим таблицы с признаками и таблицу с температурой"
   ]
  },
  {
   "cell_type": "code",
   "execution_count": 11,
   "metadata": {},
   "outputs": [],
   "source": [
    "data = temp_first_last.merge(features, on = 'key', how='left')"
   ]
  },
  {
   "cell_type": "code",
   "execution_count": 12,
   "metadata": {},
   "outputs": [
    {
     "data": {
      "text/html": [
       "<div>\n",
       "<style scoped>\n",
       "    .dataframe tbody tr th:only-of-type {\n",
       "        vertical-align: middle;\n",
       "    }\n",
       "\n",
       "    .dataframe tbody tr th {\n",
       "        vertical-align: top;\n",
       "    }\n",
       "\n",
       "    .dataframe thead th {\n",
       "        text-align: right;\n",
       "    }\n",
       "</style>\n",
       "<table border=\"1\" class=\"dataframe\">\n",
       "  <thead>\n",
       "    <tr style=\"text-align: right;\">\n",
       "      <th></th>\n",
       "      <th>key</th>\n",
       "      <th>Температура_начальная</th>\n",
       "      <th>Температура_конечная</th>\n",
       "      <th>Мощность</th>\n",
       "      <th>Газ 1</th>\n",
       "      <th>Bulk 1</th>\n",
       "      <th>Bulk 2</th>\n",
       "      <th>Bulk 3</th>\n",
       "      <th>Bulk 4</th>\n",
       "      <th>Bulk 5</th>\n",
       "      <th>...</th>\n",
       "      <th>Bulk 15</th>\n",
       "      <th>Wire 1</th>\n",
       "      <th>Wire 2</th>\n",
       "      <th>Wire 3</th>\n",
       "      <th>Wire 4</th>\n",
       "      <th>Wire 5</th>\n",
       "      <th>Wire 6</th>\n",
       "      <th>Wire 7</th>\n",
       "      <th>Wire 8</th>\n",
       "      <th>Wire 9</th>\n",
       "    </tr>\n",
       "  </thead>\n",
       "  <tbody>\n",
       "    <tr>\n",
       "      <th>0</th>\n",
       "      <td>1</td>\n",
       "      <td>1571.0</td>\n",
       "      <td>1613.0</td>\n",
       "      <td>5.824889</td>\n",
       "      <td>29.749986</td>\n",
       "      <td>NaN</td>\n",
       "      <td>NaN</td>\n",
       "      <td>NaN</td>\n",
       "      <td>43.0</td>\n",
       "      <td>NaN</td>\n",
       "      <td>...</td>\n",
       "      <td>154.0</td>\n",
       "      <td>60.059998</td>\n",
       "      <td>NaN</td>\n",
       "      <td>NaN</td>\n",
       "      <td>NaN</td>\n",
       "      <td>NaN</td>\n",
       "      <td>NaN</td>\n",
       "      <td>NaN</td>\n",
       "      <td>NaN</td>\n",
       "      <td>NaN</td>\n",
       "    </tr>\n",
       "    <tr>\n",
       "      <th>1</th>\n",
       "      <td>2</td>\n",
       "      <td>1581.0</td>\n",
       "      <td>1602.0</td>\n",
       "      <td>3.648398</td>\n",
       "      <td>12.555561</td>\n",
       "      <td>NaN</td>\n",
       "      <td>NaN</td>\n",
       "      <td>NaN</td>\n",
       "      <td>73.0</td>\n",
       "      <td>NaN</td>\n",
       "      <td>...</td>\n",
       "      <td>154.0</td>\n",
       "      <td>96.052315</td>\n",
       "      <td>NaN</td>\n",
       "      <td>NaN</td>\n",
       "      <td>NaN</td>\n",
       "      <td>NaN</td>\n",
       "      <td>NaN</td>\n",
       "      <td>NaN</td>\n",
       "      <td>NaN</td>\n",
       "      <td>NaN</td>\n",
       "    </tr>\n",
       "    <tr>\n",
       "      <th>2</th>\n",
       "      <td>3</td>\n",
       "      <td>1596.0</td>\n",
       "      <td>1599.0</td>\n",
       "      <td>2.989502</td>\n",
       "      <td>28.554793</td>\n",
       "      <td>NaN</td>\n",
       "      <td>NaN</td>\n",
       "      <td>NaN</td>\n",
       "      <td>34.0</td>\n",
       "      <td>NaN</td>\n",
       "      <td>...</td>\n",
       "      <td>153.0</td>\n",
       "      <td>91.160157</td>\n",
       "      <td>NaN</td>\n",
       "      <td>NaN</td>\n",
       "      <td>NaN</td>\n",
       "      <td>NaN</td>\n",
       "      <td>NaN</td>\n",
       "      <td>NaN</td>\n",
       "      <td>NaN</td>\n",
       "      <td>NaN</td>\n",
       "    </tr>\n",
       "  </tbody>\n",
       "</table>\n",
       "<p>3 rows × 29 columns</p>\n",
       "</div>"
      ],
      "text/plain": [
       "   key  Температура_начальная  Температура_конечная  Мощность      Газ 1  \\\n",
       "0    1                 1571.0                1613.0  5.824889  29.749986   \n",
       "1    2                 1581.0                1602.0  3.648398  12.555561   \n",
       "2    3                 1596.0                1599.0  2.989502  28.554793   \n",
       "\n",
       "   Bulk 1  Bulk 2  Bulk 3  Bulk 4  Bulk 5  ...  Bulk 15     Wire 1  Wire 2  \\\n",
       "0     NaN     NaN     NaN    43.0     NaN  ...    154.0  60.059998     NaN   \n",
       "1     NaN     NaN     NaN    73.0     NaN  ...    154.0  96.052315     NaN   \n",
       "2     NaN     NaN     NaN    34.0     NaN  ...    153.0  91.160157     NaN   \n",
       "\n",
       "   Wire 3  Wire 4  Wire 5  Wire 6  Wire 7  Wire 8  Wire 9  \n",
       "0     NaN     NaN     NaN     NaN     NaN     NaN     NaN  \n",
       "1     NaN     NaN     NaN     NaN     NaN     NaN     NaN  \n",
       "2     NaN     NaN     NaN     NaN     NaN     NaN     NaN  \n",
       "\n",
       "[3 rows x 29 columns]"
      ]
     },
     "metadata": {},
     "output_type": "display_data"
    }
   ],
   "source": [
    "display(data.head(3))"
   ]
  },
  {
   "cell_type": "markdown",
   "metadata": {},
   "source": [
    "Заменим значения NaN на нули, для избежания конфликтов моделями"
   ]
  },
  {
   "cell_type": "code",
   "execution_count": 13,
   "metadata": {},
   "outputs": [],
   "source": [
    "data = data.fillna(0)"
   ]
  },
  {
   "cell_type": "code",
   "execution_count": 14,
   "metadata": {},
   "outputs": [
    {
     "data": {
      "text/html": [
       "<div>\n",
       "<style scoped>\n",
       "    .dataframe tbody tr th:only-of-type {\n",
       "        vertical-align: middle;\n",
       "    }\n",
       "\n",
       "    .dataframe tbody tr th {\n",
       "        vertical-align: top;\n",
       "    }\n",
       "\n",
       "    .dataframe thead th {\n",
       "        text-align: right;\n",
       "    }\n",
       "</style>\n",
       "<table border=\"1\" class=\"dataframe\">\n",
       "  <thead>\n",
       "    <tr style=\"text-align: right;\">\n",
       "      <th></th>\n",
       "      <th>key</th>\n",
       "      <th>Температура_начальная</th>\n",
       "      <th>Температура_конечная</th>\n",
       "      <th>Мощность</th>\n",
       "      <th>Газ 1</th>\n",
       "      <th>Bulk 1</th>\n",
       "      <th>Bulk 2</th>\n",
       "      <th>Bulk 3</th>\n",
       "      <th>Bulk 4</th>\n",
       "      <th>Bulk 5</th>\n",
       "      <th>...</th>\n",
       "      <th>Bulk 15</th>\n",
       "      <th>Wire 1</th>\n",
       "      <th>Wire 2</th>\n",
       "      <th>Wire 3</th>\n",
       "      <th>Wire 4</th>\n",
       "      <th>Wire 5</th>\n",
       "      <th>Wire 6</th>\n",
       "      <th>Wire 7</th>\n",
       "      <th>Wire 8</th>\n",
       "      <th>Wire 9</th>\n",
       "    </tr>\n",
       "  </thead>\n",
       "  <tbody>\n",
       "    <tr>\n",
       "      <th>0</th>\n",
       "      <td>1</td>\n",
       "      <td>1571.0</td>\n",
       "      <td>1613.0</td>\n",
       "      <td>5.824889</td>\n",
       "      <td>29.749986</td>\n",
       "      <td>0.0</td>\n",
       "      <td>0.0</td>\n",
       "      <td>0.0</td>\n",
       "      <td>43.0</td>\n",
       "      <td>0.0</td>\n",
       "      <td>...</td>\n",
       "      <td>154.0</td>\n",
       "      <td>60.059998</td>\n",
       "      <td>0.0</td>\n",
       "      <td>0.0</td>\n",
       "      <td>0.0</td>\n",
       "      <td>0.0</td>\n",
       "      <td>0.0</td>\n",
       "      <td>0.0</td>\n",
       "      <td>0.0</td>\n",
       "      <td>0.0</td>\n",
       "    </tr>\n",
       "    <tr>\n",
       "      <th>1</th>\n",
       "      <td>2</td>\n",
       "      <td>1581.0</td>\n",
       "      <td>1602.0</td>\n",
       "      <td>3.648398</td>\n",
       "      <td>12.555561</td>\n",
       "      <td>0.0</td>\n",
       "      <td>0.0</td>\n",
       "      <td>0.0</td>\n",
       "      <td>73.0</td>\n",
       "      <td>0.0</td>\n",
       "      <td>...</td>\n",
       "      <td>154.0</td>\n",
       "      <td>96.052315</td>\n",
       "      <td>0.0</td>\n",
       "      <td>0.0</td>\n",
       "      <td>0.0</td>\n",
       "      <td>0.0</td>\n",
       "      <td>0.0</td>\n",
       "      <td>0.0</td>\n",
       "      <td>0.0</td>\n",
       "      <td>0.0</td>\n",
       "    </tr>\n",
       "    <tr>\n",
       "      <th>2</th>\n",
       "      <td>3</td>\n",
       "      <td>1596.0</td>\n",
       "      <td>1599.0</td>\n",
       "      <td>2.989502</td>\n",
       "      <td>28.554793</td>\n",
       "      <td>0.0</td>\n",
       "      <td>0.0</td>\n",
       "      <td>0.0</td>\n",
       "      <td>34.0</td>\n",
       "      <td>0.0</td>\n",
       "      <td>...</td>\n",
       "      <td>153.0</td>\n",
       "      <td>91.160157</td>\n",
       "      <td>0.0</td>\n",
       "      <td>0.0</td>\n",
       "      <td>0.0</td>\n",
       "      <td>0.0</td>\n",
       "      <td>0.0</td>\n",
       "      <td>0.0</td>\n",
       "      <td>0.0</td>\n",
       "      <td>0.0</td>\n",
       "    </tr>\n",
       "  </tbody>\n",
       "</table>\n",
       "<p>3 rows × 29 columns</p>\n",
       "</div>"
      ],
      "text/plain": [
       "   key  Температура_начальная  Температура_конечная  Мощность      Газ 1  \\\n",
       "0    1                 1571.0                1613.0  5.824889  29.749986   \n",
       "1    2                 1581.0                1602.0  3.648398  12.555561   \n",
       "2    3                 1596.0                1599.0  2.989502  28.554793   \n",
       "\n",
       "   Bulk 1  Bulk 2  Bulk 3  Bulk 4  Bulk 5  ...  Bulk 15     Wire 1  Wire 2  \\\n",
       "0     0.0     0.0     0.0    43.0     0.0  ...    154.0  60.059998     0.0   \n",
       "1     0.0     0.0     0.0    73.0     0.0  ...    154.0  96.052315     0.0   \n",
       "2     0.0     0.0     0.0    34.0     0.0  ...    153.0  91.160157     0.0   \n",
       "\n",
       "   Wire 3  Wire 4  Wire 5  Wire 6  Wire 7  Wire 8  Wire 9  \n",
       "0     0.0     0.0     0.0     0.0     0.0     0.0     0.0  \n",
       "1     0.0     0.0     0.0     0.0     0.0     0.0     0.0  \n",
       "2     0.0     0.0     0.0     0.0     0.0     0.0     0.0  \n",
       "\n",
       "[3 rows x 29 columns]"
      ]
     },
     "metadata": {},
     "output_type": "display_data"
    }
   ],
   "source": [
    "display(data.head(3))"
   ]
  },
  {
   "cell_type": "markdown",
   "metadata": {},
   "source": [
    "### 3 Исследовательский анализ данных"
   ]
  },
  {
   "cell_type": "markdown",
   "metadata": {},
   "source": [
    "Разобъем данные на тренировочную, валидационную и тестовую выборки 80|10|10, назначим колонки с признаками и таргетом"
   ]
  },
  {
   "cell_type": "markdown",
   "metadata": {},
   "source": [
    "> Комментарий: империческим путём удалось выяснить, что без признака \"Газ\" MAE моделей меньше"
   ]
  },
  {
   "cell_type": "code",
   "execution_count": 15,
   "metadata": {},
   "outputs": [],
   "source": [
    "features = data.drop(['key','Температура_конечная','Газ 1'],axis = 1)\n",
    "target =  data['Температура_конечная']"
   ]
  },
  {
   "cell_type": "markdown",
   "metadata": {},
   "source": [
    "Посмотрим на корреляцию признаков между собой, если будут найдены с корреляцией более 0.8 - лишние удалим"
   ]
  },
  {
   "cell_type": "code",
   "execution_count": 16,
   "metadata": {},
   "outputs": [
    {
     "data": {
      "image/png": "[encoded data removed]",
      "text/plain": [
       "<Figure size 1152x1152 with 1 Axes>"
      ]
     },
     "metadata": {
      "needs_background": "light"
     },
     "output_type": "display_data"
    }
   ],
   "source": [
    "fig, ax = plt.subplots(figsize=(16,16))\n",
    "sns.heatmap(features.corr(), annot = True, fmt='.1g', vmin=0.8, cbar=False, ax=ax)\n",
    "plt.show()"
   ]
  },
  {
   "cell_type": "markdown",
   "metadata": {},
   "source": [
    ">Вывод: чрезмерной взаимозависимости признаков нет, на этом этапе их не трогаем"
   ]
  },
  {
   "cell_type": "code",
   "execution_count": 17,
   "metadata": {},
   "outputs": [],
   "source": [
    "features_train, x = train_test_split(features, test_size = 0.2, random_state=12345)\n",
    "features_valid, features_test = train_test_split(x, test_size = 0.5, random_state=12345)\n",
    "target_train = target[features_train.index]\n",
    "target_valid = target[features_valid.index]\n",
    "target_test = target[features_test.index]"
   ]
  },
  {
   "cell_type": "markdown",
   "metadata": {},
   "source": [
    "Поскольку все данные в нашей таблице количественные, применим \"уравнивающую веса признаков скаляризацию, приблизим условия к реальным, обучим на трейновой выборке, а применим на весь датасет"
   ]
  },
  {
   "cell_type": "code",
   "execution_count": 18,
   "metadata": {},
   "outputs": [],
   "source": [
    "scaler = StandardScaler()\n",
    "scaler.fit(features_train)\n",
    "features_train = scaler.transform(features_train)\n",
    "features_valid = scaler.transform(features_valid)\n",
    "features_test = scaler.transform(features_test)"
   ]
  },
  {
   "cell_type": "markdown",
   "metadata": {},
   "source": [
    "### 4 Работа с моделями"
   ]
  },
  {
   "cell_type": "markdown",
   "metadata": {},
   "source": [
    "Применим модель дерева решений, это простейшая модель, её применим для оценки значимости различных признаков"
   ]
  },
  {
   "cell_type": "code",
   "execution_count": 19,
   "metadata": {},
   "outputs": [
    {
     "name": "stdout",
     "output_type": "stream",
     "text": [
      "MAE простой модели дерева: 6.568568105251563\n",
      "Wall time: 32 ms\n"
     ]
    }
   ],
   "source": [
    "%%time\n",
    "model_tree = DecisionTreeRegressor(random_state = 12345, max_depth = 8)\n",
    "model_tree.fit(features_train,target_train)\n",
    "answer_model_tree = model_tree.predict(features_valid)\n",
    "mae_model_tree = (mean_absolute_error(target_valid, answer_model_tree))\n",
    "print('MAE простой модели дерева:', mae_model_tree)"
   ]
  },
  {
   "cell_type": "markdown",
   "metadata": {},
   "source": [
    "Проверим значимость отдельных признаков на результат предсказания модели модели"
   ]
  },
  {
   "cell_type": "code",
   "execution_count": 20,
   "metadata": {
    "scrolled": true
   },
   "outputs": [
    {
     "data": {
      "text/html": [
       "<div>\n",
       "<style scoped>\n",
       "    .dataframe tbody tr th:only-of-type {\n",
       "        vertical-align: middle;\n",
       "    }\n",
       "\n",
       "    .dataframe tbody tr th {\n",
       "        vertical-align: top;\n",
       "    }\n",
       "\n",
       "    .dataframe thead th {\n",
       "        text-align: right;\n",
       "    }\n",
       "</style>\n",
       "<table border=\"1\" class=\"dataframe\">\n",
       "  <thead>\n",
       "    <tr style=\"text-align: right;\">\n",
       "      <th></th>\n",
       "      <th>feature</th>\n",
       "      <th>importances_model_tree</th>\n",
       "    </tr>\n",
       "  </thead>\n",
       "  <tbody>\n",
       "    <tr>\n",
       "      <th>0</th>\n",
       "      <td>Wire 9</td>\n",
       "      <td>0.000000</td>\n",
       "    </tr>\n",
       "    <tr>\n",
       "      <th>1</th>\n",
       "      <td>Wire 5</td>\n",
       "      <td>0.000000</td>\n",
       "    </tr>\n",
       "    <tr>\n",
       "      <th>2</th>\n",
       "      <td>Bulk 2</td>\n",
       "      <td>0.000000</td>\n",
       "    </tr>\n",
       "    <tr>\n",
       "      <th>3</th>\n",
       "      <td>Bulk 13</td>\n",
       "      <td>0.000000</td>\n",
       "    </tr>\n",
       "    <tr>\n",
       "      <th>4</th>\n",
       "      <td>Wire 8</td>\n",
       "      <td>0.000000</td>\n",
       "    </tr>\n",
       "    <tr>\n",
       "      <th>5</th>\n",
       "      <td>Bulk 10</td>\n",
       "      <td>0.000000</td>\n",
       "    </tr>\n",
       "    <tr>\n",
       "      <th>6</th>\n",
       "      <td>Bulk 9</td>\n",
       "      <td>0.000000</td>\n",
       "    </tr>\n",
       "    <tr>\n",
       "      <th>7</th>\n",
       "      <td>Bulk 8</td>\n",
       "      <td>0.000000</td>\n",
       "    </tr>\n",
       "    <tr>\n",
       "      <th>8</th>\n",
       "      <td>Wire 4</td>\n",
       "      <td>0.000020</td>\n",
       "    </tr>\n",
       "    <tr>\n",
       "      <th>9</th>\n",
       "      <td>Wire 3</td>\n",
       "      <td>0.000268</td>\n",
       "    </tr>\n",
       "  </tbody>\n",
       "</table>\n",
       "</div>"
      ],
      "text/plain": [
       "   feature  importances_model_tree\n",
       "0   Wire 9                0.000000\n",
       "1   Wire 5                0.000000\n",
       "2   Bulk 2                0.000000\n",
       "3  Bulk 13                0.000000\n",
       "4   Wire 8                0.000000\n",
       "5  Bulk 10                0.000000\n",
       "6   Bulk 9                0.000000\n",
       "7   Bulk 8                0.000000\n",
       "8   Wire 4                0.000020\n",
       "9   Wire 3                0.000268"
      ]
     },
     "metadata": {},
     "output_type": "display_data"
    }
   ],
   "source": [
    "importances_model_tree = model_tree.feature_importances_\n",
    "feature_list = list(features.columns)\n",
    "feature_results = pd.DataFrame({'feature': feature_list,'importances_model_tree': importances_model_tree})\n",
    "feature_results_tree = feature_results.sort_values('importances_model_tree',ascending = True).reset_index(drop=True)\n",
    "display(feature_results_tree.head(10))"
   ]
  },
  {
   "cell_type": "markdown",
   "metadata": {},
   "source": [
    "> Вывод - первые 8 значений в нашем топ-чарте можно смело удалять, влияние на предсказание модели они не имеют, а вот на качество работы (хотябы по времени на расчёты)-да"
   ]
  },
  {
   "cell_type": "code",
   "execution_count": 21,
   "metadata": {},
   "outputs": [],
   "source": [
    "#Повторно определим признаки, исключив колонки с малозначимыми для модели признаками\n",
    "features_new = data.drop(['key','Температура_конечная','Газ 1','Wire 9','Wire 5','Bulk 2','Bulk 13','Wire 8','Bulk 10',\n",
    "                      'Bulk 9','Bulk 8'],axis = 1)\n",
    "features_train_new, x_new = train_test_split(features_new, test_size = 0.2, random_state=12345)\n",
    "features_valid_new, features_test_new = train_test_split(x_new, test_size = 0.5, random_state=12345)\n",
    "target_train_new = target[features_train_new.index]\n",
    "target_valid_new = target[features_valid_new.index]\n",
    "target_test_new = target[features_test_new.index]\n",
    "#Повторно скалер\n",
    "scaler.fit(features_train_new)\n",
    "features_train_new = scaler.transform(features_train_new)\n",
    "features_valid_new = scaler.transform(features_valid_new)\n",
    "features_test_new = scaler.transform(features_test_new)"
   ]
  },
  {
   "cell_type": "markdown",
   "metadata": {},
   "source": [
    "Еще раз прогоним модель дерева, на этот раз без лишних фичей"
   ]
  },
  {
   "cell_type": "code",
   "execution_count": 22,
   "metadata": {},
   "outputs": [
    {
     "name": "stdout",
     "output_type": "stream",
     "text": [
      "MAE простой модели дерева: 6.903245524606402\n",
      "Wall time: 16 ms\n"
     ]
    }
   ],
   "source": [
    "%%time\n",
    "model_tree = DecisionTreeRegressor(random_state = 12345, max_depth = 8)\n",
    "model_tree.fit(features_train_new,target_train_new)\n",
    "answer_model_tree_new = model_tree.predict(features_valid_new)\n",
    "mae_model_tree = (mean_absolute_error(target_valid_new, answer_model_tree_new))\n",
    "print('MAE простой модели дерева:', mae_model_tree)"
   ]
  },
  {
   "cell_type": "markdown",
   "metadata": {},
   "source": [
    "Теперь попробуем простую модель линейной регрессии"
   ]
  },
  {
   "cell_type": "code",
   "execution_count": 23,
   "metadata": {},
   "outputs": [
    {
     "name": "stdout",
     "output_type": "stream",
     "text": [
      "MAE простой модели линейной регрессии: 7.76666272856088\n",
      "Wall time: 104 ms\n"
     ]
    }
   ],
   "source": [
    "%%time\n",
    "model_regr = LinearRegression()\n",
    "model_regr.fit(features_train_new,target_train_new)\n",
    "answer_model_regr = model_regr.predict(features_valid_new)\n",
    "mae_model_regr = (mean_absolute_error(target_valid_new, answer_model_regr))\n",
    "print('MAE простой модели линейной регрессии:', mae_model_regr)"
   ]
  },
  {
   "cell_type": "markdown",
   "metadata": {},
   "source": [
    "Модель леса деревьев"
   ]
  },
  {
   "cell_type": "code",
   "execution_count": 24,
   "metadata": {
    "scrolled": true
   },
   "outputs": [
    {
     "name": "stdout",
     "output_type": "stream",
     "text": [
      "MAE простой модели леса деревьев: 6.1610766210515955\n",
      "Wall time: 209 ms\n"
     ]
    }
   ],
   "source": [
    "%%time\n",
    "model_forest = RandomForestRegressor(random_state = 12345, max_depth = 8, n_estimators = 16)\n",
    "model_forest.fit(features_train_new,target_train_new)\n",
    "answer_model_forest = model_forest.predict(features_valid_new)\n",
    "mae_model_forest = (mean_absolute_error(target_valid_new, answer_model_forest))\n",
    "print('MAE простой модели леса деревьев:', mae_model_forest)"
   ]
  },
  {
   "cell_type": "markdown",
   "metadata": {},
   "source": [
    "Средство библиотеки CatBoost"
   ]
  },
  {
   "cell_type": "code",
   "execution_count": 25,
   "metadata": {},
   "outputs": [
    {
     "name": "stdout",
     "output_type": "stream",
     "text": [
      "0:\tlearn: 15.2559748\ttotal: 234ms\tremaining: 42.3s\n",
      "181:\tlearn: 6.5817487\ttotal: 1.18s\tremaining: 0us\n",
      "MAE Катбуста 5.965781475210378\n",
      "Wall time: 1.55 s\n"
     ]
    }
   ],
   "source": [
    "%%time\n",
    "model_catboost = CatBoostRegressor(iterations=182, learning_rate = 0.084, depth = 6)\n",
    "model_catboost.fit(features_train_new, target_train_new, verbose=181)\n",
    "answer_model_catboost = model_catboost.predict(features_valid_new)\n",
    "mae_model_catboost = (mean_absolute_error(answer_model_catboost, target_valid_new)) \n",
    "print('MAE Катбуста',mae_model_catboost)"
   ]
  },
  {
   "cell_type": "markdown",
   "metadata": {},
   "source": [
    "#### Проверяем лучшую модель на тестовой выборке"
   ]
  },
  {
   "cell_type": "code",
   "execution_count": 26,
   "metadata": {},
   "outputs": [
    {
     "name": "stdout",
     "output_type": "stream",
     "text": [
      "MAE Катбуста на тестовой выборке 6.132075850704645\n"
     ]
    }
   ],
   "source": [
    "answer_model_catboost_test = model_catboost.predict(features_test_new)\n",
    "mae_model_catboost_test = (mean_absolute_error(answer_model_catboost_test, target_test_new))\n",
    "print('MAE Катбуста на тестовой выборке',mae_model_catboost_test)"
   ]
  },
  {
   "cell_type": "markdown",
   "metadata": {},
   "source": [
    "### Финальный отчет по проекту"
   ]
  },
  {
   "cell_type": "markdown",
   "metadata": {},
   "source": [
    "> технологический процесс:\n",
    ">    - расплавленную сталь заливают в ковш, \n",
    ">    - измеряют температуру стали и производят её химический анализ\n",
    ">    - если хим. состав не соответствует требуемому: разогревают,вводят добавки, замеряют ещё раз \n",
    "\n",
    "> количество циклов разное, и повторяется до тех пор, пока не будут получены требуемые характеристики\n",
    "  \n",
    "\n",
    "> ##### Подготовка данных\n",
    "- Поскольку все данные ( в том числе и признаки) в отдельных таблицах, после импорта первично ознакомился с размерами таблиц, для нагляднсти выведем по паре строк каждой таблицы. Размеры таблиц разнятся, в некоторых из них есть более одной строчки с партиями (колонка key) - что логично (ингридиенты в партию добавляются в разное количество итераций).\n",
    "\n",
    "- Далее в таблице с электродами (там, где указана затраченная на разогрев активная и реактивная мощность) - сгруппировал по партиям, нам важно затраченное количество всего на партию, не важно сколько внутри неё было итерация. Так как колонки с активной и реактивной можностью сильно коррелированы - заменил их на 1 колонку с полной мощностью.\n",
    "\n",
    "- Затем все таблицы с ингридиентами соединил в одну, способ соединения - outer. Колонка по которой сшивались - 'key'\n",
    "\n",
    "- Из таблицы температур партий (структура была такая: начальная - промежуточная - промежуточная - конечная), вычленил только крайние значения - начальноее и конечное. Если начальное или конечное значение nan, удалил такие партии- посколько начальное значение важнейший признак,а конечное - целевой, пропадание хотябы одного из них критично. Для вычиления таких партий nan перевёл в нули\n",
    "\n",
    "- Соединил таблицы с признаками и таблицу с температурой - теперь в единой таблице и признаки и целевой признак\n",
    "\n",
    "- Заменил значения NaN на нули, для избежания конфликтов моделями\n",
    "\n",
    "- Разбил данные на тренировочную, валидационную и тестовую выборки 80|10|10, назначил колонки с признаками и таргетом\n",
    "\n",
    "- Проверил корреляцию признаков между собой, чрезмерной взаимозависимости признаков нет, на этом этапе их не трогал\n",
    "\n",
    "- Поскольку все данные в таблице количественные, применил уравнивающую веса признаков скаляризацию (приблизил условия к реальным, обучил на трейновой выборке, а применил на весь датасет)\n",
    "\n",
    "> ##### Работа с моделями\n",
    "\n",
    "- Применил модель дерева решений, это простейшая модель, на её основе оценил значимость различных признаков. Оказалось, что 8 признаков имеют нулевое значение на итоговое предсказание - их удалил, для ускорения работы модели\n",
    "\n",
    "- После этого прогнал модели по циклам, итоговые получившиеся лучшие результаты МАЕ:\n",
    "        - Простая модель дерева 6.903245524606402\n",
    "        - Простая модель линейной регрессии 7.76666272856088\n",
    "        - Модель леса деревьев 6.1610766210515955\n",
    "        - CatBoost 5.965781475210378\n",
    "- Прогнал лучшую модель (Катбуст) на тестовой выборке -МАЕ получилось 6.132075850704645, что удовлетворяет поставленным условиям, но всёже видно что модель чуть-чуть переобучилась "
   ]
  }
 ],
 "metadata": {
  "ExecuteTimeLog": [
   {
    "duration": 82806,
    "start_time": "2021-07-06T06:49:05.784Z"
   },
   {
    "duration": 422,
    "start_time": "2021-07-06T06:50:28.663Z"
   },
   {
    "duration": 6,
    "start_time": "2021-07-06T06:50:33.715Z"
   },
   {
    "duration": 322,
    "start_time": "2021-07-06T06:50:35.562Z"
   },
   {
    "duration": 100,
    "start_time": "2021-07-06T06:50:37.764Z"
   },
   {
    "duration": 208,
    "start_time": "2021-07-06T06:50:38.967Z"
   },
   {
    "duration": 13,
    "start_time": "2021-07-06T06:50:39.863Z"
   },
   {
    "duration": 21,
    "start_time": "2021-07-06T06:50:40.764Z"
   },
   {
    "duration": 16,
    "start_time": "2021-07-06T06:50:41.164Z"
   },
   {
    "duration": 73,
    "start_time": "2021-07-06T06:50:41.292Z"
   },
   {
    "duration": 15,
    "start_time": "2021-07-06T06:50:42.163Z"
   },
   {
    "duration": 108,
    "start_time": "2021-07-06T06:50:42.662Z"
   },
   {
    "duration": 66,
    "start_time": "2021-07-06T06:50:46.399Z"
   },
   {
    "duration": 74303,
    "start_time": "2021-07-06T06:54:19.467Z"
   },
   {
    "duration": 605,
    "start_time": "2021-07-06T06:55:33.773Z"
   },
   {
    "duration": 13,
    "start_time": "2021-07-06T06:55:40.265Z"
   },
   {
    "duration": 422,
    "start_time": "2021-07-06T06:55:42.166Z"
   },
   {
    "duration": 19,
    "start_time": "2021-07-06T06:55:44.064Z"
   },
   {
    "duration": 402,
    "start_time": "2021-07-06T06:55:46.464Z"
   },
   {
    "duration": 70,
    "start_time": "2021-07-06T06:55:51.704Z"
   },
   {
    "duration": 103,
    "start_time": "2021-07-06T06:55:52.270Z"
   },
   {
    "duration": 95,
    "start_time": "2021-07-06T06:55:55.674Z"
   },
   {
    "duration": 17,
    "start_time": "2021-07-06T06:55:56.067Z"
   },
   {
    "duration": 93,
    "start_time": "2021-07-06T06:56:17.586Z"
   },
   {
    "duration": 19,
    "start_time": "2021-07-06T06:56:21.462Z"
   },
   {
    "duration": 106,
    "start_time": "2021-07-06T06:56:21.966Z"
   },
   {
    "duration": 5,
    "start_time": "2021-07-06T06:56:23.563Z"
   },
   {
    "duration": 199,
    "start_time": "2021-07-06T06:56:38.980Z"
   },
   {
    "duration": 11,
    "start_time": "2021-07-06T06:57:57.267Z"
   },
   {
    "duration": 25,
    "start_time": "2021-07-06T06:57:57.465Z"
   },
   {
    "duration": 18,
    "start_time": "2021-07-06T06:57:58.475Z"
   },
   {
    "duration": 117,
    "start_time": "2021-07-06T06:59:11.266Z"
   },
   {
    "duration": 29,
    "start_time": "2021-07-06T06:59:14.368Z"
   },
   {
    "duration": 605,
    "start_time": "2021-07-06T06:59:18.976Z"
   },
   {
    "duration": 5978,
    "start_time": "2021-07-06T06:59:23.979Z"
   },
   {
    "duration": 26,
    "start_time": "2021-07-06T06:59:29.961Z"
   },
   {
    "duration": 3209,
    "start_time": "2021-07-07T09:29:35.836Z"
   },
   {
    "duration": 138,
    "start_time": "2021-07-07T09:29:39.047Z"
   },
   {
    "duration": 4,
    "start_time": "2021-07-07T09:29:39.187Z"
   },
   {
    "duration": 42,
    "start_time": "2021-07-07T09:29:39.192Z"
   },
   {
    "duration": 58,
    "start_time": "2021-07-07T09:29:39.236Z"
   },
   {
    "duration": -230,
    "start_time": "2021-07-07T09:29:39.527Z"
   },
   {
    "duration": -236,
    "start_time": "2021-07-07T09:29:39.534Z"
   },
   {
    "duration": -249,
    "start_time": "2021-07-07T09:29:39.548Z"
   },
   {
    "duration": -268,
    "start_time": "2021-07-07T09:29:39.567Z"
   },
   {
    "duration": -276,
    "start_time": "2021-07-07T09:29:39.577Z"
   },
   {
    "duration": -280,
    "start_time": "2021-07-07T09:29:39.582Z"
   },
   {
    "duration": -397,
    "start_time": "2021-07-07T09:29:39.700Z"
   },
   {
    "duration": -405,
    "start_time": "2021-07-07T09:29:39.708Z"
   },
   {
    "duration": -409,
    "start_time": "2021-07-07T09:29:39.713Z"
   },
   {
    "duration": -439,
    "start_time": "2021-07-07T09:29:39.744Z"
   },
   {
    "duration": -461,
    "start_time": "2021-07-07T09:29:39.767Z"
   },
   {
    "duration": -472,
    "start_time": "2021-07-07T09:29:39.779Z"
   },
   {
    "duration": -485,
    "start_time": "2021-07-07T09:29:39.793Z"
   },
   {
    "duration": -487,
    "start_time": "2021-07-07T09:29:39.796Z"
   },
   {
    "duration": -502,
    "start_time": "2021-07-07T09:29:39.812Z"
   },
   {
    "duration": -519,
    "start_time": "2021-07-07T09:29:39.830Z"
   },
   {
    "duration": -533,
    "start_time": "2021-07-07T09:29:39.845Z"
   },
   {
    "duration": -546,
    "start_time": "2021-07-07T09:29:39.859Z"
   },
   {
    "duration": 328,
    "start_time": "2021-07-07T09:29:57.604Z"
   },
   {
    "duration": 11,
    "start_time": "2021-07-07T09:34:46.638Z"
   },
   {
    "duration": 3126,
    "start_time": "2021-07-07T09:35:09.772Z"
   },
   {
    "duration": 139,
    "start_time": "2021-07-07T09:35:12.901Z"
   },
   {
    "duration": 5,
    "start_time": "2021-07-07T09:35:13.042Z"
   },
   {
    "duration": 120,
    "start_time": "2021-07-07T09:35:13.048Z"
   },
   {
    "duration": 13,
    "start_time": "2021-07-07T09:35:13.169Z"
   },
   {
    "duration": 76,
    "start_time": "2021-07-07T09:35:13.184Z"
   },
   {
    "duration": 5,
    "start_time": "2021-07-07T09:35:13.262Z"
   },
   {
    "duration": 47,
    "start_time": "2021-07-07T09:35:13.269Z"
   },
   {
    "duration": 38,
    "start_time": "2021-07-07T09:35:13.318Z"
   },
   {
    "duration": 31,
    "start_time": "2021-07-07T09:35:13.358Z"
   },
   {
    "duration": 34,
    "start_time": "2021-07-07T09:35:13.390Z"
   },
   {
    "duration": 50,
    "start_time": "2021-07-07T09:35:13.426Z"
   },
   {
    "duration": 32,
    "start_time": "2021-07-07T09:35:13.478Z"
   },
   {
    "duration": 15,
    "start_time": "2021-07-07T09:35:13.512Z"
   },
   {
    "duration": 44,
    "start_time": "2021-07-07T09:35:13.529Z"
   },
   {
    "duration": 12,
    "start_time": "2021-07-07T09:35:13.575Z"
   },
   {
    "duration": 52,
    "start_time": "2021-07-07T09:35:13.588Z"
   },
   {
    "duration": 28,
    "start_time": "2021-07-07T09:35:13.642Z"
   },
   {
    "duration": 29,
    "start_time": "2021-07-07T09:35:13.672Z"
   },
   {
    "duration": 192,
    "start_time": "2021-07-07T09:35:13.705Z"
   },
   {
    "duration": 114,
    "start_time": "2021-07-07T09:35:13.899Z"
   },
   {
    "duration": 3809,
    "start_time": "2021-07-07T09:35:14.015Z"
   },
   {
    "duration": 6,
    "start_time": "2021-07-07T09:35:17.826Z"
   },
   {
    "duration": 2961,
    "start_time": "2021-07-07T11:07:11.924Z"
   },
   {
    "duration": 137,
    "start_time": "2021-07-07T11:07:14.887Z"
   },
   {
    "duration": 5,
    "start_time": "2021-07-07T11:07:15.026Z"
   },
   {
    "duration": 53,
    "start_time": "2021-07-07T11:07:15.033Z"
   },
   {
    "duration": 12,
    "start_time": "2021-07-07T11:07:15.087Z"
   },
   {
    "duration": 33,
    "start_time": "2021-07-07T11:07:15.100Z"
   },
   {
    "duration": 4,
    "start_time": "2021-07-07T11:07:15.135Z"
   },
   {
    "duration": 10,
    "start_time": "2021-07-07T11:07:15.142Z"
   },
   {
    "duration": 40,
    "start_time": "2021-07-07T11:07:15.154Z"
   },
   {
    "duration": 7,
    "start_time": "2021-07-07T11:07:15.196Z"
   },
   {
    "duration": 7,
    "start_time": "2021-07-07T11:07:15.204Z"
   },
   {
    "duration": 10,
    "start_time": "2021-07-07T11:07:15.213Z"
   },
   {
    "duration": 19,
    "start_time": "2021-07-07T11:07:15.224Z"
   },
   {
    "duration": 3,
    "start_time": "2021-07-07T11:07:15.245Z"
   },
   {
    "duration": 58,
    "start_time": "2021-07-07T11:07:15.249Z"
   },
   {
    "duration": 3,
    "start_time": "2021-07-07T11:07:15.309Z"
   },
   {
    "duration": 20,
    "start_time": "2021-07-07T11:07:15.314Z"
   },
   {
    "duration": 6,
    "start_time": "2021-07-07T11:07:15.336Z"
   },
   {
    "duration": 46,
    "start_time": "2021-07-07T11:07:15.344Z"
   },
   {
    "duration": 194,
    "start_time": "2021-07-07T11:07:15.392Z"
   },
   {
    "duration": 112,
    "start_time": "2021-07-07T11:07:15.588Z"
   },
   {
    "duration": 3494,
    "start_time": "2021-07-07T11:07:15.702Z"
   },
   {
    "duration": 5,
    "start_time": "2021-07-07T11:07:19.199Z"
   },
   {
    "duration": 2179,
    "start_time": "2021-07-07T11:07:28.586Z"
   },
   {
    "duration": 5323,
    "start_time": "2021-07-07T11:07:40.820Z"
   },
   {
    "duration": 7,
    "start_time": "2021-07-07T11:07:50.094Z"
   },
   {
    "duration": 2275,
    "start_time": "2021-07-07T11:07:56.367Z"
   },
   {
    "duration": 6,
    "start_time": "2021-07-07T11:08:01.520Z"
   },
   {
    "duration": 3580,
    "start_time": "2021-07-07T11:08:06.576Z"
   },
   {
    "duration": 8,
    "start_time": "2021-07-07T11:08:15.644Z"
   },
   {
    "duration": 4019,
    "start_time": "2021-07-07T11:08:22.732Z"
   },
   {
    "duration": 14,
    "start_time": "2021-07-07T11:08:27.989Z"
   },
   {
    "duration": 3914,
    "start_time": "2021-07-07T11:08:35.711Z"
   },
   {
    "duration": 5,
    "start_time": "2021-07-07T11:08:39.626Z"
   },
   {
    "duration": 3452,
    "start_time": "2021-07-07T11:08:51.335Z"
   },
   {
    "duration": 6,
    "start_time": "2021-07-07T11:08:58.928Z"
   },
   {
    "duration": 3468,
    "start_time": "2021-07-07T11:09:08.031Z"
   },
   {
    "duration": 5,
    "start_time": "2021-07-07T11:09:11.500Z"
   },
   {
    "duration": 3523,
    "start_time": "2021-07-07T11:09:19.781Z"
   },
   {
    "duration": 6,
    "start_time": "2021-07-07T11:09:26.734Z"
   },
   {
    "duration": 3428,
    "start_time": "2021-07-07T11:09:33.259Z"
   },
   {
    "duration": 12,
    "start_time": "2021-07-07T11:09:39.003Z"
   },
   {
    "duration": 3416,
    "start_time": "2021-07-07T11:09:48.240Z"
   },
   {
    "duration": 7,
    "start_time": "2021-07-07T11:09:56.542Z"
   },
   {
    "duration": 3483,
    "start_time": "2021-07-07T11:10:18.116Z"
   },
   {
    "duration": 6,
    "start_time": "2021-07-07T11:10:21.601Z"
   },
   {
    "duration": 3593,
    "start_time": "2021-07-07T11:10:27.931Z"
   },
   {
    "duration": 6,
    "start_time": "2021-07-07T11:10:34.350Z"
   },
   {
    "duration": 3486,
    "start_time": "2021-07-07T11:10:39.709Z"
   },
   {
    "duration": 5,
    "start_time": "2021-07-07T11:10:43.197Z"
   },
   {
    "duration": 4570,
    "start_time": "2021-07-07T11:10:51.825Z"
   },
   {
    "duration": 6,
    "start_time": "2021-07-07T11:11:01.049Z"
   },
   {
    "duration": 2665,
    "start_time": "2021-07-07T11:11:07.292Z"
   },
   {
    "duration": 6,
    "start_time": "2021-07-07T11:11:11.689Z"
   },
   {
    "duration": 3507,
    "start_time": "2021-07-07T11:11:20.617Z"
   },
   {
    "duration": 5,
    "start_time": "2021-07-07T11:11:24.127Z"
   },
   {
    "duration": 372,
    "start_time": "2021-07-07T11:54:32.906Z"
   },
   {
    "duration": 3892,
    "start_time": "2021-07-07T11:55:08.062Z"
   },
   {
    "duration": 106,
    "start_time": "2021-07-07T11:55:49.259Z"
   },
   {
    "duration": 4,
    "start_time": "2021-07-07T11:58:04.144Z"
   },
   {
    "duration": 99,
    "start_time": "2021-07-07T11:58:05.658Z"
   },
   {
    "duration": 4,
    "start_time": "2021-07-07T11:59:13.100Z"
   },
   {
    "duration": 4,
    "start_time": "2021-07-07T11:59:27.661Z"
   },
   {
    "duration": 4,
    "start_time": "2021-07-07T11:59:34.239Z"
   },
   {
    "duration": 7,
    "start_time": "2021-07-07T12:00:27.119Z"
   },
   {
    "duration": 8,
    "start_time": "2021-07-07T12:03:26.749Z"
   },
   {
    "duration": 9,
    "start_time": "2021-07-07T12:04:57.554Z"
   },
   {
    "duration": 7,
    "start_time": "2021-07-07T12:05:14.127Z"
   },
   {
    "duration": 188,
    "start_time": "2021-07-07T12:12:37.894Z"
   },
   {
    "duration": 182,
    "start_time": "2021-07-07T12:12:50.969Z"
   },
   {
    "duration": 2977,
    "start_time": "2021-07-07T12:14:07.593Z"
   },
   {
    "duration": 132,
    "start_time": "2021-07-07T12:14:10.572Z"
   },
   {
    "duration": 5,
    "start_time": "2021-07-07T12:14:10.706Z"
   },
   {
    "duration": 45,
    "start_time": "2021-07-07T12:14:10.713Z"
   },
   {
    "duration": 27,
    "start_time": "2021-07-07T12:14:10.760Z"
   },
   {
    "duration": 33,
    "start_time": "2021-07-07T12:14:10.789Z"
   },
   {
    "duration": 5,
    "start_time": "2021-07-07T12:14:10.824Z"
   },
   {
    "duration": 12,
    "start_time": "2021-07-07T12:14:10.832Z"
   },
   {
    "duration": 39,
    "start_time": "2021-07-07T12:14:10.846Z"
   },
   {
    "duration": 7,
    "start_time": "2021-07-07T12:14:10.886Z"
   },
   {
    "duration": 6,
    "start_time": "2021-07-07T12:14:10.894Z"
   },
   {
    "duration": 9,
    "start_time": "2021-07-07T12:14:10.901Z"
   },
   {
    "duration": 17,
    "start_time": "2021-07-07T12:14:10.911Z"
   },
   {
    "duration": 6,
    "start_time": "2021-07-07T12:14:10.930Z"
   },
   {
    "duration": 65,
    "start_time": "2021-07-07T12:14:10.937Z"
   },
   {
    "duration": 3,
    "start_time": "2021-07-07T12:14:11.004Z"
   },
   {
    "duration": 11,
    "start_time": "2021-07-07T12:14:11.009Z"
   },
   {
    "duration": 7,
    "start_time": "2021-07-07T12:14:11.021Z"
   },
   {
    "duration": 66,
    "start_time": "2021-07-07T12:14:11.030Z"
   },
   {
    "duration": 107,
    "start_time": "2021-07-07T12:14:11.186Z"
   },
   {
    "duration": 112,
    "start_time": "2021-07-07T12:14:11.294Z"
   },
   {
    "duration": 4600,
    "start_time": "2021-07-07T12:14:11.408Z"
   },
   {
    "duration": 8,
    "start_time": "2021-07-07T12:14:16.011Z"
   },
   {
    "duration": 11,
    "start_time": "2021-07-07T12:14:16.020Z"
   },
   {
    "duration": 12,
    "start_time": "2021-07-07T12:14:36.023Z"
   },
   {
    "duration": 14,
    "start_time": "2021-07-07T12:15:58.582Z"
   },
   {
    "duration": 14,
    "start_time": "2021-07-07T12:17:14.878Z"
   },
   {
    "duration": 14,
    "start_time": "2021-07-07T12:17:45.803Z"
   },
   {
    "duration": 27,
    "start_time": "2021-07-07T12:20:08.862Z"
   },
   {
    "duration": 29,
    "start_time": "2021-07-07T12:20:38.780Z"
   },
   {
    "duration": 27,
    "start_time": "2021-07-07T12:20:49.391Z"
   },
   {
    "duration": 144,
    "start_time": "2021-07-07T19:39:37.251Z"
   },
   {
    "duration": 3675,
    "start_time": "2021-07-07T20:05:05.560Z"
   },
   {
    "duration": 175,
    "start_time": "2021-07-07T20:05:09.237Z"
   },
   {
    "duration": 5,
    "start_time": "2021-07-07T20:05:09.414Z"
   },
   {
    "duration": 45,
    "start_time": "2021-07-07T20:05:09.421Z"
   },
   {
    "duration": 21,
    "start_time": "2021-07-07T20:05:09.467Z"
   },
   {
    "duration": 34,
    "start_time": "2021-07-07T20:05:09.490Z"
   },
   {
    "duration": 4,
    "start_time": "2021-07-07T20:05:09.526Z"
   },
   {
    "duration": 10,
    "start_time": "2021-07-07T20:05:09.533Z"
   },
   {
    "duration": 42,
    "start_time": "2021-07-07T20:05:09.546Z"
   },
   {
    "duration": 7,
    "start_time": "2021-07-07T20:05:09.590Z"
   },
   {
    "duration": 5,
    "start_time": "2021-07-07T20:05:09.598Z"
   },
   {
    "duration": 7,
    "start_time": "2021-07-07T20:05:09.604Z"
   },
   {
    "duration": 17,
    "start_time": "2021-07-07T20:05:09.613Z"
   },
   {
    "duration": 4,
    "start_time": "2021-07-07T20:05:09.631Z"
   },
   {
    "duration": 55,
    "start_time": "2021-07-07T20:05:09.637Z"
   },
   {
    "duration": 3,
    "start_time": "2021-07-07T20:05:09.694Z"
   },
   {
    "duration": 9,
    "start_time": "2021-07-07T20:05:09.699Z"
   },
   {
    "duration": 6,
    "start_time": "2021-07-07T20:05:09.710Z"
   },
   {
    "duration": 166,
    "start_time": "2021-07-07T20:05:09.718Z"
   },
   {
    "duration": 106,
    "start_time": "2021-07-07T20:05:09.887Z"
   },
   {
    "duration": 278,
    "start_time": "2021-07-07T20:05:09.994Z"
   },
   {
    "duration": -1002,
    "start_time": "2021-07-07T20:05:11.276Z"
   },
   {
    "duration": -1004,
    "start_time": "2021-07-07T20:05:11.279Z"
   },
   {
    "duration": -1008,
    "start_time": "2021-07-07T20:05:11.284Z"
   },
   {
    "duration": 10,
    "start_time": "2021-07-07T20:06:07.317Z"
   },
   {
    "duration": 11,
    "start_time": "2021-07-07T20:06:35.251Z"
   },
   {
    "duration": 10,
    "start_time": "2021-07-07T20:06:57.796Z"
   },
   {
    "duration": 5,
    "start_time": "2021-07-07T20:23:53.137Z"
   },
   {
    "duration": 18,
    "start_time": "2021-07-07T20:29:28.086Z"
   },
   {
    "duration": 65931,
    "start_time": "2021-07-07T20:31:44.537Z"
   },
   {
    "duration": 3227,
    "start_time": "2021-07-07T20:50:46.030Z"
   },
   {
    "duration": 142,
    "start_time": "2021-07-07T20:50:49.259Z"
   },
   {
    "duration": 5,
    "start_time": "2021-07-07T20:50:49.403Z"
   },
   {
    "duration": 39,
    "start_time": "2021-07-07T20:50:49.410Z"
   },
   {
    "duration": 12,
    "start_time": "2021-07-07T20:50:49.450Z"
   },
   {
    "duration": 60,
    "start_time": "2021-07-07T20:50:49.463Z"
   },
   {
    "duration": 5,
    "start_time": "2021-07-07T20:50:49.524Z"
   },
   {
    "duration": 11,
    "start_time": "2021-07-07T20:50:49.532Z"
   },
   {
    "duration": 9,
    "start_time": "2021-07-07T20:50:49.545Z"
   },
   {
    "duration": 30,
    "start_time": "2021-07-07T20:50:49.556Z"
   },
   {
    "duration": 6,
    "start_time": "2021-07-07T20:50:49.588Z"
   },
   {
    "duration": 8,
    "start_time": "2021-07-07T20:50:49.596Z"
   },
   {
    "duration": 21,
    "start_time": "2021-07-07T20:50:49.606Z"
   },
   {
    "duration": 4,
    "start_time": "2021-07-07T20:50:49.629Z"
   },
   {
    "duration": 55,
    "start_time": "2021-07-07T20:50:49.634Z"
   },
   {
    "duration": 6,
    "start_time": "2021-07-07T20:50:49.691Z"
   },
   {
    "duration": 2610,
    "start_time": "2021-07-07T20:50:49.700Z"
   },
   {
    "duration": 11,
    "start_time": "2021-07-07T20:50:52.312Z"
   },
   {
    "duration": 7,
    "start_time": "2021-07-07T20:50:52.326Z"
   },
   {
    "duration": 153,
    "start_time": "2021-07-07T20:50:52.335Z"
   },
   {
    "duration": 95,
    "start_time": "2021-07-07T20:50:52.490Z"
   },
   {
    "duration": 15,
    "start_time": "2021-07-07T20:50:52.588Z"
   },
   {
    "duration": 124,
    "start_time": "2021-07-07T20:50:52.606Z"
   },
   {
    "duration": 3982,
    "start_time": "2021-07-07T20:50:52.732Z"
   },
   {
    "duration": 7,
    "start_time": "2021-07-07T20:50:56.715Z"
   },
   {
    "duration": 2149,
    "start_time": "2021-07-07T20:57:56.136Z"
   },
   {
    "duration": 2270,
    "start_time": "2021-07-07T20:59:59.726Z"
   },
   {
    "duration": 428,
    "start_time": "2021-07-07T21:04:01.752Z"
   },
   {
    "duration": 3161,
    "start_time": "2021-07-07T21:04:12.715Z"
   },
   {
    "duration": 136,
    "start_time": "2021-07-07T21:04:15.878Z"
   },
   {
    "duration": 5,
    "start_time": "2021-07-07T21:04:16.016Z"
   },
   {
    "duration": 39,
    "start_time": "2021-07-07T21:04:16.023Z"
   },
   {
    "duration": 25,
    "start_time": "2021-07-07T21:04:16.063Z"
   },
   {
    "duration": 33,
    "start_time": "2021-07-07T21:04:16.089Z"
   },
   {
    "duration": 5,
    "start_time": "2021-07-07T21:04:16.123Z"
   },
   {
    "duration": 12,
    "start_time": "2021-07-07T21:04:16.131Z"
   },
   {
    "duration": 9,
    "start_time": "2021-07-07T21:04:16.145Z"
   },
   {
    "duration": 36,
    "start_time": "2021-07-07T21:04:16.156Z"
   },
   {
    "duration": 6,
    "start_time": "2021-07-07T21:04:16.194Z"
   },
   {
    "duration": 8,
    "start_time": "2021-07-07T21:04:16.201Z"
   },
   {
    "duration": 21,
    "start_time": "2021-07-07T21:04:16.211Z"
   },
   {
    "duration": 4,
    "start_time": "2021-07-07T21:04:16.234Z"
   },
   {
    "duration": 67,
    "start_time": "2021-07-07T21:04:16.240Z"
   },
   {
    "duration": 5,
    "start_time": "2021-07-07T21:04:16.309Z"
   },
   {
    "duration": 2592,
    "start_time": "2021-07-07T21:04:16.316Z"
   },
   {
    "duration": 2208,
    "start_time": "2021-07-07T21:04:18.910Z"
   },
   {
    "duration": 12,
    "start_time": "2021-07-07T21:04:21.120Z"
   },
   {
    "duration": 23,
    "start_time": "2021-07-07T21:04:21.134Z"
   },
   {
    "duration": 30,
    "start_time": "2021-07-07T21:04:21.159Z"
   },
   {
    "duration": 197,
    "start_time": "2021-07-07T21:04:21.191Z"
   },
   {
    "duration": 13,
    "start_time": "2021-07-07T21:04:21.392Z"
   },
   {
    "duration": 121,
    "start_time": "2021-07-07T21:04:21.407Z"
   },
   {
    "duration": 5420,
    "start_time": "2021-07-07T21:04:21.530Z"
   },
   {
    "duration": 5,
    "start_time": "2021-07-07T21:04:26.952Z"
   },
   {
    "duration": 2677,
    "start_time": "2021-07-07T21:05:10.759Z"
   },
   {
    "duration": 2528,
    "start_time": "2021-07-07T21:05:24.951Z"
   },
   {
    "duration": 60,
    "start_time": "2021-07-07T21:06:28.200Z"
   },
   {
    "duration": 2634,
    "start_time": "2021-07-07T21:06:34.421Z"
   },
   {
    "duration": 2533,
    "start_time": "2021-07-07T21:08:09.930Z"
   },
   {
    "duration": 2668,
    "start_time": "2021-07-07T21:08:22.747Z"
   },
   {
    "duration": 2497,
    "start_time": "2021-07-07T21:08:33.384Z"
   },
   {
    "duration": 2783,
    "start_time": "2021-07-07T21:08:48.893Z"
   },
   {
    "duration": 2790,
    "start_time": "2021-07-07T21:08:57.688Z"
   },
   {
    "duration": 2667,
    "start_time": "2021-07-07T21:09:09.659Z"
   },
   {
    "duration": 2663,
    "start_time": "2021-07-07T21:09:33.389Z"
   },
   {
    "duration": 2514,
    "start_time": "2021-07-07T21:09:47.473Z"
   },
   {
    "duration": 2692,
    "start_time": "2021-07-07T21:10:03.334Z"
   },
   {
    "duration": 2562,
    "start_time": "2021-07-07T21:11:22.444Z"
   },
   {
    "duration": 52,
    "start_time": "2021-07-07T21:12:20.103Z"
   },
   {
    "duration": 20,
    "start_time": "2021-07-07T21:14:40.529Z"
   },
   {
    "duration": 19,
    "start_time": "2021-07-07T21:14:48.342Z"
   },
   {
    "duration": 20,
    "start_time": "2021-07-07T21:15:02.837Z"
   },
   {
    "duration": 3259,
    "start_time": "2021-07-07T21:29:19.984Z"
   },
   {
    "duration": 145,
    "start_time": "2021-07-07T21:29:23.245Z"
   },
   {
    "duration": 8,
    "start_time": "2021-07-07T21:29:23.392Z"
   },
   {
    "duration": 41,
    "start_time": "2021-07-07T21:29:23.403Z"
   },
   {
    "duration": 40,
    "start_time": "2021-07-07T21:29:23.446Z"
   },
   {
    "duration": 47,
    "start_time": "2021-07-07T21:29:23.489Z"
   },
   {
    "duration": 4,
    "start_time": "2021-07-07T21:29:23.538Z"
   },
   {
    "duration": 9,
    "start_time": "2021-07-07T21:29:23.545Z"
   },
   {
    "duration": 38,
    "start_time": "2021-07-07T21:29:23.556Z"
   },
   {
    "duration": 10,
    "start_time": "2021-07-07T21:29:23.597Z"
   },
   {
    "duration": 8,
    "start_time": "2021-07-07T21:29:23.609Z"
   },
   {
    "duration": 19,
    "start_time": "2021-07-07T21:29:23.618Z"
   },
   {
    "duration": 4,
    "start_time": "2021-07-07T21:29:23.638Z"
   },
   {
    "duration": 55,
    "start_time": "2021-07-07T21:29:23.644Z"
   },
   {
    "duration": 5,
    "start_time": "2021-07-07T21:29:23.702Z"
   },
   {
    "duration": 2861,
    "start_time": "2021-07-07T21:29:23.709Z"
   },
   {
    "duration": 20,
    "start_time": "2021-07-07T21:29:26.572Z"
   },
   {
    "duration": 9,
    "start_time": "2021-07-07T21:29:26.595Z"
   },
   {
    "duration": 8,
    "start_time": "2021-07-07T21:29:26.606Z"
   },
   {
    "duration": 537,
    "start_time": "2021-07-07T21:29:26.616Z"
   },
   {
    "duration": -1105,
    "start_time": "2021-07-07T21:29:28.260Z"
   },
   {
    "duration": -1108,
    "start_time": "2021-07-07T21:29:28.264Z"
   },
   {
    "duration": -1110,
    "start_time": "2021-07-07T21:29:28.267Z"
   },
   {
    "duration": -1114,
    "start_time": "2021-07-07T21:29:28.272Z"
   },
   {
    "duration": -1116,
    "start_time": "2021-07-07T21:29:28.275Z"
   },
   {
    "duration": -1118,
    "start_time": "2021-07-07T21:29:28.278Z"
   },
   {
    "duration": 15,
    "start_time": "2021-07-07T21:31:53.430Z"
   },
   {
    "duration": 10,
    "start_time": "2021-07-07T21:32:01.665Z"
   },
   {
    "duration": 15,
    "start_time": "2021-07-07T21:32:07.933Z"
   },
   {
    "duration": 14,
    "start_time": "2021-07-07T21:32:20.764Z"
   },
   {
    "duration": 7,
    "start_time": "2021-07-07T21:32:50.306Z"
   },
   {
    "duration": 106,
    "start_time": "2021-07-07T21:32:52.738Z"
   },
   {
    "duration": 4197,
    "start_time": "2021-07-07T21:32:57.715Z"
   },
   {
    "duration": 101,
    "start_time": "2021-07-07T21:33:54.198Z"
   },
   {
    "duration": 3536,
    "start_time": "2021-07-07T21:34:38.808Z"
   },
   {
    "duration": 3608,
    "start_time": "2021-07-07T21:35:04.460Z"
   },
   {
    "duration": 3276,
    "start_time": "2021-07-07T21:37:22.845Z"
   },
   {
    "duration": 132,
    "start_time": "2021-07-07T21:37:26.123Z"
   },
   {
    "duration": 4,
    "start_time": "2021-07-07T21:37:26.257Z"
   },
   {
    "duration": 53,
    "start_time": "2021-07-07T21:37:26.263Z"
   },
   {
    "duration": 11,
    "start_time": "2021-07-07T21:37:26.318Z"
   },
   {
    "duration": 57,
    "start_time": "2021-07-07T21:37:26.331Z"
   },
   {
    "duration": 9,
    "start_time": "2021-07-07T21:37:26.390Z"
   },
   {
    "duration": 12,
    "start_time": "2021-07-07T21:37:26.403Z"
   },
   {
    "duration": 10,
    "start_time": "2021-07-07T21:37:26.417Z"
   },
   {
    "duration": 7,
    "start_time": "2021-07-07T21:37:26.429Z"
   },
   {
    "duration": 7,
    "start_time": "2021-07-07T21:37:26.437Z"
   },
   {
    "duration": 54,
    "start_time": "2021-07-07T21:37:26.446Z"
   },
   {
    "duration": 5,
    "start_time": "2021-07-07T21:37:26.502Z"
   },
   {
    "duration": 27,
    "start_time": "2021-07-07T21:37:26.509Z"
   },
   {
    "duration": 4,
    "start_time": "2021-07-07T21:37:26.538Z"
   },
   {
    "duration": 2864,
    "start_time": "2021-07-07T21:37:26.544Z"
   },
   {
    "duration": 9,
    "start_time": "2021-07-07T21:37:29.409Z"
   },
   {
    "duration": 7,
    "start_time": "2021-07-07T21:37:29.419Z"
   },
   {
    "duration": 14,
    "start_time": "2021-07-07T21:37:29.428Z"
   },
   {
    "duration": 41,
    "start_time": "2021-07-07T21:37:29.444Z"
   },
   {
    "duration": 20,
    "start_time": "2021-07-07T21:37:29.488Z"
   },
   {
    "duration": 16,
    "start_time": "2021-07-07T21:37:29.511Z"
   },
   {
    "duration": 56,
    "start_time": "2021-07-07T21:37:29.531Z"
   },
   {
    "duration": 231,
    "start_time": "2021-07-07T21:37:29.591Z"
   },
   {
    "duration": 90823,
    "start_time": "2021-07-07T21:37:29.824Z"
   },
   {
    "duration": 6,
    "start_time": "2021-07-07T21:39:00.649Z"
   },
   {
    "duration": 31189,
    "start_time": "2021-07-07T21:40:32.295Z"
   },
   {
    "duration": 218,
    "start_time": "2021-07-07T21:42:19.297Z"
   },
   {
    "duration": 126,
    "start_time": "2021-07-07T21:42:51.411Z"
   },
   {
    "duration": 3306,
    "start_time": "2021-07-07T21:43:23.697Z"
   },
   {
    "duration": 3610,
    "start_time": "2021-07-07T21:43:35.737Z"
   },
   {
    "duration": 3243,
    "start_time": "2021-07-07T21:43:54.771Z"
   },
   {
    "duration": 3434,
    "start_time": "2021-07-07T21:44:06.377Z"
   },
   {
    "duration": 3227,
    "start_time": "2021-07-07T21:44:18.473Z"
   },
   {
    "duration": 3178,
    "start_time": "2021-07-07T21:44:31.597Z"
   },
   {
    "duration": 3380,
    "start_time": "2021-07-07T21:44:43.943Z"
   },
   {
    "duration": 3245,
    "start_time": "2021-07-07T21:44:54.489Z"
   },
   {
    "duration": 3269,
    "start_time": "2021-07-07T21:45:03.806Z"
   },
   {
    "duration": 3084,
    "start_time": "2021-07-07T21:45:14.217Z"
   },
   {
    "duration": 3243,
    "start_time": "2021-07-07T21:45:24.472Z"
   },
   {
    "duration": 14,
    "start_time": "2021-07-07T21:45:56.385Z"
   },
   {
    "duration": 5,
    "start_time": "2021-07-07T21:46:12.678Z"
   },
   {
    "duration": 3194,
    "start_time": "2021-07-07T21:46:22.441Z"
   },
   {
    "duration": 133,
    "start_time": "2021-07-07T21:46:25.637Z"
   },
   {
    "duration": 4,
    "start_time": "2021-07-07T21:46:25.772Z"
   },
   {
    "duration": 47,
    "start_time": "2021-07-07T21:46:25.778Z"
   },
   {
    "duration": 12,
    "start_time": "2021-07-07T21:46:25.827Z"
   },
   {
    "duration": 64,
    "start_time": "2021-07-07T21:46:25.840Z"
   },
   {
    "duration": 5,
    "start_time": "2021-07-07T21:46:25.906Z"
   },
   {
    "duration": 12,
    "start_time": "2021-07-07T21:46:25.913Z"
   },
   {
    "duration": 10,
    "start_time": "2021-07-07T21:46:25.928Z"
   },
   {
    "duration": 7,
    "start_time": "2021-07-07T21:46:25.940Z"
   },
   {
    "duration": 10,
    "start_time": "2021-07-07T21:46:25.949Z"
   },
   {
    "duration": 54,
    "start_time": "2021-07-07T21:46:25.960Z"
   },
   {
    "duration": 4,
    "start_time": "2021-07-07T21:46:26.016Z"
   },
   {
    "duration": 21,
    "start_time": "2021-07-07T21:46:26.022Z"
   },
   {
    "duration": 15,
    "start_time": "2021-07-07T21:46:26.045Z"
   },
   {
    "duration": 2814,
    "start_time": "2021-07-07T21:46:26.061Z"
   },
   {
    "duration": 21,
    "start_time": "2021-07-07T21:46:28.877Z"
   },
   {
    "duration": 10,
    "start_time": "2021-07-07T21:46:28.901Z"
   },
   {
    "duration": 14,
    "start_time": "2021-07-07T21:46:28.913Z"
   },
   {
    "duration": 12,
    "start_time": "2021-07-07T21:46:28.928Z"
   },
   {
    "duration": 44,
    "start_time": "2021-07-07T21:46:28.941Z"
   },
   {
    "duration": 20,
    "start_time": "2021-07-07T21:46:28.987Z"
   },
   {
    "duration": 9,
    "start_time": "2021-07-07T21:46:29.008Z"
   },
   {
    "duration": 268,
    "start_time": "2021-07-07T21:46:29.019Z"
   },
   {
    "duration": 3319,
    "start_time": "2021-07-07T21:46:29.289Z"
   },
   {
    "duration": 6,
    "start_time": "2021-07-07T21:46:32.609Z"
   },
   {
    "duration": 2013,
    "start_time": "2021-07-07T21:47:46.109Z"
   },
   {
    "duration": 135,
    "start_time": "2021-07-07T21:47:48.124Z"
   },
   {
    "duration": 5,
    "start_time": "2021-07-07T21:47:48.261Z"
   },
   {
    "duration": 45,
    "start_time": "2021-07-07T21:47:48.267Z"
   },
   {
    "duration": 11,
    "start_time": "2021-07-07T21:47:48.314Z"
   },
   {
    "duration": 32,
    "start_time": "2021-07-07T21:47:48.327Z"
   },
   {
    "duration": 28,
    "start_time": "2021-07-07T21:47:48.361Z"
   },
   {
    "duration": 11,
    "start_time": "2021-07-07T21:47:48.394Z"
   },
   {
    "duration": 10,
    "start_time": "2021-07-07T21:47:48.407Z"
   },
   {
    "duration": 7,
    "start_time": "2021-07-07T21:47:48.419Z"
   },
   {
    "duration": 9,
    "start_time": "2021-07-07T21:47:48.427Z"
   },
   {
    "duration": 54,
    "start_time": "2021-07-07T21:47:48.437Z"
   },
   {
    "duration": 9,
    "start_time": "2021-07-07T21:47:48.493Z"
   },
   {
    "duration": 20,
    "start_time": "2021-07-07T21:47:48.504Z"
   },
   {
    "duration": 4,
    "start_time": "2021-07-07T21:47:48.526Z"
   },
   {
    "duration": 2613,
    "start_time": "2021-07-07T21:47:48.532Z"
   },
   {
    "duration": 10,
    "start_time": "2021-07-07T21:47:51.147Z"
   },
   {
    "duration": 10,
    "start_time": "2021-07-07T21:47:51.159Z"
   },
   {
    "duration": 27,
    "start_time": "2021-07-07T21:47:51.171Z"
   },
   {
    "duration": 11,
    "start_time": "2021-07-07T21:47:51.200Z"
   },
   {
    "duration": 13,
    "start_time": "2021-07-07T21:47:51.212Z"
   },
   {
    "duration": 12,
    "start_time": "2021-07-07T21:47:51.227Z"
   },
   {
    "duration": 47,
    "start_time": "2021-07-07T21:47:51.242Z"
   },
   {
    "duration": 272,
    "start_time": "2021-07-07T21:47:51.291Z"
   },
   {
    "duration": 3354,
    "start_time": "2021-07-07T21:47:51.564Z"
   },
   {
    "duration": 7,
    "start_time": "2021-07-07T21:47:54.920Z"
   },
   {
    "duration": 3481,
    "start_time": "2021-07-07T21:48:13.158Z"
   },
   {
    "duration": 6,
    "start_time": "2021-07-07T21:48:20.899Z"
   },
   {
    "duration": 1119,
    "start_time": "2021-07-07T21:48:26.517Z"
   },
   {
    "duration": 6,
    "start_time": "2021-07-07T21:48:32.046Z"
   },
   {
    "duration": 15664,
    "start_time": "2021-07-07T21:48:38.531Z"
   },
   {
    "duration": 7,
    "start_time": "2021-07-07T21:49:02.912Z"
   },
   {
    "duration": 4940,
    "start_time": "2021-07-07T21:49:37.305Z"
   },
   {
    "duration": 17,
    "start_time": "2021-07-07T21:49:45.084Z"
   },
   {
    "duration": 3286,
    "start_time": "2021-07-07T21:49:51.457Z"
   },
   {
    "duration": 8,
    "start_time": "2021-07-07T21:49:56.757Z"
   },
   {
    "duration": 3882,
    "start_time": "2021-07-07T21:50:05.009Z"
   },
   {
    "duration": 8,
    "start_time": "2021-07-07T21:50:10.012Z"
   },
   {
    "duration": 5204,
    "start_time": "2021-07-07T21:50:20.911Z"
   },
   {
    "duration": 5,
    "start_time": "2021-07-07T21:50:28.212Z"
   },
   {
    "duration": 2905,
    "start_time": "2021-07-07T21:50:37.253Z"
   },
   {
    "duration": 7,
    "start_time": "2021-07-07T21:50:40.272Z"
   },
   {
    "duration": 2632,
    "start_time": "2021-07-07T21:50:46.599Z"
   },
   {
    "duration": 5,
    "start_time": "2021-07-07T21:50:51.073Z"
   },
   {
    "duration": 2847,
    "start_time": "2021-07-07T21:51:02.013Z"
   },
   {
    "duration": 2594,
    "start_time": "2021-07-07T21:51:15.707Z"
   },
   {
    "duration": 11,
    "start_time": "2021-07-07T21:51:20.616Z"
   },
   {
    "duration": 2874,
    "start_time": "2021-07-07T21:51:25.885Z"
   },
   {
    "duration": 10,
    "start_time": "2021-07-07T21:51:31.772Z"
   },
   {
    "duration": 2872,
    "start_time": "2021-07-07T21:51:39.764Z"
   },
   {
    "duration": 8,
    "start_time": "2021-07-07T21:51:49.161Z"
   },
   {
    "duration": 3740,
    "start_time": "2021-07-07T21:52:10.769Z"
   },
   {
    "duration": 7,
    "start_time": "2021-07-07T21:52:14.511Z"
   },
   {
    "duration": 4360,
    "start_time": "2021-07-07T21:52:32.706Z"
   },
   {
    "duration": 1923,
    "start_time": "2021-07-07T21:59:53.564Z"
   },
   {
    "duration": 134,
    "start_time": "2021-07-07T21:59:55.489Z"
   },
   {
    "duration": 5,
    "start_time": "2021-07-07T21:59:55.625Z"
   },
   {
    "duration": 40,
    "start_time": "2021-07-07T21:59:55.632Z"
   },
   {
    "duration": 15,
    "start_time": "2021-07-07T21:59:55.674Z"
   },
   {
    "duration": 34,
    "start_time": "2021-07-07T21:59:55.690Z"
   },
   {
    "duration": 6,
    "start_time": "2021-07-07T21:59:55.726Z"
   },
   {
    "duration": 10,
    "start_time": "2021-07-07T21:59:55.733Z"
   },
   {
    "duration": 39,
    "start_time": "2021-07-07T21:59:55.746Z"
   },
   {
    "duration": 7,
    "start_time": "2021-07-07T21:59:55.787Z"
   },
   {
    "duration": 8,
    "start_time": "2021-07-07T21:59:55.796Z"
   },
   {
    "duration": 19,
    "start_time": "2021-07-07T21:59:55.806Z"
   },
   {
    "duration": 4,
    "start_time": "2021-07-07T21:59:55.827Z"
   },
   {
    "duration": 56,
    "start_time": "2021-07-07T21:59:55.833Z"
   },
   {
    "duration": 4,
    "start_time": "2021-07-07T21:59:55.891Z"
   },
   {
    "duration": 2595,
    "start_time": "2021-07-07T21:59:55.897Z"
   },
   {
    "duration": 10,
    "start_time": "2021-07-07T21:59:58.494Z"
   },
   {
    "duration": 7,
    "start_time": "2021-07-07T21:59:58.506Z"
   },
   {
    "duration": 13,
    "start_time": "2021-07-07T21:59:58.515Z"
   },
   {
    "duration": 11,
    "start_time": "2021-07-07T21:59:58.530Z"
   },
   {
    "duration": 50,
    "start_time": "2021-07-07T21:59:58.542Z"
   },
   {
    "duration": 13,
    "start_time": "2021-07-07T21:59:58.594Z"
   },
   {
    "duration": 11,
    "start_time": "2021-07-07T21:59:58.608Z"
   },
   {
    "duration": 245,
    "start_time": "2021-07-07T21:59:58.621Z"
   },
   {
    "duration": 2537,
    "start_time": "2021-07-07T21:59:58.867Z"
   },
   {
    "duration": 6,
    "start_time": "2021-07-07T22:00:01.406Z"
   }
  ],
  "kernelspec": {
   "display_name": "Python 3",
   "language": "python",
   "name": "python3"
  },
  "language_info": {
   "codemirror_mode": {
    "name": "ipython",
    "version": 3
   },
   "file_extension": ".py",
   "mimetype": "text/x-python",
   "name": "python",
   "nbconvert_exporter": "python",
   "pygments_lexer": "ipython3",
   "version": "3.8.5"
  },
  "toc": {
   "base_numbering": 1,
   "nav_menu": {},
   "number_sections": true,
   "sideBar": true,
   "skip_h1_title": true,
   "title_cell": "Table of Contents",
   "title_sidebar": "Contents",
   "toc_cell": false,
   "toc_position": {},
   "toc_section_display": true,
   "toc_window_display": false
  }
 },
 "nbformat": 4,
 "nbformat_minor": 4
}
