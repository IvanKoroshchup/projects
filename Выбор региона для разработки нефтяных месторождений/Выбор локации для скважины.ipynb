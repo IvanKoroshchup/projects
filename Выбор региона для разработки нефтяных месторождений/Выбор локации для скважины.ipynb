{
 "cells": [
  {
   "cell_type": "markdown",
   "metadata": {},
   "source": [
    "### Задача"
   ]
  },
  {
   "cell_type": "markdown",
   "metadata": {},
   "source": [
    "Основываясь на пробах нефти в трёх регионах: в каждом 10 000 месторождений, где измерили качество нефти и объём её запасов. Необходимо построить модель машинного обучения, которая поможет определить регион, где добыча принесёт наибольшую прибыль."
   ]
  },
  {
   "cell_type": "markdown",
   "metadata": {},
   "source": [
    "### План и описание работы"
   ]
  },
  {
   "cell_type": "markdown",
   "metadata": {},
   "source": [
    "Стандартные шаги для выбора локации:\n",
    "- В избранном регионе ищут месторождения, для каждого определяют значения признаков;\n",
    "- Строят модель и оценивают объём запасов;\n",
    "- Выбирают месторождения с самым высокими оценками значений. Количество месторождений зависит от бюджета компании и стоимости разработки одной скважины;\n",
    "- Прибыль равна суммарной прибыли отобранных месторождений."
   ]
  },
  {
   "cell_type": "markdown",
   "metadata": {},
   "source": [
    "###  Условия задачи\n",
    " - Для обучения модели подходит только линейная регрессия (остальные — недостаточно предсказуемые).\n",
    " - При разведке региона исследуют 500 точек, из которых с помощью машинного обучения выбирают 200 лучших для разработки.\n",
    " - Бюджет на разработку скважин в регионе — 10 млрд рублей.\n",
    " - При нынешних ценах один баррель сырья приносит 450 рублей дохода. Доход с каждой единицы продукта составляет 450 тыс. рублей, поскольку объём указан в тысячах баррелей.\n",
    " - После оценки рисков нужно оставить лишь те регионы, в которых вероятность убытков меньше 2.5%. Среди них выбирают регион с наибольшей средней прибылью.<br>\n",
    "\n",
    "**Содержание колонок:**\n",
    " - id — уникальный идентификатор скважины;\n",
    " - f0, f1, f2 — три признака точек (неважно, что они означают, но сами признаки значимы);\n",
    " - product — объём запасов в скважине (тыс. баррелей)."
   ]
  },
  {
   "cell_type": "markdown",
   "metadata": {},
   "source": [
    "## Загрузка и подготовка данных"
   ]
  },
  {
   "cell_type": "code",
   "execution_count": 1,
   "metadata": {},
   "outputs": [],
   "source": [
    "import pandas as pd\n",
    "import numpy as np\n",
    "from sklearn.metrics import mean_squared_error\n",
    "from sklearn.linear_model import LinearRegression\n",
    "from sklearn.model_selection import train_test_split\n",
    "state = np.random.RandomState(12345)\n",
    "region_1 = pd.read_csv('/datasets/geo_data_0.csv')\n",
    "region_2 = pd.read_csv('/datasets/geo_data_1.csv')\n",
    "region_3 = pd.read_csv('/datasets/geo_data_2.csv')"
   ]
  },
  {
   "cell_type": "markdown",
   "metadata": {},
   "source": [
    "## Обучение и проверка модели"
   ]
  },
  {
   "cell_type": "markdown",
   "metadata": {},
   "source": [
    "Обучим и проверим модель для каждого региона<br>\n",
    " - 2.1. Разобьем данные на обучающую и валидационную выборки в соотношении 75:25."
   ]
  },
  {
   "cell_type": "code",
   "execution_count": 2,
   "metadata": {},
   "outputs": [],
   "source": [
    "target_region_1 = region_1['product']\n",
    "features_region_1 = region_1.drop(['product','id'],axis=1)\n",
    "\n",
    "target_region_2 = region_2['product']\n",
    "features_region_2 = region_2.drop(['product','id'],axis=1)\n",
    "\n",
    "target_region_3 = region_3['product']\n",
    "features_region_3 = region_3.drop(['product','id'],axis=1)\n",
    "\n",
    "features_train_region_1,features_valid_region_1,target_train_region_1,target_valid_region_1 = \\\n",
    "        train_test_split(features_region_1,target_region_1,test_size=0.25,random_state = state)\n",
    "\n",
    "features_train_region_2,features_valid_region_2,target_train_region_2,target_valid_region_2 = \\\n",
    "        train_test_split(features_region_2,target_region_2,test_size=0.25,random_state = state)\n",
    "\n",
    "features_train_region_3,features_valid_region_3,target_train_region_3,target_valid_region_3 = \\\n",
    "        train_test_split(features_region_3,target_region_3,test_size=0.25,random_state = state)"
   ]
  },
  {
   "cell_type": "markdown",
   "metadata": {},
   "source": [
    " - 2.2. Обучим модель и сделаем предсказания на валидационной выборке.\n",
    " - 2.3. Сохраним предсказания и правильные ответы на валидационной выборке."
   ]
  },
  {
   "cell_type": "code",
   "execution_count": 3,
   "metadata": {},
   "outputs": [],
   "source": [
    "model = LinearRegression()\n",
    "\n",
    "model.fit(features_train_region_1,target_train_region_1)\n",
    "prediction_model_1 = model.predict(features_valid_region_1)\n",
    "prediction_model_1 = pd.Series(prediction_model_1, index = features_valid_region_1.index)\n",
    "\n",
    "model.fit(features_train_region_2,target_train_region_2)\n",
    "prediction_model_2 = model.predict(features_valid_region_2)\n",
    "prediction_model_2 = pd.Series(prediction_model_2, index = features_valid_region_2.index)\n",
    "\n",
    "model.fit(features_train_region_3,target_train_region_3)\n",
    "prediction_model_3 = model.predict(features_valid_region_3)\n",
    "prediction_model_3 = pd.Series(prediction_model_3, index = features_valid_region_3.index)"
   ]
  },
  {
   "cell_type": "markdown",
   "metadata": {},
   "source": [
    " - 2.4. Напечатаем на экране средний запас предсказанного сырья и RMSE модели."
   ]
  },
  {
   "cell_type": "code",
   "execution_count": 4,
   "metadata": {},
   "outputs": [
    {
     "name": "stdout",
     "output_type": "stream",
     "text": [
      "Средний запас предсказанного сырья по региону 1 (тыс.бареллей):    92.59256778438038\n",
      "RMSE модели на данных по региону 1:    37.5794217150813\n",
      "\n",
      "Средний запас предсказанного сырья по региону 2 (тыс.бареллей):    68.76995145799754\n",
      "RMSE модели на данных по региону 2:    0.889736773768064\n",
      "\n",
      "Средний запас предсказанного сырья по региону 3 (тыс.бареллей):    95.087528122523\n",
      "RMSE модели на данных по региону 3:    39.958042459521614\n"
     ]
    }
   ],
   "source": [
    "print('Средний запас предсказанного сырья по региону 1 (тыс.бареллей):   ',prediction_model_1.mean())\n",
    "print('RMSE модели на данных по региону 1:   ',mean_squared_error(prediction_model_1,target_valid_region_1)**0.5)\n",
    "print()\n",
    "print('Средний запас предсказанного сырья по региону 2 (тыс.бареллей):   ',prediction_model_2.mean())\n",
    "print('RMSE модели на данных по региону 2:   ',mean_squared_error(prediction_model_2,target_valid_region_2)**0.5)\n",
    "print()\n",
    "print('Средний запас предсказанного сырья по региону 3 (тыс.бареллей):   ',prediction_model_3.mean())\n",
    "print('RMSE модели на данных по региону 3:   ',mean_squared_error(prediction_model_3,target_valid_region_3)**0.5)"
   ]
  },
  {
   "cell_type": "markdown",
   "metadata": {},
   "source": [
    "- 2.5. Проанализируем результаты."
   ]
  },
  {
   "cell_type": "markdown",
   "metadata": {},
   "source": [
    ">Вывод: У рассматриваемых регионов 1 и 3, наибольшее среднее количество бареллей, однако и РМСЕ метрика \n",
    "(среднеквадратичная ошибка предсказаний от факта) у них очень высокие 37 и 39 тыс. бареллей. В данных по региону №2 - \n",
    "среднее количество бареллей всего 68 тыс, но и ошибка в предсказании модели там относительно мала - 0.88 тыс. бареллей"
   ]
  },
  {
   "cell_type": "markdown",
   "metadata": {},
   "source": [
    "## Подготовка к расчёту прибыли"
   ]
  },
  {
   "cell_type": "markdown",
   "metadata": {},
   "source": [
    "Подготовимся к расчёту прибыли:\n",
    " - 3.1. Все ключевые значения для расчётов сохраним в отдельных переменных."
   ]
  },
  {
   "cell_type": "code",
   "execution_count": 5,
   "metadata": {},
   "outputs": [],
   "source": [
    "#Бюджет на разработку скважин в регионе — 10 млрд рублей.\n",
    "budget = 10000000 #тысяч рублей\n",
    "#При нынешних ценах доход с каждой единицы продукта составляет 450 тыс. рублей\n",
    "product_price = 450 #тысяч рублей\n",
    "n_try = 1000"
   ]
  },
  {
   "cell_type": "markdown",
   "metadata": {},
   "source": [
    " - 3.2. Рассчитаем достаточный объём сырья для безубыточной разработки новой скважины."
   ]
  },
  {
   "cell_type": "code",
   "execution_count": 6,
   "metadata": {},
   "outputs": [
    {
     "name": "stdout",
     "output_type": "stream",
     "text": [
      "одна скважина для безубыточной разработки должна приносить (ед. сырья):  111.11111111111111\n"
     ]
    }
   ],
   "source": [
    "#Достаточный объём сырья для безубыточной разработки новой скважины.\n",
    "#Зная что бюджеть 10 миллиардов на регион, а скважин на регион бурится 200, бюджет на каждую:\n",
    "budget_one = budget/200\n",
    "profit_one = budget_one/product_price\n",
    "print('одна скважина для безубыточной разработки должна приносить (ед. сырья): ',profit_one)"
   ]
  },
  {
   "cell_type": "markdown",
   "metadata": {},
   "source": [
    "Сравним полученный объём сырья со средним запасом в каждом регионе."
   ]
  },
  {
   "cell_type": "code",
   "execution_count": 7,
   "metadata": {},
   "outputs": [
    {
     "name": "stdout",
     "output_type": "stream",
     "text": [
      "средний запас в скважине в регионе 1 (ед. сырья): 92.50000000000001\n",
      "средний запас в скважине в регионе 2 (ед. сырья): 68.82500000000002\n",
      "средний запас в скважине в регионе 3 (ед. сырья): 95.00000000000004\n"
     ]
    }
   ],
   "source": [
    "print('средний запас в скважине в регионе 1 (ед. сырья):',target_region_1.mean())\n",
    "print('средний запас в скважине в регионе 2 (ед. сырья):',target_region_2.mean())\n",
    "print('средний запас в скважине в регионе 3 (ед. сырья):',target_region_3.mean())"
   ]
  },
  {
   "cell_type": "markdown",
   "metadata": {},
   "source": [
    "Вывод:средний запас сырья по разработкам в регионах, меньше чем минимально безубыточный показатель. К выбору точек добычи нужно подходить ответственно, чтобы получить прибыль а не убыток"
   ]
  },
  {
   "cell_type": "markdown",
   "metadata": {},
   "source": [
    "## Расчёт прибыли и рисков "
   ]
  },
  {
   "cell_type": "markdown",
   "metadata": {},
   "source": [
    "Напишем функцию для расчёта прибыли по выбранным скважинам и предсказаниям модели:\n",
    " - 4.1. Выберем скважины с максимальными значениями предсказаний.\n",
    " - 4.2. Просуммируем целевое значение объёма сырья, соответствующее этим предсказаниям.\n",
    " - 4.3. Рассчитаем прибыль для полученного объёма сырья.\n",
    " \n",
    "Посчитаем риски и прибыль для каждого региона:\n",
    " - 5.1. Применим технику Bootstrap с 1000 выборок, чтобы найти распределение прибыли.\n",
    " - 5.2. Найдем среднюю прибыль, 95%-й доверительный интервал и риск убытков. Убыток — это отрицательная прибыль.\n",
    " - 5.3. Предложим регион для разработки скважин."
   ]
  },
  {
   "cell_type": "raw",
   "metadata": {},
   "source": [
    "def profit_1(target, predictions):\n",
    "    pred_sorted = predictions.sort_values(ascending=False)\n",
    "    select_points = target[pred_sorted.index][:200]\n",
    "    product = select_points.sum()\n",
    "    rev = product * PRODUCT_PRICE\n",
    "    return rev - cost"
   ]
  },
  {
   "cell_type": "code",
   "execution_count": 8,
   "metadata": {},
   "outputs": [
    {
     "name": "stdout",
     "output_type": "stream",
     "text": [
      "Регион 1: ('cредняя прогнозируемая выручка по региону (тыс.р.)', 394284.41134055064, 'Доверительный интервал 95%, от', -69450.56685672095, 'до', 915496.1658311522, 'Вероятность убытка 6.10%')\n",
      "\n",
      "Регион 2: ('cредняя прогнозируемая выручка по региону (тыс.р.)', 454736.3590973579, 'Доверительный интервал 95%, от', 61071.81129769981, 'до', 855914.1491428369, 'Вероятность убытка 0.70%')\n",
      "\n",
      "Регион 3: ('cредняя прогнозируемая выручка по региону (тыс.р.)', 353664.0975248346, 'Доверительный интервал 95%, от', -162650.94694229303, 'до', 847761.8445147676, 'Вероятность убытка 7.60%')\n"
     ]
    }
   ],
   "source": [
    "def profit(target,predictions):\n",
    "    count = []\n",
    "    fuckup = 0\n",
    "    for i in range(n_try):\n",
    "        predictions_500 = predictions.sample(n=500,random_state = state, replace = True)\n",
    "        pred_sorted = predictions_500.sort_values(ascending=False)\n",
    "        select_points = target[pred_sorted.index][:200]\n",
    "        product = select_points.sum()\n",
    "        rev = product * product_price\n",
    "        itog = rev - budget\n",
    "        count.append(itog)\n",
    "        if itog < 0:\n",
    "            fuckup +=1\n",
    "    count = pd.Series(count)\n",
    "    return 'cредняя прогнозируемая выручка по региону (тыс.р.)',count.mean(),\\\n",
    "           'Доверительный интервал 95%, от',count.quantile(0.025),'до',count.quantile(0.975),\\\n",
    "           'Вероятность убытка {:.2%}'.format(fuckup/n_try)\n",
    "\n",
    "print('Регион 1:',profit(target_valid_region_1,prediction_model_1))\n",
    "print()\n",
    "print('Регион 2:',profit(target_valid_region_2,prediction_model_2))\n",
    "print()\n",
    "print('Регион 3:',profit(target_valid_region_3,prediction_model_3))"
   ]
  },
  {
   "cell_type": "markdown",
   "metadata": {},
   "source": [
    "## Вывод"
   ]
  },
  {
   "cell_type": "markdown",
   "metadata": {},
   "source": [
    "Для разработки подходит регион №2, Не смотря на изначально меньший прогнозируемый моделью запас сырья в регионе (тогда было предсказания по 25000 точкам),у него наименьший риск убытка и наибольшая прогнозируемая прибыль (если отбирать 200 лучших точек из рандомных 500)"
   ]
  }
 ],
 "metadata": {
  "kernelspec": {
   "display_name": "Python 3",
   "language": "python",
   "name": "python3"
  },
  "language_info": {
   "codemirror_mode": {
    "name": "ipython",
    "version": 3
   },
   "file_extension": ".py",
   "mimetype": "text/x-python",
   "name": "python",
   "nbconvert_exporter": "python",
   "pygments_lexer": "ipython3",
   "version": "3.8.5"
  },
  "toc": {
   "base_numbering": 1,
   "nav_menu": {},
   "number_sections": true,
   "sideBar": true,
   "skip_h1_title": true,
   "title_cell": "Table of Contents",
   "title_sidebar": "Contents",
   "toc_cell": false,
   "toc_position": {},
   "toc_section_display": true,
   "toc_window_display": false
  }
 },
 "nbformat": 4,
 "nbformat_minor": 2
}
