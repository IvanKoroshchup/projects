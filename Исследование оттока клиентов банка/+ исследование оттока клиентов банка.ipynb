{
 "cells": [
  {
   "cell_type": "markdown",
   "metadata": {},
   "source": [
    "# Отток клиентов"
   ]
  },
  {
   "cell_type": "markdown",
   "metadata": {},
   "source": [
    "Из «Бета-Банка» стали уходить клиенты. Каждый месяц. Немного, но заметно. Банковские маркетологи посчитали: сохранять текущих клиентов дешевле, чем привлекать новых.\n",
    "\n",
    "Нужно спрогнозировать, уйдёт клиент из банка в ближайшее время или нет. Нам предоставлены исторические данные о поведении клиентов и расторжении договоров с банком. \n",
    "\n",
    "Построим модель с предельно большим значением *F1*-меры и проверим её на тестовой выборке.\n",
    "\n",
    "Дополнительно измерим *AUC-ROC*, сравним её значение с *F1*-мерой.\n",
    "\n",
    "Источник данных: [https://www.kaggle.com/barelydedicated/bank-customer-churn-modeling](https://www.kaggle.com/barelydedicated/bank-customer-churn-modeling)"
   ]
  },
  {
   "cell_type": "markdown",
   "metadata": {},
   "source": [
    "# 1. Подготовка данных"
   ]
  },
  {
   "cell_type": "markdown",
   "metadata": {},
   "source": [
    "Для начала импортируем все необходимые библиотеки и метрики качества"
   ]
  },
  {
   "cell_type": "code",
   "execution_count": 115,
   "metadata": {},
   "outputs": [],
   "source": [
    "import pandas as pd\n",
    "import matplotlib.pyplot as plt\n",
    "from sklearn.model_selection import train_test_split\n",
    "from sklearn.linear_model import LogisticRegression\n",
    "from sklearn.tree import DecisionTreeClassifier\n",
    "from sklearn.ensemble import RandomForestClassifier\n",
    "from sklearn.metrics import f1_score, roc_auc_score, roc_curve\n",
    "from sklearn.preprocessing import StandardScaler\n",
    "from sklearn.utils import shuffle\n",
    "data = pd.read_csv('/datasets/Churn.csv')"
   ]
  },
  {
   "cell_type": "markdown",
   "metadata": {},
   "source": [
    "Отдельно для наглядности выведем названия стобцов с признаками и целевой признак"
   ]
  },
  {
   "cell_type": "markdown",
   "metadata": {},
   "source": [
    "> #### Признаки\n",
    "RowNumber — индекс строки в данных<br>\n",
    "CustomerId — уникальный идентификатор клиента<br>\n",
    "Surname — фамилия\n",
    "CreditScore — кредитный рейтинг<br>\n",
    "Geography — страна проживания\n",
    "Gender — пол<br>\n",
    "Age — возраст\n",
    "Tenure — количество недвижимости у клиента<br>\n",
    "Balance — баланс на счёте\n",
    "NumOfProducts — количество продуктов банка, используемых клиентом<br>\n",
    "HasCrCard — наличие кредитной карты\n",
    "IsActiveMember — активность клиента<br>\n",
    "EstimatedSalary — предполагаемая зарплата\n",
    ">#### Целевой признак\n",
    "Exited — факт ухода клиента<br>"
   ]
  },
  {
   "cell_type": "markdown",
   "metadata": {},
   "source": [
    "Выведем на экран первые 5 строчек таблицы и информацию о ней, поймем что дальше делать"
   ]
  },
  {
   "cell_type": "code",
   "execution_count": 116,
   "metadata": {},
   "outputs": [
    {
     "data": {
      "text/html": [
       "<div>\n",
       "<style scoped>\n",
       "    .dataframe tbody tr th:only-of-type {\n",
       "        vertical-align: middle;\n",
       "    }\n",
       "\n",
       "    .dataframe tbody tr th {\n",
       "        vertical-align: top;\n",
       "    }\n",
       "\n",
       "    .dataframe thead th {\n",
       "        text-align: right;\n",
       "    }\n",
       "</style>\n",
       "<table border=\"1\" class=\"dataframe\">\n",
       "  <thead>\n",
       "    <tr style=\"text-align: right;\">\n",
       "      <th></th>\n",
       "      <th>RowNumber</th>\n",
       "      <th>CustomerId</th>\n",
       "      <th>Surname</th>\n",
       "      <th>CreditScore</th>\n",
       "      <th>Geography</th>\n",
       "      <th>Gender</th>\n",
       "      <th>Age</th>\n",
       "      <th>Tenure</th>\n",
       "      <th>Balance</th>\n",
       "      <th>NumOfProducts</th>\n",
       "      <th>HasCrCard</th>\n",
       "      <th>IsActiveMember</th>\n",
       "      <th>EstimatedSalary</th>\n",
       "      <th>Exited</th>\n",
       "    </tr>\n",
       "  </thead>\n",
       "  <tbody>\n",
       "    <tr>\n",
       "      <td>0</td>\n",
       "      <td>1</td>\n",
       "      <td>15634602</td>\n",
       "      <td>Hargrave</td>\n",
       "      <td>619</td>\n",
       "      <td>France</td>\n",
       "      <td>Female</td>\n",
       "      <td>42</td>\n",
       "      <td>2.0</td>\n",
       "      <td>0.00</td>\n",
       "      <td>1</td>\n",
       "      <td>1</td>\n",
       "      <td>1</td>\n",
       "      <td>101348.88</td>\n",
       "      <td>1</td>\n",
       "    </tr>\n",
       "    <tr>\n",
       "      <td>1</td>\n",
       "      <td>2</td>\n",
       "      <td>15647311</td>\n",
       "      <td>Hill</td>\n",
       "      <td>608</td>\n",
       "      <td>Spain</td>\n",
       "      <td>Female</td>\n",
       "      <td>41</td>\n",
       "      <td>1.0</td>\n",
       "      <td>83807.86</td>\n",
       "      <td>1</td>\n",
       "      <td>0</td>\n",
       "      <td>1</td>\n",
       "      <td>112542.58</td>\n",
       "      <td>0</td>\n",
       "    </tr>\n",
       "    <tr>\n",
       "      <td>2</td>\n",
       "      <td>3</td>\n",
       "      <td>15619304</td>\n",
       "      <td>Onio</td>\n",
       "      <td>502</td>\n",
       "      <td>France</td>\n",
       "      <td>Female</td>\n",
       "      <td>42</td>\n",
       "      <td>8.0</td>\n",
       "      <td>159660.80</td>\n",
       "      <td>3</td>\n",
       "      <td>1</td>\n",
       "      <td>0</td>\n",
       "      <td>113931.57</td>\n",
       "      <td>1</td>\n",
       "    </tr>\n",
       "    <tr>\n",
       "      <td>3</td>\n",
       "      <td>4</td>\n",
       "      <td>15701354</td>\n",
       "      <td>Boni</td>\n",
       "      <td>699</td>\n",
       "      <td>France</td>\n",
       "      <td>Female</td>\n",
       "      <td>39</td>\n",
       "      <td>1.0</td>\n",
       "      <td>0.00</td>\n",
       "      <td>2</td>\n",
       "      <td>0</td>\n",
       "      <td>0</td>\n",
       "      <td>93826.63</td>\n",
       "      <td>0</td>\n",
       "    </tr>\n",
       "    <tr>\n",
       "      <td>4</td>\n",
       "      <td>5</td>\n",
       "      <td>15737888</td>\n",
       "      <td>Mitchell</td>\n",
       "      <td>850</td>\n",
       "      <td>Spain</td>\n",
       "      <td>Female</td>\n",
       "      <td>43</td>\n",
       "      <td>2.0</td>\n",
       "      <td>125510.82</td>\n",
       "      <td>1</td>\n",
       "      <td>1</td>\n",
       "      <td>1</td>\n",
       "      <td>79084.10</td>\n",
       "      <td>0</td>\n",
       "    </tr>\n",
       "  </tbody>\n",
       "</table>\n",
       "</div>"
      ],
      "text/plain": [
       "   RowNumber  CustomerId   Surname  CreditScore Geography  Gender  Age  \\\n",
       "0          1    15634602  Hargrave          619    France  Female   42   \n",
       "1          2    15647311      Hill          608     Spain  Female   41   \n",
       "2          3    15619304      Onio          502    France  Female   42   \n",
       "3          4    15701354      Boni          699    France  Female   39   \n",
       "4          5    15737888  Mitchell          850     Spain  Female   43   \n",
       "\n",
       "   Tenure    Balance  NumOfProducts  HasCrCard  IsActiveMember  \\\n",
       "0     2.0       0.00              1          1               1   \n",
       "1     1.0   83807.86              1          0               1   \n",
       "2     8.0  159660.80              3          1               0   \n",
       "3     1.0       0.00              2          0               0   \n",
       "4     2.0  125510.82              1          1               1   \n",
       "\n",
       "   EstimatedSalary  Exited  \n",
       "0        101348.88       1  \n",
       "1        112542.58       0  \n",
       "2        113931.57       1  \n",
       "3         93826.63       0  \n",
       "4         79084.10       0  "
      ]
     },
     "metadata": {},
     "output_type": "display_data"
    },
    {
     "name": "stdout",
     "output_type": "stream",
     "text": [
      "<class 'pandas.core.frame.DataFrame'>\n",
      "RangeIndex: 10000 entries, 0 to 9999\n",
      "Data columns (total 14 columns):\n",
      "RowNumber          10000 non-null int64\n",
      "CustomerId         10000 non-null int64\n",
      "Surname            10000 non-null object\n",
      "CreditScore        10000 non-null int64\n",
      "Geography          10000 non-null object\n",
      "Gender             10000 non-null object\n",
      "Age                10000 non-null int64\n",
      "Tenure             9091 non-null float64\n",
      "Balance            10000 non-null float64\n",
      "NumOfProducts      10000 non-null int64\n",
      "HasCrCard          10000 non-null int64\n",
      "IsActiveMember     10000 non-null int64\n",
      "EstimatedSalary    10000 non-null float64\n",
      "Exited             10000 non-null int64\n",
      "dtypes: float64(3), int64(8), object(3)\n",
      "memory usage: 1.1+ MB\n"
     ]
    }
   ],
   "source": [
    "display(data.head())\n",
    "data.info()"
   ]
  },
  {
   "cell_type": "markdown",
   "metadata": {},
   "source": [
    ">Вывод: датафрейм имеет 3 колонки с типом object: <br> \n",
    ">>'Geography' (страна получения кредита) - с помощью техники OHE заменим на дамми-данные<br> \n",
    ">>'Gender'(пол) - с помощью техники OHE заменим на дамми-данные<br> \n",
    ">>'Surname'(фамилия)- можно не учитывать при подготовке модели , не является значимым признаком<br>\n",
    "\n",
    ">В колонке 'Tenure' (количество недвижимости у клиента) имеются объекты nan, их заменим на 0"
   ]
  },
  {
   "cell_type": "code",
   "execution_count": 117,
   "metadata": {},
   "outputs": [],
   "source": [
    "data['Geography'] = pd.get_dummies(data['Geography'], drop_first=True)\n",
    "data['Gender'] = pd.get_dummies(data['Gender'], drop_first=True)\n",
    "data['Tenure'].fillna(0, inplace = True)"
   ]
  },
  {
   "cell_type": "markdown",
   "metadata": {},
   "source": [
    "Определим колонки с признаками и колонки с целевым признаком<br>\n",
    "Разобьем данные на обучающую(60%), валидационную(20%) и тестовую(20%) выборки"
   ]
  },
  {
   "cell_type": "code",
   "execution_count": 118,
   "metadata": {},
   "outputs": [],
   "source": [
    "target  = data['Exited']\n",
    "features = data.drop(['Surname','Exited','RowNumber','CustomerId'], axis = 1)\n",
    "features_train,features_pretest, target_train,target_pretest = \\\n",
    "    train_test_split(features, target, test_size = 0.4, random_state=12345)\n",
    "\n",
    "features_valid, features_test, target_valid, target_test = \\\n",
    "    train_test_split(features_pretest, target_pretest, test_size = 0.5, random_state = 12345)"
   ]
  },
  {
   "cell_type": "markdown",
   "metadata": {},
   "source": [
    "# 2. Исследование задачи"
   ]
  },
  {
   "cell_type": "markdown",
   "metadata": {},
   "source": [
    "Введем 3 модели: LogisticRegression, DecisionTreeClassifier и RandomForestClassifier, также ради интереса 4ю условную модель, предсказывающее всегда одно и то же значение \"1\"<br>\n",
    "На данном этапе дисбаланс значений обрабатывать не будем"
   ]
  },
  {
   "cell_type": "code",
   "execution_count": 119,
   "metadata": {},
   "outputs": [
    {
     "name": "stdout",
     "output_type": "stream",
     "text": [
      "Для модели логистической регрессии, без обработки дисбаланса, будет следующее значение f1 меры:  0.08385744234800838\n",
      "\n",
      "Для модели дерева решений, без обработки дисбаланса, будет следующее значение f1 меры:  0.5406249999999999\n",
      "\n",
      "Для модели леса деревьев, без обработки дисбаланса, будет следующее значение f1 меры:  0.575\n",
      "\n",
      "Для простейшей модели, всегда предсказывающей ответ 1, будет следующее значение f1 меры:  0.3457402812241522\n"
     ]
    }
   ],
   "source": [
    "model = LogisticRegression(random_state = 12345, solver = 'liblinear')\n",
    "model.fit(features_train, target_train)\n",
    "predict_linear_regression = model.predict(features_valid)\n",
    "print('Для модели логистической регрессии, без обработки дисбаланса, будет следующее значение f1 меры: ',\\\n",
    "        f1_score(target_valid,predict_linear_regression))\n",
    "\n",
    "print()\n",
    "model = DecisionTreeClassifier(random_state = 12345, max_depth = 5)\n",
    "model.fit(features_train, target_train)\n",
    "predict_decision_tree = model.predict(features_valid)\n",
    "print('Для модели дерева решений, без обработки дисбаланса, будет следующее значение f1 меры: ',\\\n",
    "        f1_score(target_valid,predict_decision_tree))\n",
    "\n",
    "print()\n",
    "model = RandomForestClassifier(random_state = 12345, n_estimators = 27, max_depth = 8)\n",
    "model.fit(features_train, target_train)\n",
    "predict_random_forest = model.predict(features_valid)\n",
    "print('Для модели леса деревьев, без обработки дисбаланса, будет следующее значение f1 меры: ',\\\n",
    "        f1_score(target_valid,predict_random_forest))\n",
    "\n",
    "print()\n",
    "#Сравним cо значением f1 простейшей модели, предсказывающей всегда \"1\"\n",
    "dummy_model = pd.Series(1,index = target_valid)\n",
    "print('Для простейшей модели, всегда предсказывающей ответ 1, будет следующее значение f1 меры: ',\\\n",
    "        f1_score(target_valid,dummy_model))\n"
   ]
  },
  {
   "cell_type": "markdown",
   "metadata": {},
   "source": [
    ">Вывод. Данные зафиксированны, показания f1 меры не очень большие (особенно у логистической регрессии)"
   ]
  },
  {
   "cell_type": "markdown",
   "metadata": {},
   "source": [
    "# 3. Борьба с дисбалансом"
   ]
  },
  {
   "cell_type": "markdown",
   "metadata": {},
   "source": [
    "Первым этапом отбалансируем масштаб признаков"
   ]
  },
  {
   "cell_type": "code",
   "execution_count": 120,
   "metadata": {},
   "outputs": [],
   "source": [
    "#Для будущего upsamling зафиксируем тренировочные прищнаки\n",
    "features_train_2= features_train\n",
    "scaler = StandardScaler()\n",
    "scaler.fit(features_train)\n",
    "features_train = scaler.transform(features_train)\n",
    "features_valid = scaler.transform(features_valid)\n",
    "features_test = scaler.transform(features_test)"
   ]
  },
  {
   "cell_type": "markdown",
   "metadata": {},
   "source": [
    "Обучим модели отбалансировав веса признаков"
   ]
  },
  {
   "cell_type": "code",
   "execution_count": 121,
   "metadata": {},
   "outputs": [
    {
     "name": "stdout",
     "output_type": "stream",
     "text": [
      "0    7963\n",
      "1    2037\n",
      "Name: Exited, dtype: int64\n"
     ]
    }
   ],
   "source": [
    "print(target.value_counts())"
   ]
  },
  {
   "cell_type": "code",
   "execution_count": 122,
   "metadata": {},
   "outputs": [
    {
     "name": "stdout",
     "output_type": "stream",
     "text": [
      "Для модели логистической регрессии, после обработки дисбаланса, будет следующее значение f1 меры:  0.47952345495160087\n",
      "Значение метрики auc-roc для валидационной выборки этой модели: 0.7512944670606525\n"
     ]
    }
   ],
   "source": [
    "def upsample(features, target, repeat):\n",
    "    features_zeros = features[target == 0]\n",
    "    features_ones = features[target == 1]\n",
    "    target_zeros = target[target == 0]\n",
    "    target_ones = target[target == 1]\n",
    "    features_upsampled = pd.concat([features_zeros] + [features_ones] * repeat)\n",
    "    target_upsampled = pd.concat([target_zeros] + [target_ones] * repeat)\n",
    "    features_upsampled, target_upsampled = shuffle(features_upsampled, target_upsampled, random_state=12345)\n",
    "    return features_upsampled, target_upsampled\n",
    "features_upsampled, target_upsampled = upsample(features_train_2, target_train, 4)\n",
    "   \n",
    "model = LogisticRegression(random_state = 12345, solver = 'liblinear')\n",
    "model.fit(features_upsampled, target_upsampled)\n",
    "predict_linear_regression_new = model.predict(features_valid)\n",
    "print('Для модели логистической регрессии, после обработки дисбаланса, будет следующее значение f1 меры: ',\\\n",
    "        f1_score(target_valid,predict_linear_regression_new))\n",
    "\n",
    "probablites_test = model.predict_proba(features_valid)\n",
    "probablites_test_one = probablites_test[:,1]\n",
    "auc_roc = roc_auc_score(target_valid,probablites_test_one)\n",
    "print('Значение метрики auc-roc для валидационной выборки этой модели:',auc_roc)"
   ]
  },
  {
   "cell_type": "markdown",
   "metadata": {},
   "source": [
    "Теперь отбалансируем и вес признаков, указав class_weight = 'balanced'"
   ]
  },
  {
   "cell_type": "code",
   "execution_count": 123,
   "metadata": {},
   "outputs": [
    {
     "name": "stdout",
     "output_type": "stream",
     "text": [
      "Для модели дерева решений, после обработки дисбаланса, лучшеезначение f1 меры: (0.5963791267305644,) при параметре depth: 5\n",
      "Значение метрики auc-roc для валидационной выборки этой модели: 0.6818408652363007\n"
     ]
    }
   ],
   "source": [
    "best_f1_metrics = 0\n",
    "best_depth = 0\n",
    "for depth in range (1,15):\n",
    "    model = DecisionTreeClassifier(random_state = 12345, class_weight = 'balanced', max_depth = depth)\n",
    "    model.fit(features_train, target_train)\n",
    "    predict_decision_tree_new = model.predict(features_valid)\n",
    "    f1_metrics = f1_score(target_valid,predict_decision_tree_new)\n",
    "    if f1_metrics > best_f1_metrics:\n",
    "        best_f1_metrics = f1_metrics,\n",
    "        best_depth = depth      \n",
    "print('Для модели дерева решений, после обработки дисбаланса, лучшеезначение f1 меры:'\\\n",
    "      ,best_f1_metrics,'при параметре depth:',best_depth)\n",
    "\n",
    "probablites_test = model.predict_proba(features_valid)\n",
    "probablites_test_one = probablites_test[:,1]\n",
    "auc_roc = roc_auc_score(target_valid,probablites_test_one)\n",
    "print('Значение метрики auc-roc для валидационной выборки этой модели:',auc_roc)"
   ]
  },
  {
   "cell_type": "code",
   "execution_count": 124,
   "metadata": {},
   "outputs": [
    {
     "name": "stdout",
     "output_type": "stream",
     "text": [
      "Для модели леса деревьев, после обработки дисбаланса, лучшеезначение f1 меры: (0.6355555555555555,) при параметре depth: 8  и количество деревьев: 27\n",
      "Значение метрики auc-roc для валидационной выборки этой модели: 0.8522447510570472\n"
     ]
    }
   ],
   "source": [
    "best_f1_metrics = 0\n",
    "best_depth = 8\n",
    "best_estimators = 0\n",
    "for estimators in range (1,30):\n",
    "    model = RandomForestClassifier(random_state = 12345, n_estimators = estimators, max_depth = 8, class_weight = 'balanced')\n",
    "    model.fit(features_train, target_train)\n",
    "    predict_random_forest_new = model.predict(features_valid)\n",
    "    f1_metrics = f1_score(target_valid,predict_random_forest_new)\n",
    "    if f1_metrics > best_f1_metrics:\n",
    "        best_f1_metrics = f1_metrics,\n",
    "        best_estimators = estimators\n",
    "print('Для модели леса деревьев, после обработки дисбаланса, лучшеезначение f1 меры:'\\\n",
    "      ,best_f1_metrics,'при параметре depth:',best_depth, ' и количество деревьев:', best_estimators )\n",
    "\n",
    "probablites_test = model.predict_proba(features_valid)\n",
    "probablites_test_one = probablites_test[:,1]\n",
    "auc_roc = roc_auc_score(target_valid,probablites_test_one)\n",
    "print('Значение метрики auc-roc для валидационной выборки этой модели:',auc_roc)"
   ]
  },
  {
   "cell_type": "markdown",
   "metadata": {},
   "source": [
    ">Вывод: по итогам соревнований, наибольшее значение f1 меры: 0.63 получила модель леса деревьев с параметрами depth: 8  и количество деревьев: 27,  эту модель с данными настройками будем использовать на тестовой выборке"
   ]
  },
  {
   "cell_type": "markdown",
   "metadata": {},
   "source": [
    "# 4. Тестирование модели"
   ]
  },
  {
   "cell_type": "code",
   "execution_count": 125,
   "metadata": {},
   "outputs": [
    {
     "name": "stdout",
     "output_type": "stream",
     "text": [
      "Значение метрики f1 для тестовой выборки: 0.602436323366556\n",
      "Значение метрики auc-roc для тестовой выборки: 0.8517601574644977\n"
     ]
    },
    {
     "data": {
      "image/png": "[encoded data removed]",
      "text/plain": [
       "<Figure size 432x288 with 1 Axes>"
      ]
     },
     "metadata": {
      "needs_background": "light"
     },
     "output_type": "display_data"
    }
   ],
   "source": [
    "model = RandomForestClassifier(random_state = 12345, n_estimators = 27, max_depth = 8, class_weight = 'balanced')\n",
    "model.fit(features_train, target_train)\n",
    "predict_test = model.predict(features_test)\n",
    "\n",
    "probablites_test = model.predict_proba(features_test)\n",
    "probablites_test_one = probablites_test[:,1]\n",
    "auc_roc = roc_auc_score(target_test,probablites_test_one)\n",
    "\n",
    "fpr, tpr, threshold = roc_curve(target_test,probablites_test_one)\n",
    "plt.figure()\n",
    "plt.plot(fpr,tpr)\n",
    "plt.xlabel('fpr   (ложноположительные ответы)')\n",
    "plt.ylabel('tpr   (верноположительные ответы)')\n",
    "plt.title('ROC кривая')\n",
    "\n",
    "print('Значение метрики f1 для тестовой выборки:', f1_score(target_test,predict_test))\n",
    "print('Значение метрики auc-roc для тестовой выборки:',auc_roc)"
   ]
  },
  {
   "cell_type": "markdown",
   "metadata": {},
   "source": [
    ">Вывод: обученная модель обладает необходимым по заданию проекта качеством (f1 мера больше 0.59)"
   ]
  },
  {
   "cell_type": "markdown",
   "metadata": {},
   "source": [
    "# 4. Общий вывод"
   ]
  },
  {
   "cell_type": "markdown",
   "metadata": {},
   "source": [
    "Приведение балансировки признаков (был исползован upsamling и StandardScaler совместно с class_weight = 'balanced') позволяет значительно поднять качество моделей<br>\n",
    "Например, метрики f1 моделей с одинаковыми параметрами было/стало:<br>\n",
    "0.083 / 0.479<br>\n",
    "0.540 / 0.596<br>\n",
    "0.575 / 0.635<br>"
   ]
  }
 ],
 "metadata": {
  "kernelspec": {
   "display_name": "Python 3",
   "language": "python",
   "name": "python3"
  },
  "language_info": {
   "codemirror_mode": {
    "name": "ipython",
    "version": 3
   },
   "file_extension": ".py",
   "mimetype": "text/x-python",
   "name": "python",
   "nbconvert_exporter": "python",
   "pygments_lexer": "ipython3",
   "version": "3.8.5"
  },
  "toc": {
   "base_numbering": 1,
   "nav_menu": {},
   "number_sections": true,
   "sideBar": true,
   "skip_h1_title": true,
   "title_cell": "Table of Contents",
   "title_sidebar": "Contents",
   "toc_cell": false,
   "toc_position": {},
   "toc_section_display": true,
   "toc_window_display": false
  }
 },
 "nbformat": 4,
 "nbformat_minor": 2
}
