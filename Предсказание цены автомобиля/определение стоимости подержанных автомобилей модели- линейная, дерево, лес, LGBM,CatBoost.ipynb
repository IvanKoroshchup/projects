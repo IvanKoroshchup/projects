{
 "cells": [
  {
   "cell_type": "markdown",
   "metadata": {},
   "source": [
    "## Определение стоимости автомобилей"
   ]
  },
  {
   "cell_type": "markdown",
   "metadata": {},
   "source": [
    "### Задача\n",
    "\n",
    "Цель проекта для нас подобрать наиболее подходящую по качеству и скорости модель для предсказания стоимости подержанного автомобиля по доступным характеристикам\n",
    "Сервис по продаже автомобилей с пробегом разрабатывает приложение для привлечения новых клиентов. В нём можно быстро узнать рыночную стоимость своего автомобиля. \n",
    "\n",
    "В нашем распоряжении исторические данные: технические характеристики, комплектации и цены автомобилей. Нам нужно построить модель для определения стоимости. \n",
    "\n",
    "Заказчику важны:\n",
    "\n",
    "- качество предсказания;\n",
    "- скорость предсказания;\n",
    "- время обучения."
   ]
  },
  {
   "cell_type": "markdown",
   "metadata": {},
   "source": [
    "### Подготовка данных"
   ]
  },
  {
   "cell_type": "markdown",
   "metadata": {},
   "source": [
    "объекты имеют следующие параметры:\n",
    " - DateCrawled — дата скачивания анкеты из базы\n",
    " - VehicleType — тип автомобильного кузова\n",
    " - RegistrationYear — год регистрации автомобиля\n",
    " - Gearbox — тип коробки передач\n",
    " - Power — мощность (л. с.)\n",
    " - Model — модель автомобиля\n",
    " - Kilometer — пробег (км)\n",
    " - RegistrationMonth — месяц регистрации автомобиля\n",
    " - FuelType — тип топлива\n",
    " - Brand — марка автомобиля\n",
    " - NotRepaired — была машина в ремонте или нет\n",
    " - DateCreated — дата создания анкеты\n",
    " - NumberOfPictures — количество фотографий автомобиля\n",
    " - PostalCode — почтовый индекс владельца анкеты (пользователя)\n",
    " - LastSeen — дата последней активности пользователя <br>\n",
    "\n",
    "Целевой признак\n",
    " - Price — цена (евро)"
   ]
  },
  {
   "cell_type": "markdown",
   "metadata": {},
   "source": [
    "Импортируем необходимые библиотеки"
   ]
  },
  {
   "cell_type": "code",
   "execution_count": 1,
   "metadata": {},
   "outputs": [],
   "source": [
    "import pandas as pd\n",
    "import numpy as np\n",
    "\n",
    "from sklearn.model_selection import train_test_split, cross_val_score\n",
    "from sklearn.metrics import mean_squared_error, make_scorer\n",
    "from sklearn.preprocessing import StandardScaler\n",
    "from sklearn.tree import DecisionTreeRegressor\n",
    "from sklearn.ensemble import RandomForestRegressor\n",
    "from sklearn.linear_model import LinearRegression\n",
    "\n",
    "from catboost import CatBoostRegressor\n",
    "import lightgbm as lgb\n",
    "\n",
    "pd.options.mode.chained_assignment = None "
   ]
  },
  {
   "cell_type": "markdown",
   "metadata": {},
   "source": [
    "Загрузим таблицу"
   ]
  },
  {
   "cell_type": "code",
   "execution_count": 2,
   "metadata": {},
   "outputs": [],
   "source": [
    "data = pd.read_csv('/datasets/autos.csv')"
   ]
  },
  {
   "cell_type": "markdown",
   "metadata": {},
   "source": [
    "Приведем название колонок к нижнему регистру (так культурнее смотрится)"
   ]
  },
  {
   "cell_type": "code",
   "execution_count": 3,
   "metadata": {},
   "outputs": [
    {
     "data": {
      "text/html": [
       "<div>\n",
       "<style scoped>\n",
       "    .dataframe tbody tr th:only-of-type {\n",
       "        vertical-align: middle;\n",
       "    }\n",
       "\n",
       "    .dataframe tbody tr th {\n",
       "        vertical-align: top;\n",
       "    }\n",
       "\n",
       "    .dataframe thead th {\n",
       "        text-align: right;\n",
       "    }\n",
       "</style>\n",
       "<table border=\"1\" class=\"dataframe\">\n",
       "  <thead>\n",
       "    <tr style=\"text-align: right;\">\n",
       "      <th></th>\n",
       "      <th>datecrawled</th>\n",
       "      <th>price</th>\n",
       "      <th>vehicletype</th>\n",
       "      <th>registrationyear</th>\n",
       "      <th>gearbox</th>\n",
       "      <th>power</th>\n",
       "      <th>model</th>\n",
       "      <th>kilometer</th>\n",
       "      <th>registrationmonth</th>\n",
       "      <th>fueltype</th>\n",
       "      <th>brand</th>\n",
       "      <th>notrepaired</th>\n",
       "      <th>datecreated</th>\n",
       "      <th>numberofpictures</th>\n",
       "      <th>postalcode</th>\n",
       "      <th>lastseen</th>\n",
       "    </tr>\n",
       "  </thead>\n",
       "  <tbody>\n",
       "    <tr>\n",
       "      <td>0</td>\n",
       "      <td>2016-03-24 11:52:17</td>\n",
       "      <td>480</td>\n",
       "      <td>NaN</td>\n",
       "      <td>1993</td>\n",
       "      <td>manual</td>\n",
       "      <td>0</td>\n",
       "      <td>golf</td>\n",
       "      <td>150000</td>\n",
       "      <td>0</td>\n",
       "      <td>petrol</td>\n",
       "      <td>volkswagen</td>\n",
       "      <td>NaN</td>\n",
       "      <td>2016-03-24 00:00:00</td>\n",
       "      <td>0</td>\n",
       "      <td>70435</td>\n",
       "      <td>2016-04-07 03:16:57</td>\n",
       "    </tr>\n",
       "    <tr>\n",
       "      <td>1</td>\n",
       "      <td>2016-03-24 10:58:45</td>\n",
       "      <td>18300</td>\n",
       "      <td>coupe</td>\n",
       "      <td>2011</td>\n",
       "      <td>manual</td>\n",
       "      <td>190</td>\n",
       "      <td>NaN</td>\n",
       "      <td>125000</td>\n",
       "      <td>5</td>\n",
       "      <td>gasoline</td>\n",
       "      <td>audi</td>\n",
       "      <td>yes</td>\n",
       "      <td>2016-03-24 00:00:00</td>\n",
       "      <td>0</td>\n",
       "      <td>66954</td>\n",
       "      <td>2016-04-07 01:46:50</td>\n",
       "    </tr>\n",
       "    <tr>\n",
       "      <td>2</td>\n",
       "      <td>2016-03-14 12:52:21</td>\n",
       "      <td>9800</td>\n",
       "      <td>suv</td>\n",
       "      <td>2004</td>\n",
       "      <td>auto</td>\n",
       "      <td>163</td>\n",
       "      <td>grand</td>\n",
       "      <td>125000</td>\n",
       "      <td>8</td>\n",
       "      <td>gasoline</td>\n",
       "      <td>jeep</td>\n",
       "      <td>NaN</td>\n",
       "      <td>2016-03-14 00:00:00</td>\n",
       "      <td>0</td>\n",
       "      <td>90480</td>\n",
       "      <td>2016-04-05 12:47:46</td>\n",
       "    </tr>\n",
       "    <tr>\n",
       "      <td>3</td>\n",
       "      <td>2016-03-17 16:54:04</td>\n",
       "      <td>1500</td>\n",
       "      <td>small</td>\n",
       "      <td>2001</td>\n",
       "      <td>manual</td>\n",
       "      <td>75</td>\n",
       "      <td>golf</td>\n",
       "      <td>150000</td>\n",
       "      <td>6</td>\n",
       "      <td>petrol</td>\n",
       "      <td>volkswagen</td>\n",
       "      <td>no</td>\n",
       "      <td>2016-03-17 00:00:00</td>\n",
       "      <td>0</td>\n",
       "      <td>91074</td>\n",
       "      <td>2016-03-17 17:40:17</td>\n",
       "    </tr>\n",
       "    <tr>\n",
       "      <td>4</td>\n",
       "      <td>2016-03-31 17:25:20</td>\n",
       "      <td>3600</td>\n",
       "      <td>small</td>\n",
       "      <td>2008</td>\n",
       "      <td>manual</td>\n",
       "      <td>69</td>\n",
       "      <td>fabia</td>\n",
       "      <td>90000</td>\n",
       "      <td>7</td>\n",
       "      <td>gasoline</td>\n",
       "      <td>skoda</td>\n",
       "      <td>no</td>\n",
       "      <td>2016-03-31 00:00:00</td>\n",
       "      <td>0</td>\n",
       "      <td>60437</td>\n",
       "      <td>2016-04-06 10:17:21</td>\n",
       "    </tr>\n",
       "  </tbody>\n",
       "</table>\n",
       "</div>"
      ],
      "text/plain": [
       "           datecrawled  price vehicletype  registrationyear gearbox  power  \\\n",
       "0  2016-03-24 11:52:17    480         NaN              1993  manual      0   \n",
       "1  2016-03-24 10:58:45  18300       coupe              2011  manual    190   \n",
       "2  2016-03-14 12:52:21   9800         suv              2004    auto    163   \n",
       "3  2016-03-17 16:54:04   1500       small              2001  manual     75   \n",
       "4  2016-03-31 17:25:20   3600       small              2008  manual     69   \n",
       "\n",
       "   model  kilometer  registrationmonth  fueltype       brand notrepaired  \\\n",
       "0   golf     150000                  0    petrol  volkswagen         NaN   \n",
       "1    NaN     125000                  5  gasoline        audi         yes   \n",
       "2  grand     125000                  8  gasoline        jeep         NaN   \n",
       "3   golf     150000                  6    petrol  volkswagen          no   \n",
       "4  fabia      90000                  7  gasoline       skoda          no   \n",
       "\n",
       "           datecreated  numberofpictures  postalcode             lastseen  \n",
       "0  2016-03-24 00:00:00                 0       70435  2016-04-07 03:16:57  \n",
       "1  2016-03-24 00:00:00                 0       66954  2016-04-07 01:46:50  \n",
       "2  2016-03-14 00:00:00                 0       90480  2016-04-05 12:47:46  \n",
       "3  2016-03-17 00:00:00                 0       91074  2016-03-17 17:40:17  \n",
       "4  2016-03-31 00:00:00                 0       60437  2016-04-06 10:17:21  "
      ]
     },
     "metadata": {},
     "output_type": "display_data"
    }
   ],
   "source": [
    "data.columns = data.columns.str.lower()\n",
    "display(data.head(5))"
   ]
  },
  {
   "cell_type": "markdown",
   "metadata": {},
   "source": [
    "Обозначим колонки с фичами и таргетом, также колонки с категоральными признаками"
   ]
  },
  {
   "cell_type": "code",
   "execution_count": 4,
   "metadata": {},
   "outputs": [],
   "source": [
    "target = data['price']\n",
    "#Для фич удалил колонки DateCrawled(дата скачивания анкеты из базы),RegistrationMonth(месяц регистрации автомобиля), \n",
    "#DateCreated(дата создания анкеты),PostalCode(почтовый индекс владельца анкеты),LastSeen(дата последней активности пользов.)\n",
    "features_columns = (['vehicletype', 'registrationyear', 'gearbox','power', 'model', 'kilometer','fueltype', 'brand', \n",
    "                     'notrepaired', 'numberofpictures'])\n",
    "cat_features = ['vehicletype', 'gearbox', 'model','fueltype', 'brand', 'notrepaired']"
   ]
  },
  {
   "cell_type": "markdown",
   "metadata": {},
   "source": [
    "посмотрим полноту данных фичей"
   ]
  },
  {
   "cell_type": "code",
   "execution_count": 5,
   "metadata": {},
   "outputs": [
    {
     "name": "stdout",
     "output_type": "stream",
     "text": [
      "<class 'pandas.core.frame.DataFrame'>\n",
      "RangeIndex: 354369 entries, 0 to 354368\n",
      "Data columns (total 10 columns):\n",
      "vehicletype         316879 non-null object\n",
      "registrationyear    354369 non-null int64\n",
      "gearbox             334536 non-null object\n",
      "power               354369 non-null int64\n",
      "model               334664 non-null object\n",
      "kilometer           354369 non-null int64\n",
      "fueltype            321474 non-null object\n",
      "brand               354369 non-null object\n",
      "notrepaired         283215 non-null object\n",
      "numberofpictures    354369 non-null int64\n",
      "dtypes: int64(4), object(6)\n",
      "memory usage: 27.0+ MB\n",
      "None\n"
     ]
    }
   ],
   "source": [
    "features = data[features_columns]\n",
    "print(features.info())"
   ]
  },
  {
   "cell_type": "markdown",
   "metadata": {},
   "source": [
    "Заменим пропущенные значения"
   ]
  },
  {
   "cell_type": "code",
   "execution_count": 6,
   "metadata": {},
   "outputs": [],
   "source": [
    "#Предположу, что в столбце \"notrepaired\" - пользователи не заполняли значения подразумевая, что машина была не бита\n",
    "features['notrepaired'].fillna('no',inplace = True)\n",
    "#Тип топлива угадать не получится, заменим значением unknown\n",
    "features['fueltype'].fillna('unknown',inplace = True)\n",
    "#Так как модель автомобиля имеет принципиально важное значение в стоимости автомобиля, дропнем строчки со значениями NaN\n",
    "features.dropna(subset = ['model'],inplace = True)\n",
    "#Тип коробки передач угадать не получится, заменим значением unknown\n",
    "features['gearbox'].fillna('unknown',inplace = True)\n",
    "#Тип кузова угадать не получится, заменим значением unknown\n",
    "features['vehicletype'].fillna('unknown',inplace = True)"
   ]
  },
  {
   "cell_type": "code",
   "execution_count": 7,
   "metadata": {},
   "outputs": [
    {
     "data": {
      "text/html": [
       "<div>\n",
       "<style scoped>\n",
       "    .dataframe tbody tr th:only-of-type {\n",
       "        vertical-align: middle;\n",
       "    }\n",
       "\n",
       "    .dataframe tbody tr th {\n",
       "        vertical-align: top;\n",
       "    }\n",
       "\n",
       "    .dataframe thead th {\n",
       "        text-align: right;\n",
       "    }\n",
       "</style>\n",
       "<table border=\"1\" class=\"dataframe\">\n",
       "  <thead>\n",
       "    <tr style=\"text-align: right;\">\n",
       "      <th></th>\n",
       "      <th>vehicletype</th>\n",
       "      <th>registrationyear</th>\n",
       "      <th>gearbox</th>\n",
       "      <th>power</th>\n",
       "      <th>model</th>\n",
       "      <th>kilometer</th>\n",
       "      <th>fueltype</th>\n",
       "      <th>brand</th>\n",
       "      <th>notrepaired</th>\n",
       "      <th>numberofpictures</th>\n",
       "    </tr>\n",
       "  </thead>\n",
       "  <tbody>\n",
       "    <tr>\n",
       "      <td>0</td>\n",
       "      <td>unknown</td>\n",
       "      <td>1993</td>\n",
       "      <td>manual</td>\n",
       "      <td>0</td>\n",
       "      <td>golf</td>\n",
       "      <td>150000</td>\n",
       "      <td>petrol</td>\n",
       "      <td>volkswagen</td>\n",
       "      <td>no</td>\n",
       "      <td>0</td>\n",
       "    </tr>\n",
       "    <tr>\n",
       "      <td>2</td>\n",
       "      <td>suv</td>\n",
       "      <td>2004</td>\n",
       "      <td>auto</td>\n",
       "      <td>163</td>\n",
       "      <td>grand</td>\n",
       "      <td>125000</td>\n",
       "      <td>gasoline</td>\n",
       "      <td>jeep</td>\n",
       "      <td>no</td>\n",
       "      <td>0</td>\n",
       "    </tr>\n",
       "    <tr>\n",
       "      <td>3</td>\n",
       "      <td>small</td>\n",
       "      <td>2001</td>\n",
       "      <td>manual</td>\n",
       "      <td>75</td>\n",
       "      <td>golf</td>\n",
       "      <td>150000</td>\n",
       "      <td>petrol</td>\n",
       "      <td>volkswagen</td>\n",
       "      <td>no</td>\n",
       "      <td>0</td>\n",
       "    </tr>\n",
       "    <tr>\n",
       "      <td>4</td>\n",
       "      <td>small</td>\n",
       "      <td>2008</td>\n",
       "      <td>manual</td>\n",
       "      <td>69</td>\n",
       "      <td>fabia</td>\n",
       "      <td>90000</td>\n",
       "      <td>gasoline</td>\n",
       "      <td>skoda</td>\n",
       "      <td>no</td>\n",
       "      <td>0</td>\n",
       "    </tr>\n",
       "    <tr>\n",
       "      <td>5</td>\n",
       "      <td>sedan</td>\n",
       "      <td>1995</td>\n",
       "      <td>manual</td>\n",
       "      <td>102</td>\n",
       "      <td>3er</td>\n",
       "      <td>150000</td>\n",
       "      <td>petrol</td>\n",
       "      <td>bmw</td>\n",
       "      <td>yes</td>\n",
       "      <td>0</td>\n",
       "    </tr>\n",
       "  </tbody>\n",
       "</table>\n",
       "</div>"
      ],
      "text/plain": [
       "  vehicletype  registrationyear gearbox  power  model  kilometer  fueltype  \\\n",
       "0     unknown              1993  manual      0   golf     150000    petrol   \n",
       "2         suv              2004    auto    163  grand     125000  gasoline   \n",
       "3       small              2001  manual     75   golf     150000    petrol   \n",
       "4       small              2008  manual     69  fabia      90000  gasoline   \n",
       "5       sedan              1995  manual    102    3er     150000    petrol   \n",
       "\n",
       "        brand notrepaired  numberofpictures  \n",
       "0  volkswagen          no                 0  \n",
       "2        jeep          no                 0  \n",
       "3  volkswagen          no                 0  \n",
       "4       skoda          no                 0  \n",
       "5         bmw         yes                 0  "
      ]
     },
     "metadata": {},
     "output_type": "display_data"
    }
   ],
   "source": [
    "display(features.head())"
   ]
  },
  {
   "cell_type": "markdown",
   "metadata": {},
   "source": [
    "Зафиксируем данные (ЭТАП 1) после удаления nan, но до введения dummies (это нужно чтоб потом вытащить их для CatBoost)"
   ]
  },
  {
   "cell_type": "code",
   "execution_count": 8,
   "metadata": {},
   "outputs": [],
   "source": [
    "features_smart = features"
   ]
  },
  {
   "cell_type": "markdown",
   "metadata": {},
   "source": [
    "Подготовим строковые данные к обработке"
   ]
  },
  {
   "cell_type": "code",
   "execution_count": 9,
   "metadata": {},
   "outputs": [],
   "source": [
    "features = pd.get_dummies(features, drop_first = True)"
   ]
  },
  {
   "cell_type": "code",
   "execution_count": 10,
   "metadata": {},
   "outputs": [
    {
     "data": {
      "text/html": [
       "<div>\n",
       "<style scoped>\n",
       "    .dataframe tbody tr th:only-of-type {\n",
       "        vertical-align: middle;\n",
       "    }\n",
       "\n",
       "    .dataframe tbody tr th {\n",
       "        vertical-align: top;\n",
       "    }\n",
       "\n",
       "    .dataframe thead th {\n",
       "        text-align: right;\n",
       "    }\n",
       "</style>\n",
       "<table border=\"1\" class=\"dataframe\">\n",
       "  <thead>\n",
       "    <tr style=\"text-align: right;\">\n",
       "      <th></th>\n",
       "      <th>registrationyear</th>\n",
       "      <th>power</th>\n",
       "      <th>kilometer</th>\n",
       "      <th>numberofpictures</th>\n",
       "      <th>vehicletype_convertible</th>\n",
       "      <th>vehicletype_coupe</th>\n",
       "      <th>vehicletype_other</th>\n",
       "      <th>vehicletype_sedan</th>\n",
       "      <th>vehicletype_small</th>\n",
       "      <th>vehicletype_suv</th>\n",
       "      <th>...</th>\n",
       "      <th>brand_seat</th>\n",
       "      <th>brand_skoda</th>\n",
       "      <th>brand_smart</th>\n",
       "      <th>brand_subaru</th>\n",
       "      <th>brand_suzuki</th>\n",
       "      <th>brand_toyota</th>\n",
       "      <th>brand_trabant</th>\n",
       "      <th>brand_volkswagen</th>\n",
       "      <th>brand_volvo</th>\n",
       "      <th>notrepaired_yes</th>\n",
       "    </tr>\n",
       "  </thead>\n",
       "  <tbody>\n",
       "    <tr>\n",
       "      <td>0</td>\n",
       "      <td>1993</td>\n",
       "      <td>0</td>\n",
       "      <td>150000</td>\n",
       "      <td>0</td>\n",
       "      <td>0</td>\n",
       "      <td>0</td>\n",
       "      <td>0</td>\n",
       "      <td>0</td>\n",
       "      <td>0</td>\n",
       "      <td>0</td>\n",
       "      <td>...</td>\n",
       "      <td>0</td>\n",
       "      <td>0</td>\n",
       "      <td>0</td>\n",
       "      <td>0</td>\n",
       "      <td>0</td>\n",
       "      <td>0</td>\n",
       "      <td>0</td>\n",
       "      <td>1</td>\n",
       "      <td>0</td>\n",
       "      <td>0</td>\n",
       "    </tr>\n",
       "    <tr>\n",
       "      <td>2</td>\n",
       "      <td>2004</td>\n",
       "      <td>163</td>\n",
       "      <td>125000</td>\n",
       "      <td>0</td>\n",
       "      <td>0</td>\n",
       "      <td>0</td>\n",
       "      <td>0</td>\n",
       "      <td>0</td>\n",
       "      <td>0</td>\n",
       "      <td>1</td>\n",
       "      <td>...</td>\n",
       "      <td>0</td>\n",
       "      <td>0</td>\n",
       "      <td>0</td>\n",
       "      <td>0</td>\n",
       "      <td>0</td>\n",
       "      <td>0</td>\n",
       "      <td>0</td>\n",
       "      <td>0</td>\n",
       "      <td>0</td>\n",
       "      <td>0</td>\n",
       "    </tr>\n",
       "    <tr>\n",
       "      <td>3</td>\n",
       "      <td>2001</td>\n",
       "      <td>75</td>\n",
       "      <td>150000</td>\n",
       "      <td>0</td>\n",
       "      <td>0</td>\n",
       "      <td>0</td>\n",
       "      <td>0</td>\n",
       "      <td>0</td>\n",
       "      <td>1</td>\n",
       "      <td>0</td>\n",
       "      <td>...</td>\n",
       "      <td>0</td>\n",
       "      <td>0</td>\n",
       "      <td>0</td>\n",
       "      <td>0</td>\n",
       "      <td>0</td>\n",
       "      <td>0</td>\n",
       "      <td>0</td>\n",
       "      <td>1</td>\n",
       "      <td>0</td>\n",
       "      <td>0</td>\n",
       "    </tr>\n",
       "    <tr>\n",
       "      <td>4</td>\n",
       "      <td>2008</td>\n",
       "      <td>69</td>\n",
       "      <td>90000</td>\n",
       "      <td>0</td>\n",
       "      <td>0</td>\n",
       "      <td>0</td>\n",
       "      <td>0</td>\n",
       "      <td>0</td>\n",
       "      <td>1</td>\n",
       "      <td>0</td>\n",
       "      <td>...</td>\n",
       "      <td>0</td>\n",
       "      <td>1</td>\n",
       "      <td>0</td>\n",
       "      <td>0</td>\n",
       "      <td>0</td>\n",
       "      <td>0</td>\n",
       "      <td>0</td>\n",
       "      <td>0</td>\n",
       "      <td>0</td>\n",
       "      <td>0</td>\n",
       "    </tr>\n",
       "    <tr>\n",
       "      <td>5</td>\n",
       "      <td>1995</td>\n",
       "      <td>102</td>\n",
       "      <td>150000</td>\n",
       "      <td>0</td>\n",
       "      <td>0</td>\n",
       "      <td>0</td>\n",
       "      <td>0</td>\n",
       "      <td>1</td>\n",
       "      <td>0</td>\n",
       "      <td>0</td>\n",
       "      <td>...</td>\n",
       "      <td>0</td>\n",
       "      <td>0</td>\n",
       "      <td>0</td>\n",
       "      <td>0</td>\n",
       "      <td>0</td>\n",
       "      <td>0</td>\n",
       "      <td>0</td>\n",
       "      <td>0</td>\n",
       "      <td>0</td>\n",
       "      <td>1</td>\n",
       "    </tr>\n",
       "  </tbody>\n",
       "</table>\n",
       "<p>5 rows × 309 columns</p>\n",
       "</div>"
      ],
      "text/plain": [
       "   registrationyear  power  kilometer  numberofpictures  \\\n",
       "0              1993      0     150000                 0   \n",
       "2              2004    163     125000                 0   \n",
       "3              2001     75     150000                 0   \n",
       "4              2008     69      90000                 0   \n",
       "5              1995    102     150000                 0   \n",
       "\n",
       "   vehicletype_convertible  vehicletype_coupe  vehicletype_other  \\\n",
       "0                        0                  0                  0   \n",
       "2                        0                  0                  0   \n",
       "3                        0                  0                  0   \n",
       "4                        0                  0                  0   \n",
       "5                        0                  0                  0   \n",
       "\n",
       "   vehicletype_sedan  vehicletype_small  vehicletype_suv  ...  brand_seat  \\\n",
       "0                  0                  0                0  ...           0   \n",
       "2                  0                  0                1  ...           0   \n",
       "3                  0                  1                0  ...           0   \n",
       "4                  0                  1                0  ...           0   \n",
       "5                  1                  0                0  ...           0   \n",
       "\n",
       "   brand_skoda  brand_smart  brand_subaru  brand_suzuki  brand_toyota  \\\n",
       "0            0            0             0             0             0   \n",
       "2            0            0             0             0             0   \n",
       "3            0            0             0             0             0   \n",
       "4            1            0             0             0             0   \n",
       "5            0            0             0             0             0   \n",
       "\n",
       "   brand_trabant  brand_volkswagen  brand_volvo  notrepaired_yes  \n",
       "0              0                 1            0                0  \n",
       "2              0                 0            0                0  \n",
       "3              0                 1            0                0  \n",
       "4              0                 0            0                0  \n",
       "5              0                 0            0                1  \n",
       "\n",
       "[5 rows x 309 columns]"
      ]
     },
     "metadata": {},
     "output_type": "display_data"
    }
   ],
   "source": [
    "display(features.head())"
   ]
  },
  {
   "cell_type": "markdown",
   "metadata": {},
   "source": [
    "Разобъем таблицу с фичами на обучающую и тестувую части в соответстви 80 / 20"
   ]
  },
  {
   "cell_type": "code",
   "execution_count": 11,
   "metadata": {},
   "outputs": [],
   "source": [
    "features_train, x = train_test_split(features, test_size = 0.4, random_state=12345)\n",
    "features_valid, features_test = train_test_split(x, test_size = 0.5, random_state=12345)\n",
    "target_train = target[features_train.index]\n",
    "target_valid = target[features_valid.index]\n",
    "target_test = target[features_test.index]"
   ]
  },
  {
   "cell_type": "markdown",
   "metadata": {},
   "source": [
    "Зафиксируем данные (ЭТАП 2) это нужно чтоб потом вытащить их для CatBoost"
   ]
  },
  {
   "cell_type": "code",
   "execution_count": 12,
   "metadata": {},
   "outputs": [],
   "source": [
    "features_train_smart = pd.DataFrame(features_smart, index = features_train.index)\n",
    "features_valid_smart = pd.DataFrame(features_smart, index = features_valid.index)\n",
    "features_test_smart = pd.DataFrame(features_smart, index = features_test.index)"
   ]
  },
  {
   "cell_type": "code",
   "execution_count": 13,
   "metadata": {},
   "outputs": [
    {
     "data": {
      "text/html": [
       "<div>\n",
       "<style scoped>\n",
       "    .dataframe tbody tr th:only-of-type {\n",
       "        vertical-align: middle;\n",
       "    }\n",
       "\n",
       "    .dataframe tbody tr th {\n",
       "        vertical-align: top;\n",
       "    }\n",
       "\n",
       "    .dataframe thead th {\n",
       "        text-align: right;\n",
       "    }\n",
       "</style>\n",
       "<table border=\"1\" class=\"dataframe\">\n",
       "  <thead>\n",
       "    <tr style=\"text-align: right;\">\n",
       "      <th></th>\n",
       "      <th>vehicletype</th>\n",
       "      <th>registrationyear</th>\n",
       "      <th>gearbox</th>\n",
       "      <th>power</th>\n",
       "      <th>model</th>\n",
       "      <th>kilometer</th>\n",
       "      <th>fueltype</th>\n",
       "      <th>brand</th>\n",
       "      <th>notrepaired</th>\n",
       "      <th>numberofpictures</th>\n",
       "    </tr>\n",
       "  </thead>\n",
       "  <tbody>\n",
       "    <tr>\n",
       "      <td>68787</td>\n",
       "      <td>suv</td>\n",
       "      <td>2006</td>\n",
       "      <td>auto</td>\n",
       "      <td>232</td>\n",
       "      <td>q7</td>\n",
       "      <td>150000</td>\n",
       "      <td>gasoline</td>\n",
       "      <td>audi</td>\n",
       "      <td>no</td>\n",
       "      <td>0</td>\n",
       "    </tr>\n",
       "    <tr>\n",
       "      <td>318690</td>\n",
       "      <td>coupe</td>\n",
       "      <td>1989</td>\n",
       "      <td>manual</td>\n",
       "      <td>124</td>\n",
       "      <td>other</td>\n",
       "      <td>150000</td>\n",
       "      <td>petrol</td>\n",
       "      <td>honda</td>\n",
       "      <td>no</td>\n",
       "      <td>0</td>\n",
       "    </tr>\n",
       "    <tr>\n",
       "      <td>28935</td>\n",
       "      <td>small</td>\n",
       "      <td>2008</td>\n",
       "      <td>manual</td>\n",
       "      <td>75</td>\n",
       "      <td>colt</td>\n",
       "      <td>125000</td>\n",
       "      <td>petrol</td>\n",
       "      <td>mitsubishi</td>\n",
       "      <td>no</td>\n",
       "      <td>0</td>\n",
       "    </tr>\n",
       "    <tr>\n",
       "      <td>109327</td>\n",
       "      <td>wagon</td>\n",
       "      <td>1996</td>\n",
       "      <td>auto</td>\n",
       "      <td>197</td>\n",
       "      <td>e_klasse</td>\n",
       "      <td>150000</td>\n",
       "      <td>petrol</td>\n",
       "      <td>mercedes_benz</td>\n",
       "      <td>no</td>\n",
       "      <td>0</td>\n",
       "    </tr>\n",
       "    <tr>\n",
       "      <td>211417</td>\n",
       "      <td>wagon</td>\n",
       "      <td>1999</td>\n",
       "      <td>manual</td>\n",
       "      <td>82</td>\n",
       "      <td>astra</td>\n",
       "      <td>5000</td>\n",
       "      <td>gasoline</td>\n",
       "      <td>opel</td>\n",
       "      <td>no</td>\n",
       "      <td>0</td>\n",
       "    </tr>\n",
       "  </tbody>\n",
       "</table>\n",
       "</div>"
      ],
      "text/plain": [
       "       vehicletype  registrationyear gearbox  power     model  kilometer  \\\n",
       "68787          suv              2006    auto    232        q7     150000   \n",
       "318690       coupe              1989  manual    124     other     150000   \n",
       "28935        small              2008  manual     75      colt     125000   \n",
       "109327       wagon              1996    auto    197  e_klasse     150000   \n",
       "211417       wagon              1999  manual     82     astra       5000   \n",
       "\n",
       "        fueltype          brand notrepaired  numberofpictures  \n",
       "68787   gasoline           audi          no                 0  \n",
       "318690    petrol          honda          no                 0  \n",
       "28935     petrol     mitsubishi          no                 0  \n",
       "109327    petrol  mercedes_benz          no                 0  \n",
       "211417  gasoline           opel          no                 0  "
      ]
     },
     "metadata": {},
     "output_type": "display_data"
    }
   ],
   "source": [
    "display(features_train_smart.head())"
   ]
  },
  {
   "cell_type": "markdown",
   "metadata": {},
   "source": [
    "Сделаем приближенные к реальным условия, обучим скалер только на трейновой ваборке, а применим ко всему датасету"
   ]
  },
  {
   "cell_type": "code",
   "execution_count": 14,
   "metadata": {},
   "outputs": [],
   "source": [
    "scaler = StandardScaler()\n",
    "scaler.fit(features_train)\n",
    "features_train = scaler.transform(features_train)\n",
    "features_valid = scaler.transform(features_valid)\n",
    "features_test = scaler.transform(features_test)"
   ]
  },
  {
   "cell_type": "markdown",
   "metadata": {},
   "source": [
    "### Обучение моделей"
   ]
  },
  {
   "cell_type": "markdown",
   "metadata": {},
   "source": [
    "Модель линейной регрессии"
   ]
  },
  {
   "cell_type": "code",
   "execution_count": 15,
   "metadata": {},
   "outputs": [
    {
     "name": "stdout",
     "output_type": "stream",
     "text": [
      "RMSE простой модели линейной регрессии 3185\n",
      "CPU times: user 13.5 s, sys: 4.47 s, total: 18 s\n",
      "Wall time: 18 s\n"
     ]
    }
   ],
   "source": [
    "%%time\n",
    "model_regr = LinearRegression()\n",
    "model_regr.fit(features_train,target_train)\n",
    "answer_model_regr = model_regr.predict(features_valid)\n",
    "rmse_model_regr = (mean_squared_error(answer_model_regr, target_valid))**0.5\n",
    "print('RMSE простой модели линейной регрессии {:.0f}'.format(rmse_model_regr))"
   ]
  },
  {
   "cell_type": "markdown",
   "metadata": {},
   "source": [
    "Модель дерева решений"
   ]
  },
  {
   "cell_type": "code",
   "execution_count": 16,
   "metadata": {},
   "outputs": [
    {
     "name": "stdout",
     "output_type": "stream",
     "text": [
      "RMSE простой модели дерева 1966\n",
      "CPU times: user 6.25 s, sys: 0 ns, total: 6.25 s\n",
      "Wall time: 6.43 s\n"
     ]
    }
   ],
   "source": [
    "%%time\n",
    "model_tree = DecisionTreeRegressor(random_state = 12345, max_depth = 19)\n",
    "model_tree.fit(features_train,target_train)\n",
    "answer_model_tree = model_tree.predict(features_valid)\n",
    "rmse_model_tree = (mean_squared_error(answer_model_tree, target_valid))**0.5\n",
    "print('RMSE простой модели дерева {:.0f}'.format(rmse_model_tree))"
   ]
  },
  {
   "cell_type": "markdown",
   "metadata": {},
   "source": [
    "Модель случайного леса"
   ]
  },
  {
   "cell_type": "code",
   "execution_count": 17,
   "metadata": {},
   "outputs": [
    {
     "name": "stdout",
     "output_type": "stream",
     "text": [
      "RMSE простой модели леса деревьев 1735\n",
      "CPU times: user 1min 51s, sys: 0 ns, total: 1min 51s\n",
      "Wall time: 1min 52s\n"
     ]
    }
   ],
   "source": [
    "%%time\n",
    "model_forest = RandomForestRegressor(random_state = 12345, max_depth = 21,n_estimators = 27)\n",
    "model_forest.fit(features_train,target_train)\n",
    "answer_model_forest = model_forest.predict(features_valid)\n",
    "rmse_model_forest = (mean_squared_error(answer_model_forest, target_valid))**0.5\n",
    "print('RMSE простой модели леса деревьев {:.0f}'.format(rmse_model_forest))"
   ]
  },
  {
   "cell_type": "markdown",
   "metadata": {},
   "source": [
    "Средство библиотеки LightGBM"
   ]
  },
  {
   "cell_type": "code",
   "execution_count": 18,
   "metadata": {},
   "outputs": [
    {
     "name": "stdout",
     "output_type": "stream",
     "text": [
      "RMSE библиотеки lightgbm 1755\n",
      "CPU times: user 31.4 s, sys: 311 ms, total: 31.7 s\n",
      "Wall time: 31.9 s\n"
     ]
    }
   ],
   "source": [
    "%%time\n",
    "#Создадим датасет для lightgbm\n",
    "lgb_train = lgb.Dataset(features_train, target_train)\n",
    "\n",
    "params = {\n",
    "    'boosting_type': 'gbdt',\n",
    "    'objective': 'regression',\n",
    "    'metric': {'l2', 'l1'},\n",
    "    'num_leaves': 31,\n",
    "    'learning_rate': 0.3\n",
    "}\n",
    "gbm = lgb.train(params, lgb_train, num_boost_round = 75)\n",
    "answer_lgb = gbm.predict(features_valid, num_iteration=gbm.best_iteration)\n",
    "rmse_lgb = (mean_squared_error(answer_lgb, target_valid))**0.5\n",
    "print('RMSE библиотеки lightgbm {:.0f}'.format(rmse_lgb))"
   ]
  },
  {
   "cell_type": "markdown",
   "metadata": {},
   "source": [
    "Средство библиотеки CatBoost"
   ]
  },
  {
   "cell_type": "code",
   "execution_count": 19,
   "metadata": {},
   "outputs": [
    {
     "name": "stdout",
     "output_type": "stream",
     "text": [
      "0:\tlearn: 3451.3129546\ttotal: 824ms\tremaining: 2m 43s\n",
      "10:\tlearn: 1899.4112738\ttotal: 7.82s\tremaining: 2m 14s\n",
      "20:\tlearn: 1786.7276577\ttotal: 14.7s\tremaining: 2m 5s\n",
      "30:\tlearn: 1739.7502443\ttotal: 22s\tremaining: 1m 59s\n",
      "40:\tlearn: 1703.6033450\ttotal: 29.1s\tremaining: 1m 52s\n",
      "50:\tlearn: 1674.0806797\ttotal: 36.6s\tremaining: 1m 46s\n",
      "60:\tlearn: 1649.7391910\ttotal: 44.6s\tremaining: 1m 41s\n",
      "70:\tlearn: 1623.2694631\ttotal: 52s\tremaining: 1m 34s\n",
      "80:\tlearn: 1604.1185489\ttotal: 59.3s\tremaining: 1m 27s\n",
      "90:\tlearn: 1591.7761132\ttotal: 1m 6s\tremaining: 1m 20s\n",
      "100:\tlearn: 1580.6616186\ttotal: 1m 14s\tremaining: 1m 13s\n",
      "110:\tlearn: 1563.0923031\ttotal: 1m 22s\tremaining: 1m 5s\n",
      "120:\tlearn: 1553.7441266\ttotal: 1m 29s\tremaining: 58.5s\n",
      "130:\tlearn: 1546.3408747\ttotal: 1m 37s\tremaining: 51.4s\n",
      "140:\tlearn: 1535.0731030\ttotal: 1m 45s\tremaining: 44.3s\n",
      "150:\tlearn: 1526.5695359\ttotal: 1m 53s\tremaining: 36.7s\n",
      "160:\tlearn: 1520.7204736\ttotal: 2m\tremaining: 29.3s\n",
      "170:\tlearn: 1512.4108439\ttotal: 2m 8s\tremaining: 21.8s\n",
      "180:\tlearn: 1502.6412177\ttotal: 2m 16s\tremaining: 14.3s\n",
      "190:\tlearn: 1490.2139970\ttotal: 2m 24s\tremaining: 6.79s\n",
      "199:\tlearn: 1483.0598545\ttotal: 2m 31s\tremaining: 0us\n",
      "RMSE библиотеки CatBoost 1678\n",
      "CPU times: user 2min 22s, sys: 10.8 s, total: 2min 32s\n",
      "Wall time: 2min 34s\n"
     ]
    }
   ],
   "source": [
    "%%time\n",
    "model_catboost = CatBoostRegressor(iterations=200, learning_rate = 0.35, depth = 10)\n",
    "model_catboost.fit(features_train_smart, target_train, cat_features=cat_features, verbose=10)\n",
    "answer_model_catboost = model_catboost.predict(features_valid_smart)\n",
    "rmse_model_catboost = (mean_squared_error(answer_model_catboost, target_valid))**0.5\n",
    "answer_model_catboost_test = model_catboost.predict(features_test_smart)\n",
    "print('RMSE библиотеки CatBoost {:.0f}'.format(rmse_model_catboost))"
   ]
  },
  {
   "cell_type": "markdown",
   "metadata": {},
   "source": [
    "### Таблица с параметрами и характеристиками всех моделей"
   ]
  },
  {
   "cell_type": "code",
   "execution_count": 20,
   "metadata": {},
   "outputs": [
    {
     "data": {
      "text/html": [
       "<div>\n",
       "<style scoped>\n",
       "    .dataframe tbody tr th:only-of-type {\n",
       "        vertical-align: middle;\n",
       "    }\n",
       "\n",
       "    .dataframe tbody tr th {\n",
       "        vertical-align: top;\n",
       "    }\n",
       "\n",
       "    .dataframe thead th {\n",
       "        text-align: right;\n",
       "    }\n",
       "</style>\n",
       "<table border=\"1\" class=\"dataframe\">\n",
       "  <thead>\n",
       "    <tr style=\"text-align: right;\">\n",
       "      <th></th>\n",
       "      <th>модель</th>\n",
       "      <th>гиперпараметры</th>\n",
       "      <th>метрика</th>\n",
       "      <th>показатель_метрики</th>\n",
       "      <th>время_обучения/ответа</th>\n",
       "    </tr>\n",
       "  </thead>\n",
       "  <tbody>\n",
       "    <tr>\n",
       "      <td>0</td>\n",
       "      <td>Модель линейной регрессии</td>\n",
       "      <td>не_менялись</td>\n",
       "      <td>RMSE</td>\n",
       "      <td>3184.715388</td>\n",
       "      <td>Wall time: 21.9 s</td>\n",
       "    </tr>\n",
       "    <tr>\n",
       "      <td>1</td>\n",
       "      <td>Модель дерева решений</td>\n",
       "      <td>max_depth = 19</td>\n",
       "      <td>RMSE</td>\n",
       "      <td>1966.230381</td>\n",
       "      <td>Wall time: 6.92 s</td>\n",
       "    </tr>\n",
       "    <tr>\n",
       "      <td>2</td>\n",
       "      <td>Модель случайного леса</td>\n",
       "      <td>max_depth = 21,n_estimators = 27</td>\n",
       "      <td>RMSE</td>\n",
       "      <td>1735.389011</td>\n",
       "      <td>Wall time: 2min 12s</td>\n",
       "    </tr>\n",
       "    <tr>\n",
       "      <td>3</td>\n",
       "      <td>Средство библиотеки LightGBM</td>\n",
       "      <td>{'boosting_type': 'gbdt', 'objective': 'regres...</td>\n",
       "      <td>RMSE</td>\n",
       "      <td>1755.489824</td>\n",
       "      <td>Wall time: 51.2 s</td>\n",
       "    </tr>\n",
       "    <tr>\n",
       "      <td>4</td>\n",
       "      <td>Средство библиотеки CatBoost</td>\n",
       "      <td>iterations=200, learning_rate = 0.35, depth = 10</td>\n",
       "      <td>RMSE</td>\n",
       "      <td>1678.355787</td>\n",
       "      <td>Wall time: 4min 10s</td>\n",
       "    </tr>\n",
       "  </tbody>\n",
       "</table>\n",
       "</div>"
      ],
      "text/plain": [
       "                         модель  \\\n",
       "0     Модель линейной регрессии   \n",
       "1         Модель дерева решений   \n",
       "2        Модель случайного леса   \n",
       "3  Средство библиотеки LightGBM   \n",
       "4  Средство библиотеки CatBoost   \n",
       "\n",
       "                                      гиперпараметры метрика  \\\n",
       "0                                        не_менялись    RMSE   \n",
       "1                                     max_depth = 19    RMSE   \n",
       "2                   max_depth = 21,n_estimators = 27    RMSE   \n",
       "3  {'boosting_type': 'gbdt', 'objective': 'regres...    RMSE   \n",
       "4   iterations=200, learning_rate = 0.35, depth = 10    RMSE   \n",
       "\n",
       "   показатель_метрики время_обучения/ответа  \n",
       "0         3184.715388     Wall time: 21.9 s  \n",
       "1         1966.230381     Wall time: 6.92 s  \n",
       "2         1735.389011   Wall time: 2min 12s  \n",
       "3         1755.489824     Wall time: 51.2 s  \n",
       "4         1678.355787   Wall time: 4min 10s  "
      ]
     },
     "metadata": {},
     "output_type": "display_data"
    }
   ],
   "source": [
    "result = pd.DataFrame(\n",
    " [['Модель линейной регрессии','не_менялись','RMSE',rmse_model_regr,'Wall time: 21.9 s'],\n",
    " ['Модель дерева решений','max_depth = 19','RMSE',rmse_model_tree,'Wall time: 6.92 s'],\n",
    " ['Модель случайного леса','max_depth = 21,n_estimators = 27','RMSE',rmse_model_forest,'Wall time: 2min 12s'],\n",
    " ['Средство библиотеки LightGBM',params,'RMSE', rmse_lgb,'Wall time: 51.2 s'],\n",
    " ['Средство библиотеки CatBoost','iterations=200, learning_rate = 0.35, depth = 10','RMSE',rmse_model_catboost,'Wall time: 4min 10s']], \n",
    " columns = ['модель','гиперпараметры','метрика','показатель_метрики','время_обучения/ответа'])\n",
    "display(result)"
   ]
  },
  {
   "cell_type": "markdown",
   "metadata": {},
   "source": [
    "### Анализ моделей"
   ]
  },
  {
   "cell_type": "markdown",
   "metadata": {},
   "source": [
    "Поскольку заказчику важна скорость обучения/предсказаний, настройки всех моделей проводилась со следующей логикой: изменялись гиперпараметры и замерялась метрика RMSE, как только разница становилась незначительна (на 10 пунктов RMSE относительно предыдущего результата RMSE с предыдущим значением гиперпараметра) - изменения останавливались и гиперпараметр фиксировался<br> \n",
    "Наилучшим образом показала себя средство библиотеки CatBoost, сильно опережая остальных по качество (но правда и самое долгое)"
   ]
  },
  {
   "cell_type": "markdown",
   "metadata": {},
   "source": [
    "> Средство библиотеки CatBoost, показавшее наилучшее качество, испытаем на тестовой выборке"
   ]
  },
  {
   "cell_type": "code",
   "execution_count": 21,
   "metadata": {},
   "outputs": [
    {
     "name": "stdout",
     "output_type": "stream",
     "text": [
      "Финальный проверочный RMSE библиотеки CatBoost на тестовой выборке 1726\n",
      "CPU times: user 423 ms, sys: 10.3 ms, total: 433 ms\n",
      "Wall time: 402 ms\n"
     ]
    }
   ],
   "source": [
    "%%time\n",
    "answer_model_catboost_test = model_catboost.predict(features_test_smart)\n",
    "rmse_model_catboost_test = (mean_squared_error(answer_model_catboost_test, target_test))**0.5\n",
    "print('Финальный проверочный RMSE библиотеки CatBoost на тестовой выборке {:.0f}'.format(rmse_model_catboost_test))"
   ]
  }
 ],
 "metadata": {
  "ExecuteTimeLog": [
   {
    "duration": 302,
    "start_time": "2021-07-16T09:15:30.085Z"
   },
   {
    "duration": 4221,
    "start_time": "2021-07-16T09:15:32.563Z"
   },
   {
    "duration": 719,
    "start_time": "2021-07-16T09:15:36.785Z"
   },
   {
    "duration": 17,
    "start_time": "2021-07-16T09:15:37.506Z"
   },
   {
    "duration": 264,
    "start_time": "2021-07-16T09:16:12.116Z"
   },
   {
    "duration": 286,
    "start_time": "2021-07-16T09:16:16.133Z"
   },
   {
    "duration": 286,
    "start_time": "2021-07-16T09:16:16.503Z"
   },
   {
    "duration": 232,
    "start_time": "2021-07-16T09:16:32.120Z"
   },
   {
    "duration": 3,
    "start_time": "2021-07-16T09:17:19.794Z"
   },
   {
    "duration": 735,
    "start_time": "2021-07-16T09:17:19.799Z"
   },
   {
    "duration": 11,
    "start_time": "2021-07-16T09:17:20.536Z"
   },
   {
    "duration": 14,
    "start_time": "2021-07-16T09:17:20.548Z"
   },
   {
    "duration": 90,
    "start_time": "2021-07-16T09:17:20.563Z"
   },
   {
    "duration": 101,
    "start_time": "2021-07-16T09:17:20.654Z"
   },
   {
    "duration": 10,
    "start_time": "2021-07-16T09:17:20.756Z"
   },
   {
    "duration": 4,
    "start_time": "2021-07-16T09:17:20.768Z"
   },
   {
    "duration": 674,
    "start_time": "2021-07-16T09:17:20.775Z"
   },
   {
    "duration": 14,
    "start_time": "2021-07-16T09:17:21.451Z"
   },
   {
    "duration": 1006,
    "start_time": "2021-07-16T09:17:21.467Z"
   },
   {
    "duration": 79,
    "start_time": "2021-07-16T09:17:22.475Z"
   },
   {
    "duration": 10,
    "start_time": "2021-07-16T09:17:22.556Z"
   },
   {
    "duration": 2613,
    "start_time": "2021-07-16T09:17:22.567Z"
   },
   {
    "duration": 232,
    "start_time": "2021-07-16T09:17:25.182Z"
   },
   {
    "duration": -3370,
    "start_time": "2021-07-16T09:17:28.786Z"
   },
   {
    "duration": -3385,
    "start_time": "2021-07-16T09:17:28.801Z"
   },
   {
    "duration": -3389,
    "start_time": "2021-07-16T09:17:28.806Z"
   },
   {
    "duration": -3408,
    "start_time": "2021-07-16T09:17:28.826Z"
   },
   {
    "duration": -3411,
    "start_time": "2021-07-16T09:17:28.830Z"
   },
   {
    "duration": -3413,
    "start_time": "2021-07-16T09:17:28.833Z"
   },
   {
    "duration": -3418,
    "start_time": "2021-07-16T09:17:28.839Z"
   },
   {
    "duration": 4,
    "start_time": "2021-07-16T09:17:39.823Z"
   },
   {
    "duration": 709,
    "start_time": "2021-07-16T09:17:39.829Z"
   },
   {
    "duration": 13,
    "start_time": "2021-07-16T09:17:40.540Z"
   },
   {
    "duration": 5,
    "start_time": "2021-07-16T09:17:40.555Z"
   },
   {
    "duration": 96,
    "start_time": "2021-07-16T09:17:40.562Z"
   },
   {
    "duration": 89,
    "start_time": "2021-07-16T09:17:40.659Z"
   },
   {
    "duration": 9,
    "start_time": "2021-07-16T09:17:40.750Z"
   },
   {
    "duration": 7,
    "start_time": "2021-07-16T09:17:40.761Z"
   },
   {
    "duration": 686,
    "start_time": "2021-07-16T09:17:40.770Z"
   },
   {
    "duration": 13,
    "start_time": "2021-07-16T09:17:41.457Z"
   },
   {
    "duration": 996,
    "start_time": "2021-07-16T09:17:41.471Z"
   },
   {
    "duration": 82,
    "start_time": "2021-07-16T09:17:42.468Z"
   },
   {
    "duration": 10,
    "start_time": "2021-07-16T09:17:42.552Z"
   },
   {
    "duration": 2740,
    "start_time": "2021-07-16T09:17:42.564Z"
   },
   {
    "duration": 17988,
    "start_time": "2021-07-16T09:17:45.305Z"
   },
   {
    "duration": 6209,
    "start_time": "2021-07-16T09:18:03.296Z"
   },
   {
    "duration": 111880,
    "start_time": "2021-07-16T09:18:09.506Z"
   },
   {
    "duration": 31303,
    "start_time": "2021-07-16T09:20:01.391Z"
   },
   {
    "duration": 148997,
    "start_time": "2021-07-16T09:20:32.696Z"
   },
   {
    "duration": 10,
    "start_time": "2021-07-16T09:23:01.694Z"
   },
   {
    "duration": 398,
    "start_time": "2021-07-16T09:23:01.705Z"
   },
   {
    "duration": 3,
    "start_time": "2021-07-16T09:26:54.182Z"
   },
   {
    "duration": 724,
    "start_time": "2021-07-16T09:26:54.187Z"
   },
   {
    "duration": 13,
    "start_time": "2021-07-16T09:26:54.914Z"
   },
   {
    "duration": 5,
    "start_time": "2021-07-16T09:26:54.929Z"
   },
   {
    "duration": 109,
    "start_time": "2021-07-16T09:26:54.935Z"
   },
   {
    "duration": 106,
    "start_time": "2021-07-16T09:26:55.046Z"
   },
   {
    "duration": 10,
    "start_time": "2021-07-16T09:26:55.154Z"
   },
   {
    "duration": 6,
    "start_time": "2021-07-16T09:26:55.167Z"
   },
   {
    "duration": 716,
    "start_time": "2021-07-16T09:26:55.175Z"
   },
   {
    "duration": 13,
    "start_time": "2021-07-16T09:26:55.893Z"
   },
   {
    "duration": 1060,
    "start_time": "2021-07-16T09:26:55.907Z"
   },
   {
    "duration": 80,
    "start_time": "2021-07-16T09:26:56.969Z"
   },
   {
    "duration": 9,
    "start_time": "2021-07-16T09:26:57.051Z"
   },
   {
    "duration": 2236,
    "start_time": "2021-07-16T09:26:57.062Z"
   },
   {
    "duration": 19494,
    "start_time": "2021-07-16T09:26:59.299Z"
   },
   {
    "duration": 6434,
    "start_time": "2021-07-16T09:27:18.795Z"
   },
   {
    "duration": 1009,
    "start_time": "2021-07-16T09:34:10.748Z"
   },
   {
    "duration": 1056,
    "start_time": "2021-07-16T09:34:16.497Z"
   },
   {
    "duration": 701,
    "start_time": "2021-07-16T09:34:17.555Z"
   },
   {
    "duration": 18,
    "start_time": "2021-07-16T09:34:18.258Z"
   },
   {
    "duration": 4,
    "start_time": "2021-07-16T09:34:18.277Z"
   },
   {
    "duration": 100,
    "start_time": "2021-07-16T09:34:18.291Z"
   },
   {
    "duration": 105,
    "start_time": "2021-07-16T09:34:18.393Z"
   },
   {
    "duration": 8,
    "start_time": "2021-07-16T09:34:18.500Z"
   },
   {
    "duration": 5,
    "start_time": "2021-07-16T09:34:18.510Z"
   },
   {
    "duration": 684,
    "start_time": "2021-07-16T09:34:18.517Z"
   },
   {
    "duration": 12,
    "start_time": "2021-07-16T09:34:19.203Z"
   },
   {
    "duration": 993,
    "start_time": "2021-07-16T09:34:19.217Z"
   },
   {
    "duration": 87,
    "start_time": "2021-07-16T09:34:20.212Z"
   },
   {
    "duration": 9,
    "start_time": "2021-07-16T09:34:20.301Z"
   },
   {
    "duration": 2617,
    "start_time": "2021-07-16T09:34:20.311Z"
   },
   {
    "duration": 17965,
    "start_time": "2021-07-16T09:34:22.930Z"
   },
   {
    "duration": 6438,
    "start_time": "2021-07-16T09:34:40.897Z"
   },
   {
    "duration": 112477,
    "start_time": "2021-07-16T09:34:47.337Z"
   },
   {
    "duration": 31892,
    "start_time": "2021-07-16T09:36:39.816Z"
   },
   {
    "duration": 154400,
    "start_time": "2021-07-16T09:37:11.709Z"
   },
   {
    "duration": 87,
    "start_time": "2021-07-16T09:39:46.111Z"
   },
   {
    "duration": 408,
    "start_time": "2021-07-16T09:39:46.200Z"
   }
  ],
  "kernelspec": {
   "display_name": "Python 3",
   "language": "python",
   "name": "python3"
  },
  "language_info": {
   "codemirror_mode": {
    "name": "ipython",
    "version": 3
   },
   "file_extension": ".py",
   "mimetype": "text/x-python",
   "name": "python",
   "nbconvert_exporter": "python",
   "pygments_lexer": "ipython3",
   "version": "3.8.5"
  },
  "toc": {
   "base_numbering": 1,
   "nav_menu": {},
   "number_sections": true,
   "sideBar": true,
   "skip_h1_title": true,
   "title_cell": "Table of Contents",
   "title_sidebar": "Contents",
   "toc_cell": false,
   "toc_position": {},
   "toc_section_display": true,
   "toc_window_display": false
  }
 },
 "nbformat": 4,
 "nbformat_minor": 2
}
